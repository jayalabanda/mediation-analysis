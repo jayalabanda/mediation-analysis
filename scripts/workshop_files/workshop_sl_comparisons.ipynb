{
 "cells": [
  {
   "cell_type": "markdown",
   "id": "2a0b34da",
   "metadata": {},
   "source": [
    "<strong>Comparaison des méthodes d'apprentissage statistique</strong>"
   ]
  },
  {
   "cell_type": "code",
   "execution_count": null,
   "id": "75acc86d",
   "metadata": {},
   "outputs": [],
   "source": [
    "library(tidyr)\n",
    "library(dplyr)\n",
    "library(ggplot2)\n",
    "library(RColorBrewer)\n",
    "library(gridExtra)\n",
    "library(magrittr)\n",
    "library(stringr)\n",
    "library(tools)\n",
    "library(patchwork)"
   ]
  },
  {
   "cell_type": "code",
   "execution_count": null,
   "id": "8472216d",
   "metadata": {},
   "outputs": [],
   "source": [
    "options(repr.plot.width = 16, repr.plot.height = 12)"
   ]
  },
  {
   "cell_type": "code",
   "execution_count": null,
   "id": "ba0fb637",
   "metadata": {},
   "outputs": [],
   "source": [
    "get_dataframes <- function(estimator, effect, n_sims) {\n",
    "    ## Cette fonction permet de fusionner plusieurs dataframes en un seul\n",
    "    ## afin d'avoir le bon format pour ggplot2\n",
    "    ## arguments:\n",
    "    ##    estimator: estimateur sous forme de chaîne de caractères\n",
    "    ##    effet: effet direct ou indirect au même format\n",
    "    ##    n_sims: vecteur contenant le nombre de simulations\n",
    "    pattern <- paste0(\"^\", estimator, \"_\", effect, \"_\", \"[0-9]\")\n",
    "    my_files <- list.files(pattern = pattern, ignore.case = TRUE)\n",
    "    my_data <- lapply(my_files, read.csv)\n",
    "\n",
    "    big_data <- bind_rows(my_data)\n",
    "    keycol <- \"library\"\n",
    "    valuecol <- \"bias\"\n",
    "    gathercols <- colnames(big_data)\n",
    "\n",
    "    data_long <- gather_(big_data, keycol, valuecol, gathercols)\n",
    "    data_long$n <- c(rep(n_sims[1], n_sims[1]),\n",
    "                     rep(n_sims[2], n_sims[2]),\n",
    "                     rep(n_sims[3], n_sims[3]),\n",
    "                     rep(n_sims[4], n_sims[4]),\n",
    "                     rep(n_sims[5], n_sims[5]))\n",
    "\n",
    "    return(data_long)\n",
    "}"
   ]
  },
  {
   "cell_type": "code",
   "execution_count": null,
   "id": "8aed72be",
   "metadata": {},
   "outputs": [],
   "source": [
    "plot_biases <- function(estimator, effect, n_sims, main) {\n",
    "    data_long <- get_dataframes(estimator, effect, n_sims)\n",
    "\n",
    "    ggplot(data_long, aes(y = bias, fill = library)) +\n",
    "    geom_boxplot() +\n",
    "    geom_hline(yintercept = 0, linetype = \"dashed\",\n",
    "               color = \"black\", size = 1) +\n",
    "    facet_wrap(~n, nrow = 2) +\n",
    "    # guides(fill = guide_legend(ncol = 2)) +\n",
    "    theme(strip.text.x = element_text(size = 12, face = \"bold\"),\n",
    "          legend.position = c(1., .45),\n",
    "          legend.justification = c(\"right\", \"top\"),\n",
    "          legend.box.just = \"right\",\n",
    "          legend.margin = margin(6, 6, 6, 6),\n",
    "          legend.title = element_text(size = 13, face = \"bold\"),\n",
    "          legend.text = element_text(size = 12)) ->\n",
    "    p\n",
    "\n",
    "    return(p)\n",
    "}"
   ]
  },
  {
   "cell_type": "code",
   "execution_count": null,
   "id": "58361b86",
   "metadata": {},
   "outputs": [],
   "source": [
    "n_sims <- c(100, 200, 300, 400, 500)"
   ]
  },
  {
   "cell_type": "markdown",
   "id": "207f10b3",
   "metadata": {},
   "source": [
    "# Données originales"
   ]
  },
  {
   "cell_type": "code",
   "execution_count": null,
   "id": "cbe472d8",
   "metadata": {},
   "outputs": [],
   "source": [
    "p <- plot_biases(\"sde\", \"ws\", n_sims, \"workshop sur SDE\")\n",
    "print(p)\n",
    "ggsave(\"sde_ws.png\")"
   ]
  },
  {
   "cell_type": "code",
   "execution_count": null,
   "id": "907c6dd0",
   "metadata": {},
   "outputs": [],
   "source": [
    "p <- plot_biases(\"sie\", \"ws\", n_sims, \"workshop sur SIE\")\n",
    "print(p)\n",
    "ggsave(\"sie_ws.png\")"
   ]
  },
  {
   "cell_type": "markdown",
   "id": "70c1876b",
   "metadata": {},
   "source": [
    "# Données avec problème de positivité"
   ]
  },
  {
   "cell_type": "code",
   "execution_count": null,
   "id": "ff17b07c",
   "metadata": {},
   "outputs": [],
   "source": [
    "p <- plot_biases(\"sde\", \"ws_posit\", n_sims, \"workshop sur SDE et positivité\")\n",
    "print(p)\n",
    "ggsave(\"sde_ws_posit.png\")"
   ]
  },
  {
   "cell_type": "code",
   "execution_count": null,
   "id": "83f7c0d4",
   "metadata": {},
   "outputs": [],
   "source": [
    "p <- plot_biases(\"sie\", \"ws_posit\", n_sims, \"workshop sur SIE et positivité\")\n",
    "print(p)\n",
    "ggsave(\"sie_ws_posit.png\")"
   ]
  },
  {
   "cell_type": "markdown",
   "id": "3b232dbf",
   "metadata": {},
   "source": [
    "# Variables baseline continues"
   ]
  },
  {
   "cell_type": "code",
   "execution_count": null,
   "id": "015149f8",
   "metadata": {
    "scrolled": false
   },
   "outputs": [],
   "source": [
    "p <- plot_biases(\"sde\", \"ws_quant\", n_sims, \"workshop sur SDE et variables baseline continues\\n\")\n",
    "print(p)\n",
    "ggsave(\"sde_ws_quant.png\")"
   ]
  },
  {
   "cell_type": "code",
   "execution_count": null,
   "id": "308868ff",
   "metadata": {
    "scrolled": false
   },
   "outputs": [],
   "source": [
    "p <- plot_biases(\"sie\", \"ws_quant\", n_sims, \"workshop sur SIE et variables baseline continues\\n\")\n",
    "print(p)\n",
    "ggsave(\"sie_ws_quant.png\")"
   ]
  },
  {
   "cell_type": "markdown",
   "id": "bd375864",
   "metadata": {},
   "source": [
    "# Modèle Rudolph"
   ]
  },
  {
   "cell_type": "code",
   "execution_count": null,
   "id": "d868a821",
   "metadata": {
    "scrolled": false
   },
   "outputs": [],
   "source": [
    "p <- plot_biases(\"sde\", \"ws_rud\", n_sims, \"workshop sur SDE et modèle Rudolph\\n\")\n",
    "print(p)\n",
    "ggsave(\"sde_ws_rud.png\")"
   ]
  },
  {
   "cell_type": "code",
   "execution_count": null,
   "id": "6f45f35b",
   "metadata": {
    "scrolled": false
   },
   "outputs": [],
   "source": [
    "p <- plot_biases(\"sie\", \"ws_rud\", n_sims, \"workshop sur SIE et modèle Rudolph\\n\")\n",
    "print(p)\n",
    "ggsave(\"sie_ws_rud.png\")"
   ]
  },
  {
   "cell_type": "markdown",
   "id": "b620a017",
   "metadata": {},
   "source": [
    "# Variable de confusion continue"
   ]
  },
  {
   "cell_type": "code",
   "execution_count": null,
   "id": "30e0d32e",
   "metadata": {
    "scrolled": false
   },
   "outputs": [],
   "source": [
    "p <- plot_biases(\"sde\", \"ws_conf\", n_sims, \"workshop sur SDE et variable intermédiaire continue\\n\")\n",
    "print(p)\n",
    "ggsave(\"sde_ws_conf.png\")"
   ]
  },
  {
   "cell_type": "code",
   "execution_count": null,
   "id": "24bc63b4",
   "metadata": {
    "scrolled": false
   },
   "outputs": [],
   "source": [
    "p <- plot_biases(\"sie\", \"ws_conf\", n_sims, \"workshop sur SIE et variable intermédiaire continue\\n\")\n",
    "print(p)\n",
    "ggsave(\"sie_ws_conf.png\")"
   ]
  },
  {
   "cell_type": "code",
   "execution_count": null,
   "id": "0fe0e561",
   "metadata": {},
   "outputs": [],
   "source": []
  }
 ],
 "metadata": {
  "kernelspec": {
   "display_name": "R",
   "language": "R",
   "name": "ir"
  },
  "language_info": {
   "codemirror_mode": "r",
   "file_extension": ".r",
   "mimetype": "text/x-r-source",
   "name": "R",
   "pygments_lexer": "r",
   "version": "4.1.1"
  },
  "toc": {
   "base_numbering": 1,
   "nav_menu": {},
   "number_sections": true,
   "sideBar": true,
   "skip_h1_title": false,
   "title_cell": "Table of Contents",
   "title_sidebar": "Contents",
   "toc_cell": false,
   "toc_position": {},
   "toc_section_display": true,
   "toc_window_display": false
  },
  "varInspector": {
   "cols": {
    "lenName": 16,
    "lenType": 16,
    "lenVar": 40
   },
   "kernels_config": {
    "python": {
     "delete_cmd_postfix": "",
     "delete_cmd_prefix": "del ",
     "library": "var_list.py",
     "varRefreshCmd": "print(var_dic_list())"
    },
    "r": {
     "delete_cmd_postfix": ") ",
     "delete_cmd_prefix": "rm(",
     "library": "var_list.r",
     "varRefreshCmd": "cat(var_dic_list()) "
    }
   },
   "types_to_exclude": [
    "module",
    "function",
    "builtin_function_or_method",
    "instance",
    "_Feature"
   ],
   "window_display": false
  }
 },
 "nbformat": 4,
 "nbformat_minor": 5
}
