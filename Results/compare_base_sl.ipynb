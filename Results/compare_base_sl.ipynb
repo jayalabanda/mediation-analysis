{
 "cells": [
  {
   "cell_type": "code",
   "execution_count": null,
   "id": "4b3efbb8",
   "metadata": {},
   "outputs": [],
   "source": [
    "library(tidyr)\n",
    "library(dplyr)\n",
    "library(ggplot2)\n",
    "library(RColorBrewer)\n",
    "library(gridExtra)\n",
    "library(magrittr)\n",
    "library(stringr)\n",
    "library(tools)\n",
    "library(patchwork)"
   ]
  },
  {
   "cell_type": "code",
   "execution_count": null,
   "id": "ab428c3c",
   "metadata": {},
   "outputs": [],
   "source": [
    "options(repr.plot.width = 14, repr.plot.height = 9)"
   ]
  },
  {
   "cell_type": "code",
   "execution_count": null,
   "id": "42f56a93",
   "metadata": {},
   "outputs": [],
   "source": [
    "plot_biases <- function(data) {\n",
    "    ggplot(data, aes(y = bias, fill = estimator)) +\n",
    "    geom_boxplot() +\n",
    "    geom_hline(yintercept = 0, linetype = \"dashed\",\n",
    "               color = \"black\", size = 1) +\n",
    "    theme(legend.position = \"right\",\n",
    "          legend.box.just = \"right\",\n",
    "          legend.margin = margin(6, 6, 6, 6),\n",
    "          legend.title = element_text(size = 13, face = \"bold\"),\n",
    "          legend.text = element_text(size = 12)) ->\n",
    "    p\n",
    "\n",
    "    return(p)\n",
    "}"
   ]
  },
  {
   "cell_type": "code",
   "execution_count": null,
   "id": "d77525b1",
   "metadata": {},
   "outputs": [],
   "source": [
    "keycol <- \"estimator\"\n",
    "valuecol <- \"bias\"\n",
    "n_sim <- 500"
   ]
  },
  {
   "cell_type": "code",
   "execution_count": null,
   "id": "f3b194ae",
   "metadata": {},
   "outputs": [],
   "source": [
    "data_1 <- read.csv(\"./comparisons/gcomp_500.csv\")\n",
    "data_1 <- as.data.frame(data_1[, \"SDE\"])\n",
    "colnames(data_1) <- c(\"SDE\")\n",
    "\n",
    "data_2 <- read.csv(\"./sl_comparisons/gcomp_sde_500.csv\")\n",
    "gathercols <- colnames(data_2)\n",
    "data_2 <- gather_(data_2, keycol, valuecol, gathercols)\n",
    "data_2$n <- c(rep(n_sim, n_sim))\n",
    "\n",
    "p1 <- plot_biases(data_2)\n",
    "p2 <- ggplot(data_1, aes(y = SDE)) +\n",
    "    geom_boxplot(width=.1, fill = \"#FFD92F\") +\n",
    "    lims(x = c(-.1, .1), y = c(min(data_2$bias), max(data_2$bias))) +\n",
    "    geom_hline(yintercept = 0, linetype = \"dashed\", color = \"black\", size = 1) +\n",
    "    theme(legend.position = \"bottom\")\n",
    "\n",
    "p3 <- grid.arrange(p2, p1, nrow = 1)\n",
    "ggsave(\"C:/Users/luis_/Downloads/gcomp_sde_500.png\", p3)"
   ]
  },
  {
   "cell_type": "code",
   "execution_count": null,
   "id": "8a42005a",
   "metadata": {},
   "outputs": [],
   "source": [
    "data_1 <- read.csv(\"./comparisons/gcomp_500.csv\")\n",
    "data_1 <- as.data.frame(data_1[, \"SIE\"])\n",
    "colnames(data_1) <- c(\"SIE\")\n",
    "\n",
    "data_2 <- read.csv(\"./sl_comparisons/gcomp_sie_500.csv\")\n",
    "gathercols <- colnames(data_2)\n",
    "data_2 <- gather_(data_2, keycol, valuecol, gathercols)\n",
    "data_2$n <- c(rep(n_sim, n_sim))\n",
    "\n",
    "p1 <- plot_biases(data_2)\n",
    "p2 <- ggplot(data_1, aes(y = SIE)) +\n",
    "    geom_boxplot(width=.1, fill = \"#FFD92F\") +\n",
    "    lims(x = c(-.1, .1), y = c(min(data_2$bias), max(data_2$bias))) +\n",
    "    geom_hline(yintercept = 0, linetype = \"dashed\", color = \"black\", size = 1)\n",
    "\n",
    "p3 <- grid.arrange(p2, p1, nrow = 1)\n",
    "ggsave(\"C:/Users/luis_/Downloads/gcomp_sie_500.png\", p3)"
   ]
  },
  {
   "cell_type": "code",
   "execution_count": null,
   "id": "f8f05ac0",
   "metadata": {},
   "outputs": [],
   "source": [
    "data_1 <- read.csv(\"./comparisons/gcomp_posit_500.csv\")\n",
    "data_1 <- as.data.frame(data_1[, \"SDE\"])\n",
    "colnames(data_1) <- c(\"SDE\")\n",
    "\n",
    "data_2 <- read.csv(\"./sl_comparisons/gcomp_sde_posit_500.csv\")\n",
    "gathercols <- colnames(data_2)\n",
    "data_2 <- gather_(data_2, keycol, valuecol, gathercols)\n",
    "data_2$n <- c(rep(n_sim, n_sim))\n",
    "\n",
    "p1 <- plot_biases(data_2)\n",
    "p2 <- ggplot(data_1, aes(y = SDE)) +\n",
    "    geom_boxplot(width=.1, fill = \"#FFD92F\") +\n",
    "    lims(x = c(-.1, .1), y = c(min(data_2$bias), max(data_2$bias))) +\n",
    "    geom_hline(yintercept = 0, linetype = \"dashed\", color = \"black\", size = 1)\n",
    "\n",
    "p3 <- grid.arrange(p2, p1, nrow = 1)\n",
    "ggsave(\"C:/Users/luis_/Downloads/gcomp_sde_posit_500.png\", p3)"
   ]
  },
  {
   "cell_type": "code",
   "execution_count": null,
   "id": "544b0f57",
   "metadata": {},
   "outputs": [],
   "source": [
    "data_1 <- read.csv(\"./comparisons/gcomp_posit_500.csv\")\n",
    "data_1 <- as.data.frame(data_1[, \"SIE\"])\n",
    "colnames(data_1) <- c(\"SIE\")\n",
    "\n",
    "data_2 <- read.csv(\"./sl_comparisons/gcomp_sie_posit_500.csv\")\n",
    "gathercols <- colnames(data_2)\n",
    "data_2 <- gather_(data_2, keycol, valuecol, gathercols)\n",
    "data_2$n <- c(rep(n_sim, n_sim))\n",
    "\n",
    "p1 <- plot_biases(data_2)\n",
    "p2 <- ggplot(data_1, aes(y = SIE)) +\n",
    "    geom_boxplot(width=.1, fill = \"#FFD92F\") +\n",
    "    lims(x = c(-.1, .1), y = c(min(data_2$bias), max(data_2$bias))) +\n",
    "    geom_hline(yintercept = 0, linetype = \"dashed\", color = \"black\", size = 1)\n",
    "\n",
    "p3 <- grid.arrange(p2, p1, nrow = 1)\n",
    "ggsave(\"C:/Users/luis_/Downloads/gcomp_sie_posit_500.png\", p3)"
   ]
  },
  {
   "cell_type": "code",
   "execution_count": null,
   "id": "4de7782c",
   "metadata": {},
   "outputs": [],
   "source": [
    "data_1 <- read.csv(\"./comparisons/iptw_posit_500.csv\")\n",
    "data_1 <- as.data.frame(data_1[, \"SDE\"])\n",
    "colnames(data_1) <- c(\"SDE\")\n",
    "\n",
    "data_2 <- read.csv(\"./sl_comparisons/iptw_sde_posit_500.csv\")\n",
    "gathercols <- colnames(data_2)\n",
    "data_2 <- gather_(data_2, keycol, valuecol, gathercols)\n",
    "data_2$n <- c(rep(n_sim, n_sim))\n",
    "\n",
    "p1 <- plot_biases(data_2)\n",
    "p2 <- ggplot(data_1, aes(y = SDE)) +\n",
    "    geom_boxplot(width=.1, fill = \"#FFD92F\") +\n",
    "    lims(x = c(-.1, .1), y = c(min(data_2$bias), max(data_2$bias))) +\n",
    "    geom_hline(yintercept = 0, linetype = \"dashed\", color = \"black\", size = 1)\n",
    "\n",
    "p3 <- grid.arrange(p2, p1, nrow = 1)\n",
    "ggsave(\"C:/Users/luis_/Downloads/iptw_sde_posit_500.png\", p3)"
   ]
  },
  {
   "cell_type": "code",
   "execution_count": null,
   "id": "43f6ba7c",
   "metadata": {},
   "outputs": [],
   "source": [
    "data_1 <- read.csv(\"./comparisons/iptw_posit_500.csv\")\n",
    "data_1 <- as.data.frame(data_1[, \"SIE\"])\n",
    "colnames(data_1) <- c(\"SIE\")\n",
    "\n",
    "data_2 <- read.csv(\"./sl_comparisons/iptw_sie_posit_500.csv\")\n",
    "gathercols <- colnames(data_2)\n",
    "data_2 <- gather_(data_2, keycol, valuecol, gathercols)\n",
    "data_2$n <- c(rep(n_sim, n_sim))\n",
    "\n",
    "p1 <- plot_biases(data_2)\n",
    "p2 <- ggplot(data_1, aes(y = SIE)) +\n",
    "    geom_boxplot(width=.1, fill = \"#FFD92F\") +\n",
    "    lims(x = c(-.1, .1), y = c(min(data_2$bias), max(data_2$bias))) +\n",
    "    geom_hline(yintercept = 0, linetype = \"dashed\", color = \"black\", size = 1)\n",
    "\n",
    "p3 <- grid.arrange(p2, p1, nrow = 1)\n",
    "ggsave(\"C:/Users/luis_/Downloads/iptw_sie_posit_500.png\", p3)"
   ]
  },
  {
   "cell_type": "code",
   "execution_count": null,
   "id": "8b651c9c",
   "metadata": {},
   "outputs": [],
   "source": [
    "true_sde_rud <- 0.124793\n",
    "true_sie_rud <- 0.03026875"
   ]
  },
  {
   "cell_type": "code",
   "execution_count": null,
   "id": "07c306b8",
   "metadata": {},
   "outputs": [],
   "source": [
    "data_1 <- read.csv(\"./comparisons/tmle_rud_500.csv\")\n",
    "data_1 <- as.data.frame(data_1[, \"SDE\"])\n",
    "data_1 <- data_1 - true_sde_rud\n",
    "colnames(data_1) <- c(\"SDE\")\n",
    "\n",
    "data_2 <- read.csv(\"./sl_comparisons/tmle_sde_rud_500.csv\")\n",
    "gathercols <- colnames(data_2)\n",
    "data_2 <- gather_(data_2, keycol, valuecol, gathercols)\n",
    "data_2$n <- c(rep(n_sim, n_sim))\n",
    "\n",
    "p1 <- plot_biases(data_2)\n",
    "p2 <- ggplot(data_1, aes(y = SDE)) +\n",
    "    geom_boxplot(width=.1, fill = \"#FFD92F\") +\n",
    "    lims(x = c(-.1, .1), y = c(min(data_2$bias), max(data_2$bias))) +\n",
    "    geom_hline(yintercept = 0, linetype = \"dashed\", color = \"black\", size = 1)\n",
    "\n",
    "p3 <- grid.arrange(p2, p1, nrow = 1)\n",
    "ggsave(\"C:/Users/luis_/Downloads/tmle_sde_rud_500.png\", p3)"
   ]
  },
  {
   "cell_type": "code",
   "execution_count": null,
   "id": "e82d24aa",
   "metadata": {},
   "outputs": [],
   "source": [
    "data_1 <- read.csv(\"./comparisons/tmle_rud_500.csv\")\n",
    "data_1 <- as.data.frame(data_1[, \"SIE\"])\n",
    "data_1 <- data_1 - true_sie_rud\n",
    "colnames(data_1) <- c(\"SIE\")\n",
    "\n",
    "data_2 <- read.csv(\"./sl_comparisons/tmle_sie_rud_500.csv\")\n",
    "gathercols <- colnames(data_2)\n",
    "data_2 <- gather_(data_2, keycol, valuecol, gathercols)\n",
    "data_2$n <- c(rep(n_sim, n_sim))\n",
    "\n",
    "p1 <- plot_biases(data_2)\n",
    "p2 <- ggplot(data_1, aes(y = SIE)) +\n",
    "    geom_boxplot(width=.1, fill = \"#FFD92F\") +\n",
    "    lims(x = c(-.1, .1), y = c(min(data_2$bias), max(data_2$bias))) +\n",
    "    geom_hline(yintercept = 0, linetype = \"dashed\", color = \"black\", size = 1)\n",
    "\n",
    "p3 <- grid.arrange(p2, p1, nrow = 1)\n",
    "ggsave(\"C:/Users/luis_/Downloads/tmle_sie_rud_500.png\", p3)"
   ]
  },
  {
   "cell_type": "code",
   "execution_count": null,
   "id": "21173e00",
   "metadata": {},
   "outputs": [],
   "source": []
  }
 ],
 "metadata": {
  "kernelspec": {
   "display_name": "R",
   "language": "R",
   "name": "ir"
  },
  "language_info": {
   "codemirror_mode": "r",
   "file_extension": ".r",
   "mimetype": "text/x-r-source",
   "name": "R",
   "pygments_lexer": "r",
   "version": "4.1.1"
  },
  "toc": {
   "base_numbering": 1,
   "nav_menu": {},
   "number_sections": true,
   "sideBar": true,
   "skip_h1_title": false,
   "title_cell": "Table of Contents",
   "title_sidebar": "Contents",
   "toc_cell": false,
   "toc_position": {},
   "toc_section_display": true,
   "toc_window_display": false
  },
  "varInspector": {
   "cols": {
    "lenName": 16,
    "lenType": 16,
    "lenVar": 40
   },
   "kernels_config": {
    "python": {
     "delete_cmd_postfix": "",
     "delete_cmd_prefix": "del ",
     "library": "var_list.py",
     "varRefreshCmd": "print(var_dic_list())"
    },
    "r": {
     "delete_cmd_postfix": ") ",
     "delete_cmd_prefix": "rm(",
     "library": "var_list.r",
     "varRefreshCmd": "cat(var_dic_list()) "
    }
   },
   "types_to_exclude": [
    "module",
    "function",
    "builtin_function_or_method",
    "instance",
    "_Feature"
   ],
   "window_display": false
  }
 },
 "nbformat": 4,
 "nbformat_minor": 5
}
