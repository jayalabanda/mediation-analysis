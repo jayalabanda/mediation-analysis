{
 "cells": [
  {
   "cell_type": "markdown",
   "id": "ff756488",
   "metadata": {},
   "source": [
    "<strong>Comparaison des estimateurs en 5 cas différents</strong>"
   ]
  },
  {
   "cell_type": "code",
   "execution_count": null,
   "id": "9fbcf2c7",
   "metadata": {},
   "outputs": [],
   "source": [
    "library(tidyr)\n",
    "library(dplyr)\n",
    "library(ggplot2)\n",
    "library(RColorBrewer)\n",
    "library(gridExtra)\n",
    "library(magrittr)\n",
    "library(stringr)\n",
    "library(tools)\n",
    "library(patchwork)"
   ]
  },
  {
   "cell_type": "code",
   "execution_count": null,
   "id": "ee25c5b8",
   "metadata": {},
   "outputs": [],
   "source": [
    "options(repr.plot.width = 16, repr.plot.height = 12)"
   ]
  },
  {
   "cell_type": "code",
   "execution_count": null,
   "id": "ce8bf6e4",
   "metadata": {},
   "outputs": [],
   "source": [
    "get_dataframes <- function(effect, n_sims) {\n",
    "    ## Cette fonction permet de fusionner plusieurs dataframes en un seul\n",
    "    ## afin d'avoir le bon format pour ggplot2\n",
    "    ## arguments:\n",
    "    ##    effet: effet direct ou indirect comme chaîne de caractères\n",
    "    ##    n_sims: vecteur contenant le nombre de simulations\n",
    "    pattern <- paste0(\"^\", effect, \"_\", \"[0-9]\")\n",
    "    my_files <- list.files(pattern = pattern, ignore.case = TRUE)\n",
    "    my_data <- lapply(my_files, read.csv)\n",
    "\n",
    "    big_data <- bind_rows(my_data)\n",
    "    if (startsWith(effect, \"sde\")) {\n",
    "        colnames(big_data) <- str_replace(colnames(big_data), \"SDE_\", \"\")\n",
    "    } else {\n",
    "        colnames(big_data) <- str_replace(colnames(big_data), \"SIE_\", \"\")\n",
    "    }\n",
    "    \n",
    "    keycol <- \"estimator\"\n",
    "    valuecol <- \"bias\"\n",
    "    gathercols <- colnames(big_data)\n",
    "\n",
    "    data_long <- gather_(big_data, keycol, valuecol, gathercols)\n",
    "    data_long$n <- c(rep(n_sims[1], n_sims[1]),\n",
    "                     rep(n_sims[2], n_sims[2]),\n",
    "                     rep(n_sims[3], n_sims[3]),\n",
    "                     rep(n_sims[4], n_sims[4]),\n",
    "                     rep(n_sims[5], n_sims[5]))\n",
    "\n",
    "    return(data_long)\n",
    "}"
   ]
  },
  {
   "cell_type": "code",
   "execution_count": null,
   "id": "3be5eae4",
   "metadata": {},
   "outputs": [],
   "source": [
    "plot_biases <- function(effect, n_sims, main) {\n",
    "    data_long <- get_dataframes(effect, n_sims)\n",
    "\n",
    "    ggplot(data_long, aes(y = bias, fill = estimator)) +\n",
    "    geom_boxplot() +\n",
    "    geom_hline(yintercept = 0, linetype = \"dashed\",\n",
    "               color = \"black\", size = 1) +\n",
    "    facet_wrap(~n, nrow = 2) +\n",
    "    theme(strip.text.x = element_text(size = 12, face = \"bold\"),\n",
    "          legend.position = c(.93, .4),\n",
    "          legend.justification = c(\"right\", \"top\"),\n",
    "          legend.box.just = \"right\",\n",
    "          legend.margin = margin(6, 6, 6, 6),\n",
    "          legend.title = element_text(size = 13, face = \"bold\"),\n",
    "          legend.text = element_text(size = 12)) ->\n",
    "    p\n",
    "\n",
    "    return(p)\n",
    "}"
   ]
  },
  {
   "cell_type": "code",
   "execution_count": null,
   "id": "e545ca22",
   "metadata": {},
   "outputs": [],
   "source": [
    "n_sims <- c(100, 250, 500, 750, 1000)"
   ]
  },
  {
   "cell_type": "markdown",
   "id": "a5cd5b21",
   "metadata": {},
   "source": [
    "## Données originales"
   ]
  },
  {
   "cell_type": "code",
   "execution_count": null,
   "id": "2de55bb6",
   "metadata": {},
   "outputs": [],
   "source": [
    "p <- plot_biases(\"sde\", n_sims, \"SDE\")\n",
    "print(p)\n",
    "# ggsave(\"C:/Users/luis_/Downloads/sde_base.png\", width = 16, height = 12, units = \"in\")\n",
    "ggsave(\"C:/Users/luis_/Downloads/sde_base.png\")"
   ]
  },
  {
   "cell_type": "code",
   "execution_count": null,
   "id": "6ef78c5f",
   "metadata": {},
   "outputs": [],
   "source": [
    "p <- plot_biases(\"sie\", n_sims, \"SIE\")\n",
    "print(p)\n",
    "# ggsave(\"C:/Users/luis_/Downloads/sie_base.png\", width = 16, height = 12, units = \"in\")\n",
    "ggsave(\"C:/Users/luis_/Downloads/sie_base.png\")"
   ]
  },
  {
   "cell_type": "markdown",
   "id": "40a7e5a2",
   "metadata": {},
   "source": [
    "## Positivité"
   ]
  },
  {
   "cell_type": "code",
   "execution_count": null,
   "id": "7d8ebf12",
   "metadata": {
    "scrolled": false
   },
   "outputs": [],
   "source": [
    "p <- plot_biases(\"sde_posit\", n_sims, \"SDE avec problème de positivité\")\n",
    "print(p)\n",
    "# ggsave(\"C:/Users/luis_/Downloads/sde_posit.png\", width = 16, height = 12, units = \"in\")\n",
    "ggsave(\"C:/Users/luis_/Downloads/sde_posit.png\")"
   ]
  },
  {
   "cell_type": "code",
   "execution_count": null,
   "id": "5085845b",
   "metadata": {
    "scrolled": false
   },
   "outputs": [],
   "source": [
    "p <- plot_biases(\"sie_posit\", n_sims, \"SIE avec problème de positivité\")\n",
    "print(p)\n",
    "# ggsave(\"C:/Users/luis_/Downloads/sie_posit.png\", width = 16, height = 12, units = \"in\")\n",
    "ggsave(\"C:/Users/luis_/Downloads/sie_posit.png\")"
   ]
  },
  {
   "cell_type": "markdown",
   "id": "8757469c",
   "metadata": {},
   "source": [
    "## Variables baseline continues"
   ]
  },
  {
   "cell_type": "code",
   "execution_count": null,
   "id": "9eebecbe",
   "metadata": {
    "scrolled": false
   },
   "outputs": [],
   "source": [
    "p <- plot_biases(\"sde_quant\", n_sims, \"SDE avec variables baseline quantitatives\")\n",
    "print(p)\n",
    "# ggsave(\"C:/Users/luis_/Downloads/sde_quant.png\", width = 16, height = 12, units = \"in\")\n",
    "ggsave(\"C:/Users/luis_/Downloads/sde_quant.png\")"
   ]
  },
  {
   "cell_type": "code",
   "execution_count": null,
   "id": "07b239f3",
   "metadata": {
    "scrolled": false
   },
   "outputs": [],
   "source": [
    "p <- plot_biases(\"sie_quant\", n_sims, \"SIE avec variables baseline quantitatives\")\n",
    "print(p)\n",
    "# ggsave(\"C:/Users/luis_/Downloads/sie_quant.png\", width = 16, height = 12, units = \"in\")\n",
    "ggsave(\"C:/Users/luis_/Downloads/sie_quant.png\")"
   ]
  },
  {
   "cell_type": "markdown",
   "id": "91b01a02",
   "metadata": {},
   "source": [
    "## Modèle de Rudolph"
   ]
  },
  {
   "cell_type": "code",
   "execution_count": null,
   "id": "2d2b2861",
   "metadata": {
    "scrolled": false
   },
   "outputs": [],
   "source": [
    "p <- plot_biases(\"sde_rud\", n_sims, \"SDE avec modèle complexe (Rudolph)\")\n",
    "print(p)\n",
    "# ggsave(\"C:/Users/luis_/Downloads/sde_rud.png\", width = 16, height = 12, units = \"in\")\n",
    "ggsave(\"C:/Users/luis_/Downloads/sde_rud.png\")"
   ]
  },
  {
   "cell_type": "code",
   "execution_count": null,
   "id": "b9c2fd9a",
   "metadata": {
    "scrolled": false
   },
   "outputs": [],
   "source": [
    "p <- plot_biases(\"sie_rud\", n_sims, \"SIE avec modèle complexe (Rudolph)\")\n",
    "print(p)\n",
    "# ggsave(\"C:/Users/luis_/Downloads/sie_rud.png\", width = 16, height = 12, units = \"in\")\n",
    "ggsave(\"C:/Users/luis_/Downloads/sie_rud.png\")"
   ]
  },
  {
   "cell_type": "markdown",
   "id": "df2b3652",
   "metadata": {},
   "source": [
    "## Variable de confusion continue"
   ]
  },
  {
   "cell_type": "code",
   "execution_count": null,
   "id": "4efb9687",
   "metadata": {
    "scrolled": false
   },
   "outputs": [],
   "source": [
    "p <- plot_biases(\"sde_conf\", n_sims, \"SDE avec variable de confusion quantitative\")\n",
    "print(p)\n",
    "# ggsave(\"C:/Users/luis_/Downloads/sde_conf.png\", width = 16, height = 12, units = \"in\")\n",
    "ggsave(\"C:/Users/luis_/Downloads/sde_conf.png\")"
   ]
  },
  {
   "cell_type": "code",
   "execution_count": null,
   "id": "b2592d5f",
   "metadata": {
    "scrolled": false
   },
   "outputs": [],
   "source": [
    "p <- plot_biases(\"sie_conf\", n_sims, \"SIE avec variable de confusion quantitative\")\n",
    "print(p)\n",
    "# ggsave(\"C:/Users/luis_/Downloads/sie_conf.png\", width = 16, height = 12, units = \"in\")\n",
    "ggsave(\"C:/Users/luis_/Downloads/sie_conf.png\")"
   ]
  },
  {
   "cell_type": "code",
   "execution_count": null,
   "id": "96bffc1b",
   "metadata": {},
   "outputs": [],
   "source": []
  }
 ],
 "metadata": {
  "kernelspec": {
   "display_name": "R",
   "language": "R",
   "name": "ir"
  },
  "language_info": {
   "codemirror_mode": "r",
   "file_extension": ".r",
   "mimetype": "text/x-r-source",
   "name": "R",
   "pygments_lexer": "r",
   "version": "4.1.0"
  },
  "toc": {
   "base_numbering": 1,
   "nav_menu": {},
   "number_sections": true,
   "sideBar": true,
   "skip_h1_title": false,
   "title_cell": "Table of Contents",
   "title_sidebar": "Contents",
   "toc_cell": false,
   "toc_position": {},
   "toc_section_display": true,
   "toc_window_display": false
  },
  "varInspector": {
   "cols": {
    "lenName": 16,
    "lenType": 16,
    "lenVar": 40
   },
   "kernels_config": {
    "python": {
     "delete_cmd_postfix": "",
     "delete_cmd_prefix": "del ",
     "library": "var_list.py",
     "varRefreshCmd": "print(var_dic_list())"
    },
    "r": {
     "delete_cmd_postfix": ") ",
     "delete_cmd_prefix": "rm(",
     "library": "var_list.r",
     "varRefreshCmd": "cat(var_dic_list()) "
    }
   },
   "types_to_exclude": [
    "module",
    "function",
    "builtin_function_or_method",
    "instance",
    "_Feature"
   ],
   "window_display": false
  }
 },
 "nbformat": 4,
 "nbformat_minor": 5
}
