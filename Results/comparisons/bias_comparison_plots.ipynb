{
 "cells": [
  {
   "cell_type": "markdown",
   "id": "ff756488",
   "metadata": {},
   "source": [
    "# Comparaison des estimateurs en 5 cas différents"
   ]
  },
  {
   "cell_type": "code",
   "execution_count": null,
   "id": "9fbcf2c7",
   "metadata": {},
   "outputs": [],
   "source": [
    "library(dplyr)\n",
    "library(ggplot2)\n",
    "library(RColorBrewer)\n",
    "library(gridExtra)\n",
    "library(magrittr)\n",
    "library(stringr)\n",
    "library(tools)\n",
    "library(patchwork)"
   ]
  },
  {
   "cell_type": "code",
   "execution_count": null,
   "id": "ee25c5b8",
   "metadata": {},
   "outputs": [],
   "source": [
    "options(repr.plot.width = 12, repr.plot.height = 8)"
   ]
  },
  {
   "cell_type": "code",
   "execution_count": null,
   "id": "9623d18a",
   "metadata": {},
   "outputs": [],
   "source": [
    "plot_biases <- function(data, n_sim, effect) {\n",
    "  if (ncol(data) == 5) {\n",
    "    data_ggp <- data.frame(\n",
    "      x = seq(n_sim),\n",
    "      y = c(data[, 1], data[, 2], data[, 3], data[, 4], data[, 5]),\n",
    "      estimator = c(rep(\"g-comp\", n_sim),\n",
    "                    rep(\"IPTW\", n_sim),\n",
    "                    rep(\"TMLE\", n_sim),\n",
    "                    rep(\"one-step\", n_sim),\n",
    "                    rep(\"workshop\", n_sim)\n",
    "                   )\n",
    "    )\n",
    "  } else {\n",
    "    data_ggp <- data.frame(\n",
    "      x = seq(n_sim),\n",
    "      y = c(data[, 1], data[, 2], data[, 3], data[, 4]),\n",
    "      estimator = c(rep(\"g-comp\", n_sim),\n",
    "                    rep(\"IPTW\", n_sim),\n",
    "                    rep(\"TMLE\", n_sim),\n",
    "                    rep(\"workshop\", n_sim)\n",
    "                   )\n",
    "    )\n",
    "  }\n",
    "\n",
    "  p <- ggplot(data_ggp, aes(x, y, fill = estimator)) +\n",
    "    geom_boxplot() +\n",
    "    geom_hline(yintercept = 0, linetype = \"dashed\",\n",
    "               color = \"black\", size = 1) +\n",
    "    ggtitle(paste(\"Biais sur \", effect, \" où n = \", n_sim, sep = \"\")) +\n",
    "    theme(legend.title = element_text(size = 16, face = \"bold\"),\n",
    "          legend.text = element_text(size = 15),\n",
    "          plot.title = element_text(size = 18, hjust = 0.5))\n",
    "  print(p)\n",
    "}"
   ]
  },
  {
   "cell_type": "code",
   "execution_count": null,
   "id": "e545ca22",
   "metadata": {},
   "outputs": [],
   "source": [
    "n_sims <- c(100, 250, 500, 750, 1000)"
   ]
  },
  {
   "cell_type": "markdown",
   "id": "a5cd5b21",
   "metadata": {},
   "source": [
    "## Données originales"
   ]
  },
  {
   "cell_type": "code",
   "execution_count": null,
   "id": "92f9ddc7",
   "metadata": {
    "scrolled": false
   },
   "outputs": [],
   "source": [
    "for (n_sim in n_sims) {\n",
    "  data <- read.csv(paste0(\"biases_sde_\", n_sim, \".csv\", sep = \"\"))\n",
    "  plot_biases(data, n_sim, \"SDE\")\n",
    "}"
   ]
  },
  {
   "cell_type": "code",
   "execution_count": null,
   "id": "1bad49db",
   "metadata": {
    "scrolled": false
   },
   "outputs": [],
   "source": [
    "for (n_sim in n_sims) {\n",
    "  data <- read.csv(paste0(\"biases_sie_\", n_sim, \".csv\", sep = \"\"))\n",
    "  plot_biases(data, n_sim, \"SIE\")\n",
    "}"
   ]
  },
  {
   "cell_type": "markdown",
   "id": "40a7e5a2",
   "metadata": {},
   "source": [
    "## Positivité"
   ]
  },
  {
   "cell_type": "code",
   "execution_count": null,
   "id": "7d8ebf12",
   "metadata": {
    "scrolled": false
   },
   "outputs": [],
   "source": [
    "for (n_sim in n_sims) {\n",
    "  data <- read.csv(paste0(\"biases_sde_posit_\", n_sim, \".csv\", sep = \"\"))\n",
    "  plot_biases(data, n_sim, \"SDE avec problème de positivité\\n\")\n",
    "}"
   ]
  },
  {
   "cell_type": "code",
   "execution_count": null,
   "id": "5085845b",
   "metadata": {
    "scrolled": false
   },
   "outputs": [],
   "source": [
    "for (n_sim in n_sims) {\n",
    "  data <- read.csv(paste0(\"biases_sie_posit_\", n_sim, \".csv\", sep = \"\"))\n",
    "  plot_biases(data, n_sim, \"SIE avec problème de positivité\\n\")\n",
    "}"
   ]
  },
  {
   "cell_type": "markdown",
   "id": "8757469c",
   "metadata": {},
   "source": [
    "## Variables baseline continues"
   ]
  },
  {
   "cell_type": "code",
   "execution_count": null,
   "id": "9eebecbe",
   "metadata": {
    "scrolled": false
   },
   "outputs": [],
   "source": [
    "for (n_sim in n_sims) {\n",
    "  data <- read.csv(paste0(\"biases_sde_quant_\", n_sim, \".csv\", sep = \"\"))\n",
    "  plot_biases(data, n_sim, \"SDE avec variables baseline continues\\n\")\n",
    "}"
   ]
  },
  {
   "cell_type": "code",
   "execution_count": null,
   "id": "07b239f3",
   "metadata": {
    "scrolled": false
   },
   "outputs": [],
   "source": [
    "for (n_sim in n_sims) {\n",
    "  data <- read.csv(paste0(\"biases_sie_quant_\", n_sim, \".csv\", sep = \"\"))\n",
    "  plot_biases(data, n_sim, \"SIE avec variables baseline continues\\n\")\n",
    "}"
   ]
  },
  {
   "cell_type": "markdown",
   "id": "91b01a02",
   "metadata": {},
   "source": [
    "## Modèle de Rudolph"
   ]
  },
  {
   "cell_type": "code",
   "execution_count": null,
   "id": "2d2b2861",
   "metadata": {
    "scrolled": false
   },
   "outputs": [],
   "source": [
    "for (n_sim in n_sims) {\n",
    "  data <- read.csv(paste0(\"biases_sde_rud_\", n_sim, \".csv\", sep = \"\"))\n",
    "  plot_biases(data, n_sim, \"SDE avec modèle complexe\\n\")\n",
    "}"
   ]
  },
  {
   "cell_type": "code",
   "execution_count": null,
   "id": "b9c2fd9a",
   "metadata": {
    "scrolled": false
   },
   "outputs": [],
   "source": [
    "for (n_sim in n_sims) {\n",
    "  data <- read.csv(paste0(\"biases_sie_rud_\", n_sim, \".csv\", sep = \"\"))\n",
    "  plot_biases(data, n_sim, \"SIE avec modèle complexe\\n\")\n",
    "}"
   ]
  },
  {
   "cell_type": "markdown",
   "id": "df2b3652",
   "metadata": {},
   "source": [
    "## Variable de confusion continue"
   ]
  },
  {
   "cell_type": "code",
   "execution_count": null,
   "id": "4efb9687",
   "metadata": {
    "scrolled": false
   },
   "outputs": [],
   "source": [
    "for (n_sim in n_sims) {\n",
    "  data <- read.csv(paste0(\"biases_sde_conf_\", n_sim, \".csv\", sep = \"\"))\n",
    "  plot_biases(data, n_sim, \"SDE avec variable de confusion continue\\n\")\n",
    "}"
   ]
  },
  {
   "cell_type": "code",
   "execution_count": null,
   "id": "b2592d5f",
   "metadata": {
    "scrolled": false
   },
   "outputs": [],
   "source": [
    "for (n_sim in n_sims) {\n",
    "  data <- read.csv(paste0(\"biases_sie_conf_\", n_sim, \".csv\", sep = \"\"))\n",
    "  plot_biases(data, n_sim, \"SIE avec variable de confusion continue\\n\")\n",
    "}"
   ]
  },
  {
   "cell_type": "code",
   "execution_count": null,
   "id": "96bffc1b",
   "metadata": {},
   "outputs": [],
   "source": []
  }
 ],
 "metadata": {
  "kernelspec": {
   "display_name": "R",
   "language": "R",
   "name": "ir"
  },
  "language_info": {
   "codemirror_mode": "r",
   "file_extension": ".r",
   "mimetype": "text/x-r-source",
   "name": "R",
   "pygments_lexer": "r",
   "version": "4.1.0"
  },
  "toc": {
   "base_numbering": 1,
   "nav_menu": {},
   "number_sections": true,
   "sideBar": true,
   "skip_h1_title": false,
   "title_cell": "Table of Contents",
   "title_sidebar": "Contents",
   "toc_cell": false,
   "toc_position": {},
   "toc_section_display": true,
   "toc_window_display": false
  },
  "varInspector": {
   "cols": {
    "lenName": 16,
    "lenType": 16,
    "lenVar": 40
   },
   "kernels_config": {
    "python": {
     "delete_cmd_postfix": "",
     "delete_cmd_prefix": "del ",
     "library": "var_list.py",
     "varRefreshCmd": "print(var_dic_list())"
    },
    "r": {
     "delete_cmd_postfix": ") ",
     "delete_cmd_prefix": "rm(",
     "library": "var_list.r",
     "varRefreshCmd": "cat(var_dic_list()) "
    }
   },
   "types_to_exclude": [
    "module",
    "function",
    "builtin_function_or_method",
    "instance",
    "_Feature"
   ],
   "window_display": false
  }
 },
 "nbformat": 4,
 "nbformat_minor": 5
}
