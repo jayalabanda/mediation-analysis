{
 "cells": [
  {
   "cell_type": "code",
   "execution_count": null,
   "id": "bebe269d",
   "metadata": {},
   "outputs": [],
   "source": [
    "library(tidyr)\n",
    "library(dplyr)\n",
    "library(ggplot2)\n",
    "library(RColorBrewer)\n",
    "library(gridExtra)\n",
    "library(magrittr)\n",
    "library(stringr)\n",
    "library(tools)\n",
    "library(patchwork)"
   ]
  },
  {
   "cell_type": "code",
   "execution_count": null,
   "id": "f7de5b92",
   "metadata": {},
   "outputs": [],
   "source": [
    "options(repr.plot.width = 16, repr.plot.height = 12)"
   ]
  },
  {
   "cell_type": "code",
   "execution_count": null,
   "id": "1d8aadbc",
   "metadata": {},
   "outputs": [],
   "source": [
    "get_dataframes <- function(estimator, effect, n_sims) {\n",
    "    ## Cette fonction permet de fusionner plusieurs dataframes en un seul\n",
    "    ## afin d'avoir le bon format pour ggplot2\n",
    "    ## arguments:\n",
    "    ##    estimator: estimateur sous forme de chaîne de caractères\n",
    "    ##    effet: effet direct ou indirect au même format\n",
    "    ##    n_sims: vecteur contenant le nombre de simulations\n",
    "    pattern <- paste0(\"^\", estimator, \"_\", effect, \"_\", \"[0-9]\")\n",
    "    my_files <- list.files(pattern = pattern, ignore.case = TRUE)\n",
    "    my_data <- lapply(my_files, read.csv)\n",
    "\n",
    "    big_data <- bind_rows(my_data)\n",
    "    keycol <- \"library\"\n",
    "    valuecol <- \"bias\"\n",
    "    gathercols <- colnames(big_data)\n",
    "\n",
    "    data_long <- gather_(big_data, keycol, valuecol, gathercols)\n",
    "    data_long$n <- c(rep(n_sims[1], n_sims[1]),\n",
    "                     rep(n_sims[2], n_sims[2]),\n",
    "                     rep(n_sims[3], n_sims[3]),\n",
    "                     rep(n_sims[4], n_sims[4]),\n",
    "                     rep(n_sims[5], n_sims[5]))\n",
    "\n",
    "    return(data_long)\n",
    "}"
   ]
  },
  {
   "cell_type": "code",
   "execution_count": null,
   "id": "b9b83814",
   "metadata": {},
   "outputs": [],
   "source": [
    "plot_biases <- function(estimator, effect, n_sims, main) {\n",
    "    data_long <- get_dataframes(estimator, effect, n_sims)\n",
    "\n",
    "    ggplot(data_long, aes(y = bias, fill = library)) +\n",
    "    geom_boxplot() +\n",
    "    geom_hline(yintercept = 0, linetype = \"dashed\",\n",
    "               color = \"black\", size = 1) +\n",
    "    facet_wrap(~n, nrow = 2) +\n",
    "    # guides(fill = guide_legend(ncol = 2)) +\n",
    "    theme(strip.text.x = element_text(size = 12, face = \"bold\"),\n",
    "          legend.position = c(.97, .4),\n",
    "          legend.justification = c(\"right\", \"top\"),\n",
    "          legend.box.just = \"right\",\n",
    "          legend.margin = margin(6, 6, 6, 6),\n",
    "          legend.title = element_text(size = 13, face = \"bold\"),\n",
    "          legend.text = element_text(size = 12)) ->\n",
    "    p\n",
    "\n",
    "    return(p)\n",
    "}"
   ]
  },
  {
   "cell_type": "code",
   "execution_count": null,
   "id": "ea9a4351",
   "metadata": {},
   "outputs": [],
   "source": [
    "n_sims <- c(100, 200, 300, 400, 500)"
   ]
  },
  {
   "cell_type": "code",
   "execution_count": null,
   "id": "57341314",
   "metadata": {},
   "outputs": [],
   "source": [
    "p <- plot_biases(\"tmle\", \"sde\", n_sims, \"TMLE sur SDE\")\n",
    "print(p)\n",
    "ggsave(\"C:/Users/luis_/Downloads/tmle_sl_sde.png\")"
   ]
  },
  {
   "cell_type": "code",
   "execution_count": null,
   "id": "3277cd31",
   "metadata": {},
   "outputs": [],
   "source": [
    "p <- plot_biases(\"tmle\", \"sie\", n_sims, \"TMLE sur SIE\")\n",
    "print(p)\n",
    "ggsave(\"C:/Users/luis_/Downloads/tmle_sl_sie.png\")"
   ]
  },
  {
   "cell_type": "code",
   "execution_count": null,
   "id": "fa679b83",
   "metadata": {},
   "outputs": [],
   "source": [
    "p <- plot_biases(\"tmle\", \"sde_posit\", n_sims, \"TMLE sur SDE\\net problème de positivité\")\n",
    "print(p)\n",
    "ggsave(\"C:/Users/luis_/Downloads/tmle_posit_sl_sde.png\")"
   ]
  },
  {
   "cell_type": "code",
   "execution_count": null,
   "id": "0c273bd7",
   "metadata": {},
   "outputs": [],
   "source": [
    "p <- plot_biases(\"tmle\", \"sie_posit\", n_sims, \"TMLE sur SIE\\net problème de positivité\")\n",
    "print(p)\n",
    "ggsave(\"C:/Users/luis_/Downloads/tmle_posit_sl_sie.png\")"
   ]
  },
  {
   "cell_type": "code",
   "execution_count": null,
   "id": "d2dc6cf8",
   "metadata": {},
   "outputs": [],
   "source": [
    "p <- plot_biases(\"tmle\", \"sde_quant\", n_sims, \"TMLE sur SDE\\net variables baseline quantitatives\")\n",
    "print(p)\n",
    "ggsave(\"C:/Users/luis_/Downloads/tmle_quant_sl_sde.png\")"
   ]
  },
  {
   "cell_type": "code",
   "execution_count": null,
   "id": "a23fad50",
   "metadata": {},
   "outputs": [],
   "source": [
    "p <- plot_biases(\"tmle\", \"sie_quant\", n_sims, \"TMLE sur SIE\\net variables baseline quantitatives\")\n",
    "print(p)\n",
    "ggsave(\"C:/Users/luis_/Downloads/tmle_quant_sl_sie.png\")"
   ]
  },
  {
   "cell_type": "code",
   "execution_count": null,
   "id": "b1e8825c",
   "metadata": {},
   "outputs": [],
   "source": []
  }
 ],
 "metadata": {
  "kernelspec": {
   "display_name": "R",
   "language": "R",
   "name": "ir"
  },
  "language_info": {
   "codemirror_mode": "r",
   "file_extension": ".r",
   "mimetype": "text/x-r-source",
   "name": "R",
   "pygments_lexer": "r",
   "version": "4.1.1"
  },
  "toc": {
   "base_numbering": 1,
   "nav_menu": {},
   "number_sections": true,
   "sideBar": true,
   "skip_h1_title": false,
   "title_cell": "Table of Contents",
   "title_sidebar": "Contents",
   "toc_cell": false,
   "toc_position": {},
   "toc_section_display": true,
   "toc_window_display": false
  },
  "varInspector": {
   "cols": {
    "lenName": 16,
    "lenType": 16,
    "lenVar": 40
   },
   "kernels_config": {
    "python": {
     "delete_cmd_postfix": "",
     "delete_cmd_prefix": "del ",
     "library": "var_list.py",
     "varRefreshCmd": "print(var_dic_list())"
    },
    "r": {
     "delete_cmd_postfix": ") ",
     "delete_cmd_prefix": "rm(",
     "library": "var_list.r",
     "varRefreshCmd": "cat(var_dic_list()) "
    }
   },
   "types_to_exclude": [
    "module",
    "function",
    "builtin_function_or_method",
    "instance",
    "_Feature"
   ],
   "window_display": false
  }
 },
 "nbformat": 4,
 "nbformat_minor": 5
}
