{
 "cells": [
  {
   "cell_type": "code",
   "execution_count": null,
   "id": "6c3d73d6",
   "metadata": {},
   "outputs": [],
   "source": [
    "library(dplyr)\n",
    "library(ggplot2)\n",
    "library(RColorBrewer)\n",
    "library(gridExtra)\n",
    "library(magrittr)\n",
    "library(reshape2)\n",
    "library(tools)\n",
    "library(patchwork)"
   ]
  },
  {
   "cell_type": "code",
   "execution_count": null,
   "id": "fc8373bd",
   "metadata": {},
   "outputs": [],
   "source": [
    "true_sde <- 0.0625841\n",
    "true_sie <- 0.009845864\n",
    "image_path <- \"../plots/\"\n",
    "options(repr.plot.width = 12, repr.plot.height = 8)"
   ]
  },
  {
   "cell_type": "code",
   "execution_count": null,
   "id": "b904814e",
   "metadata": {},
   "outputs": [],
   "source": [
    "data <- data.frame(read.csv(\"stremr.csv\"))\n",
    "data"
   ]
  },
  {
   "cell_type": "code",
   "execution_count": null,
   "id": "fda7375a",
   "metadata": {},
   "outputs": [],
   "source": [
    "ggplot(data, aes(x = n_samples, y = duration, group = estimator)) +\n",
    "  geom_point(aes(shape = estimator, color = estimator)) +\n",
    "  geom_line(aes(color = estimator)) +\n",
    "  labs(title = \"Temps d'exécution des estimateurs \\ng-computation et TMLE\",\n",
    "       y = \"Durée (mins)\") +\n",
    "  theme(plot.title = element_text(hjust = 0.5, size = 16),\n",
    "        axis.title.y = element_text(size = 14),\n",
    "        axis.title.x = element_text(size = 14),\n",
    "        legend.title = element_text(size = 14),\n",
    "        legend.text = element_text(size = 13))\n",
    "ggsave(\"stremr_duration.png\", path = image_path)"
   ]
  },
  {
   "cell_type": "code",
   "execution_count": null,
   "id": "f6de7d2f",
   "metadata": {},
   "outputs": [],
   "source": [
    "data <- data.frame(read.csv(\"medoutcon.csv\"))\n",
    "data"
   ]
  },
  {
   "cell_type": "code",
   "execution_count": null,
   "id": "f03689f4",
   "metadata": {},
   "outputs": [],
   "source": [
    "p1 <- ggplot(data, aes(x = n_samples, y = direct_effect, group = estimator)) +\n",
    "  geom_point(aes(shape = estimator, color = estimator)) +\n",
    "  geom_line(aes(color = estimator)) +\n",
    "  labs(title = \"Effet direct\", y = \"Durée (mins)\") +\n",
    "  theme(plot.title = element_text(size = 16, hjust = 0.5),\n",
    "        axis.title.x = element_text(size = 14),\n",
    "        axis.title.y = element_text(size = 14))\n",
    "\n",
    "p2 <- ggplot(data, aes(x = n_samples, y = indirect_effect, group = estimator)) +\n",
    "  geom_point(aes(shape = estimator, color = estimator)) +\n",
    "  geom_line(aes(color = estimator)) +\n",
    "  labs(title = \"Effet indirect\", y = \"\") +\n",
    "  theme(plot.title = element_text(size = 16, hjust = 0.5),\n",
    "        axis.title.x = element_text(size = 14),\n",
    "        axis.title.y = element_text(size = 14))\n",
    "\n",
    "combined <- p1 + p2 +\n",
    "  plot_layout(guides = \"collect\") & theme(legend.position = \"right\",\n",
    "                                          legend.title = element_text(size = 14),\n",
    "                                          legend.text = element_text(size = 13))\n",
    "combined\n",
    "ggsave(\"medoutcon_duration.png\", path = image_path)"
   ]
  },
  {
   "cell_type": "code",
   "execution_count": null,
   "id": "c04693c4",
   "metadata": {},
   "outputs": [],
   "source": [
    "data <- data.frame(read.csv(\"iptw_gcomp.csv\"))\n",
    "data"
   ]
  },
  {
   "cell_type": "code",
   "execution_count": null,
   "id": "96e6bda7",
   "metadata": {},
   "outputs": [],
   "source": [
    "ggplot(data, aes(x = n_samples, y = duration, group = estimator)) +\n",
    "  geom_point(aes(shape = estimator, color = estimator)) +\n",
    "  geom_line(aes(color = estimator)) +\n",
    "  labs(title = \"Temps d'exécution des estimateurs \\ng-computation et IPTW\",\n",
    "       y = \"Durée (s)\") +\n",
    "  theme(plot.title = element_text(hjust = 0.5, size = 16),\n",
    "        axis.title.y = element_text(size = 14),\n",
    "        axis.title.x = element_text(size = 14),\n",
    "        legend.title = element_text(size = 14),\n",
    "        legend.text = element_text(size = 13))\n",
    "ggsave(\"iptw_gcomp_duration.png\", path = image_path)"
   ]
  },
  {
   "cell_type": "code",
   "execution_count": null,
   "id": "a6f7eee9",
   "metadata": {},
   "outputs": [],
   "source": [
    "data <- data.frame(read.csv(\"medoutcon_all.csv\"))\n",
    "head(data)"
   ]
  },
  {
   "cell_type": "code",
   "execution_count": null,
   "id": "419e6c36",
   "metadata": {},
   "outputs": [],
   "source": [
    "data_direct <- data[data$effect == \"direct\", ]\n",
    "data_direct"
   ]
  },
  {
   "cell_type": "code",
   "execution_count": null,
   "id": "cddec900",
   "metadata": {},
   "outputs": [],
   "source": [
    "data_indirect <- data[data$effect == \"indirect\", ]\n",
    "data_indirect"
   ]
  },
  {
   "cell_type": "code",
   "execution_count": null,
   "id": "c77fe9ff",
   "metadata": {},
   "outputs": [],
   "source": [
    "ggplot(data_direct, aes(x = n_sim, y = duration, group = learner)) +\n",
    "  geom_point(aes(shape = learner)) +\n",
    "  geom_line() +\n",
    "  labs(title = \"Temps d'exécution des learners \\nglm_fast et HAL\",\n",
    "       y = \"Durée (mins)\") +\n",
    "  theme(plot.title = element_text(hjust = 0.5, size = 16),\n",
    "        axis.title.y = element_text(size = 14),\n",
    "        axis.title.x = element_text(size = 14),\n",
    "        legend.title = element_text(size = 14),\n",
    "        legend.text = element_text(size = 13))"
   ]
  },
  {
   "cell_type": "code",
   "execution_count": null,
   "id": "d7b80f82",
   "metadata": {
    "scrolled": false
   },
   "outputs": [],
   "source": [
    "names <- colnames(data_direct)\n",
    "\n",
    "for (i in 6:12) {\n",
    "  data_direct %>%\n",
    "    group_by(estimator, learner) %>%\n",
    "    ggplot(aes(x = n_sim, y = data_direct[, i], fill = estimator,\n",
    "               color = estimator, shape = learner)) +\n",
    "    geom_point(size = 3) +\n",
    "    geom_line() +\n",
    "    ylab(toTitleCase(colnames(data_direct)[i])) +\n",
    "    theme(axis.title.y = element_text(size = 14),\n",
    "          axis.title.x = element_text(size = 14),\n",
    "          legend.title = element_text(size = 14),\n",
    "          legend.text = element_text(size = 13)) ->\n",
    "  p\n",
    "  print(p)\n",
    "  ggsave(paste(\"medoutcon_direct\", names[i], \"results.png\", sep = \"_\"),\n",
    "         path = image_path)\n",
    "}"
   ]
  },
  {
   "cell_type": "code",
   "execution_count": null,
   "id": "3725759d",
   "metadata": {
    "scrolled": false
   },
   "outputs": [],
   "source": [
    "for (i in 6:12) {\n",
    "  data_indirect %>%\n",
    "    group_by(estimator, learner) %>%\n",
    "    ggplot(aes(x = n_sim, y = data_indirect[, i], fill = estimator,\n",
    "               color = estimator, shape = learner)) +\n",
    "    geom_point(size = 3) +\n",
    "    geom_line() +\n",
    "    ylab(toTitleCase(colnames(data_indirect)[i])) +\n",
    "    theme(axis.title.y = element_text(size = 14),\n",
    "          axis.title.x = element_text(size = 14),\n",
    "          legend.title = element_text(size = 14),\n",
    "          legend.text = element_text(size = 13)) ->\n",
    "  p\n",
    "  print(p)\n",
    "  ggsave(paste(\"medoutcon_indirect\", names[i], \"results.png\", sep = \"_\"),\n",
    "         path = image_path)\n",
    "}"
   ]
  },
  {
   "cell_type": "code",
   "execution_count": null,
   "id": "431971a6",
   "metadata": {},
   "outputs": [],
   "source": [
    "data <- data.frame(read.csv(\"rudolph_article.csv\"))\n",
    "data"
   ]
  },
  {
   "cell_type": "code",
   "execution_count": null,
   "id": "860a2104",
   "metadata": {},
   "outputs": [],
   "source": [
    "data_direct <- data[data$effect == \"direct\", ]\n",
    "data_direct"
   ]
  },
  {
   "cell_type": "code",
   "execution_count": null,
   "id": "5027c61f",
   "metadata": {
    "scrolled": false
   },
   "outputs": [],
   "source": [
    "names <- colnames(data_direct)\n",
    "\n",
    "for (i in 3:9) {\n",
    "  data_direct %>%\n",
    "    ggplot(aes(x = n_sim, y = data_direct[, i])) +\n",
    "    geom_point(size = 3, colour = \"#66C2A5\") +\n",
    "    geom_line(size = 1.2, colour = \"#66C2A5\") +\n",
    "    ylab(toTitleCase(colnames(data_direct)[i])) +\n",
    "    theme(axis.title.y = element_text(size = 14),\n",
    "          axis.title.x = element_text(size = 14),\n",
    "          legend.title = element_text(size = 14),\n",
    "          legend.text = element_text(size = 13)) ->\n",
    "  p\n",
    "  print(p)\n",
    "  ggsave(paste(\"rudolph_direct\", names[i], \"results.png\", sep = \"_\"),\n",
    "         path = image_path)\n",
    "}"
   ]
  },
  {
   "cell_type": "code",
   "execution_count": null,
   "id": "cc236c19",
   "metadata": {},
   "outputs": [],
   "source": [
    "data_indirect <- data[data$effect == \"indirect\", ]\n",
    "data_indirect"
   ]
  },
  {
   "cell_type": "code",
   "execution_count": null,
   "id": "7e022a05",
   "metadata": {},
   "outputs": [],
   "source": [
    "# valeur absolue pour meilleur graphique\n",
    "\n",
    "data_indirect %>%\n",
    "  mutate(bias = abs(bias), std_bias = abs(std_bias)) ->\n",
    "data_indirect"
   ]
  },
  {
   "cell_type": "code",
   "execution_count": null,
   "id": "3af208e4",
   "metadata": {
    "scrolled": false
   },
   "outputs": [],
   "source": [
    "for (i in 3:9) {\n",
    "  data_indirect %>%\n",
    "    ggplot(aes(x = n_sim, y = data_indirect[, i])) +\n",
    "    geom_point(size = 3, colour = \"#66C2A5\") +\n",
    "    geom_line(size = 1.2, colour = \"#66C2A5\") +\n",
    "    ylab(toTitleCase(colnames(data_indirect)[i])) +\n",
    "    theme(axis.title.y = element_text(size = 14)) ->\n",
    "  p\n",
    "  print(p)\n",
    "}"
   ]
  },
  {
   "cell_type": "code",
   "execution_count": null,
   "id": "a2500165",
   "metadata": {},
   "outputs": [],
   "source": [
    "data_dir_rud <- data.frame(read.csv(\"../../Data/estimates_sde_rud.csv\"))\n",
    "data_ind_rud <- data.frame(read.csv(\"../../Data/estimates_sie_rud.csv\"))\n",
    "\n",
    "head(data_dir_rud)\n",
    "head(data_ind_rud)"
   ]
  },
  {
   "cell_type": "code",
   "execution_count": null,
   "id": "efaa3754",
   "metadata": {},
   "outputs": [],
   "source": [
    "data_dir_rud$sde_rud <- data_dir_rud$sde_rud - true_sde\n",
    "data_ind_rud$sie_rud <- data_ind_rud$sie_rud - true_sie"
   ]
  },
  {
   "cell_type": "code",
   "execution_count": null,
   "id": "3da1e59c",
   "metadata": {},
   "outputs": [],
   "source": [
    "p1 <- ggplot(data_dir_rud, aes(y = sde_rud)) +\n",
    "  geom_boxplot() +\n",
    "  geom_hline(yintercept = 0, linetype = \"dashed\", size = 1.2) +\n",
    "  labs(title = \"Biais sur SDE\", y = \"Estimations\") +\n",
    "  theme(plot.title = element_text(hjust = 0.5, size = 16))\n",
    "\n",
    "p2 <- ggplot(data_ind_rud, aes(y = sie_rud)) +\n",
    "  geom_boxplot() +\n",
    "  geom_hline(yintercept = 0, linetype = \"dashed\", size = 1.2) +\n",
    "  labs(title = \"Biais sur SIE\", y = \"Estimations\") +\n",
    "  theme(plot.title = element_text(hjust = 0.5, size = 16))\n",
    "\n",
    "combined <- p1 + p2 + plot_layout(guides = \"collect\")\n",
    "combined"
   ]
  },
  {
   "cell_type": "code",
   "execution_count": null,
   "id": "5c14ad22",
   "metadata": {},
   "outputs": [],
   "source": [
    "data <- data.frame(read.csv(\"../../Data/estimates_sde_moc.csv\"))\n",
    "head(data)"
   ]
  },
  {
   "cell_type": "code",
   "execution_count": null,
   "id": "121d1311",
   "metadata": {},
   "outputs": [],
   "source": [
    "data$sde_os <- data$sde_os - true_sde\n",
    "data$sde_tmle <- data$sde_tmle - true_sde"
   ]
  },
  {
   "cell_type": "code",
   "execution_count": null,
   "id": "ec60462b",
   "metadata": {},
   "outputs": [],
   "source": [
    "p1 <- ggplot(data, aes(y = sde_os)) +\n",
    "  geom_boxplot() +\n",
    "  geom_hline(yintercept = 0, linetype = \"dashed\", size = 1.2) +\n",
    "  labs(title = \"Biais sur SDE avec one-step\", y = \"Estimations\") +\n",
    "  theme(plot.title = element_text(hjust = 0.5, size = 16))\n",
    "\n",
    "p2 <- ggplot(data, aes(y = sde_tmle)) +\n",
    "  geom_boxplot() +\n",
    "  geom_hline(yintercept = 0, linetype = \"dashed\", size = 1.2) +\n",
    "  labs(title = \"Biais sur SDE avec TMLE\", y = \"Estimations\") +\n",
    "  theme(plot.title = element_text(hjust = 0.5, size = 16))\n",
    "\n",
    "combined <- p1 + p2 + plot_layout(guides = \"collect\")\n",
    "combined"
   ]
  },
  {
   "cell_type": "code",
   "execution_count": null,
   "id": "5d5be68a",
   "metadata": {},
   "outputs": [],
   "source": [
    "data <- data.frame(read.csv(\"../../Data/estimates_sie_moc.csv\"))\n",
    "head(data)"
   ]
  },
  {
   "cell_type": "code",
   "execution_count": null,
   "id": "6b325969",
   "metadata": {},
   "outputs": [],
   "source": [
    "data$sie_os <- data$sie_os - true_sie\n",
    "data$sie_tmle <- data$sie_tmle - true_sie"
   ]
  },
  {
   "cell_type": "code",
   "execution_count": null,
   "id": "43b955ae",
   "metadata": {},
   "outputs": [],
   "source": [
    "p1 <- ggplot(data, aes(y = sie_os)) +\n",
    "  geom_boxplot() +\n",
    "  geom_hline(yintercept = 0, linetype = \"dashed\", size = 1.2) +\n",
    "  labs(title = \"Biais sur SIE avec one-step\", y = \"Estimations\") +\n",
    "  theme(plot.title = element_text(hjust = 0.5, size = 16))\n",
    "\n",
    "p2 <- ggplot(data, aes(y = sie_tmle)) +\n",
    "  geom_boxplot() +\n",
    "  geom_hline(yintercept = 0, linetype = \"dashed\", size = 1.2) +\n",
    "  labs(title = \"Biais sur SIE avec TMLE\", y = \"Estimations\") +\n",
    "  theme(plot.title = element_text(hjust = 0.5, size = 16))\n",
    "\n",
    "combined <- p1 + p2 + plot_layout(guides = \"collect\")\n",
    "combined"
   ]
  },
  {
   "cell_type": "code",
   "execution_count": null,
   "id": "7d999557",
   "metadata": {},
   "outputs": [],
   "source": [
    "data <- data.frame(read.csv(\"../../Data/results_iptw.csv\"))\n",
    "data_bis <- data.frame(read.csv(\"../../Data/results_iptw_bis.csv\"))\n",
    "head(data)\n",
    "head(data_bis)"
   ]
  },
  {
   "cell_type": "code",
   "execution_count": null,
   "id": "cf856999",
   "metadata": {},
   "outputs": [],
   "source": [
    "p1 <- ggplot(data, aes(y = iptw_EDN)) +\n",
    "  geom_boxplot() +\n",
    "  geom_hline(yintercept = 0, linetype = \"dashed\", size = 1.2) +\n",
    "  labs(title = \"Biais sur SDE\\nsans problème de positivité\", y = \"Estimations\") +\n",
    "  theme(plot.title = element_text(hjust = 0.5, size = 16))\n",
    "\n",
    "p2 <- ggplot(data_bis, aes(y = iptw_EDN)) +\n",
    "  geom_boxplot() +\n",
    "  geom_hline(yintercept = 0, linetype = \"dashed\", size = 1.2) +\n",
    "  labs(title = \"Biais sur SDE\\navec problème de positivité\", y = \"Estimations\") +\n",
    "  theme(plot.title = element_text(hjust = 0.5, size = 16))\n",
    "\n",
    "combined <- p1 + p2 + plot_layout(guides = \"collect\")\n",
    "combined"
   ]
  },
  {
   "cell_type": "code",
   "execution_count": null,
   "id": "7483834a",
   "metadata": {},
   "outputs": [],
   "source": [
    "p1 <- ggplot(data, aes(y = iptw_EIN)) +\n",
    "  geom_boxplot() +\n",
    "  geom_hline(yintercept = 0, linetype = \"dashed\", size = 1.2) +\n",
    "  labs(title = \"Biais sur SIE\\nsans problème de positivité\", y = \"Estimations\") +\n",
    "  theme(plot.title = element_text(hjust = 0.5, size = 16))\n",
    "\n",
    "p2 <- ggplot(data_bis, aes(y = iptw_EIN)) +\n",
    "  geom_boxplot() +\n",
    "  geom_hline(yintercept = 0, linetype = \"dashed\", size = 1.2) +\n",
    "  labs(title = \"Biais sur SIE\\navec problème de positivité\", y = \"Estimations\") +\n",
    "  theme(plot.title = element_text(hjust = 0.5, size = 16))\n",
    "\n",
    "combined <- p1 + p2 + plot_layout(guides = \"collect\")\n",
    "combined"
   ]
  },
  {
   "cell_type": "code",
   "execution_count": null,
   "id": "72900a0a",
   "metadata": {},
   "outputs": [],
   "source": []
  }
 ],
 "metadata": {
  "kernelspec": {
   "display_name": "R",
   "language": "R",
   "name": "ir"
  },
  "language_info": {
   "codemirror_mode": "r",
   "file_extension": ".r",
   "mimetype": "text/x-r-source",
   "name": "R",
   "pygments_lexer": "r",
   "version": "4.1.0"
  },
  "toc": {
   "base_numbering": 1,
   "nav_menu": {},
   "number_sections": true,
   "sideBar": true,
   "skip_h1_title": false,
   "title_cell": "Table of Contents",
   "title_sidebar": "Contents",
   "toc_cell": false,
   "toc_position": {},
   "toc_section_display": true,
   "toc_window_display": false
  },
  "varInspector": {
   "cols": {
    "lenName": 16,
    "lenType": 16,
    "lenVar": 40
   },
   "kernels_config": {
    "python": {
     "delete_cmd_postfix": "",
     "delete_cmd_prefix": "del ",
     "library": "var_list.py",
     "varRefreshCmd": "print(var_dic_list())"
    },
    "r": {
     "delete_cmd_postfix": ") ",
     "delete_cmd_prefix": "rm(",
     "library": "var_list.r",
     "varRefreshCmd": "cat(var_dic_list()) "
    }
   },
   "types_to_exclude": [
    "module",
    "function",
    "builtin_function_or_method",
    "instance",
    "_Feature"
   ],
   "window_display": false
  }
 },
 "nbformat": 4,
 "nbformat_minor": 5
}
