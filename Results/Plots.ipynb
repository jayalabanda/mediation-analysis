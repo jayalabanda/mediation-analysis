{
 "cells": [
  {
   "cell_type": "code",
   "execution_count": null,
   "id": "6c3d73d6",
   "metadata": {},
   "outputs": [],
   "source": [
    "library(dplyr)\n",
    "library(ggplot2)\n",
    "library(RColorBrewer)\n",
    "library(gridExtra)\n",
    "library(magrittr)"
   ]
  },
  {
   "cell_type": "code",
   "execution_count": null,
   "id": "b904814e",
   "metadata": {},
   "outputs": [],
   "source": [
    "data <- data.frame(read.csv(\"stremr.csv\"))\n",
    "data"
   ]
  },
  {
   "cell_type": "code",
   "execution_count": null,
   "id": "fda7375a",
   "metadata": {},
   "outputs": [],
   "source": [
    "ggplot(data, aes(x = n_samples, y = duration, group = estimator)) +\n",
    "  geom_point(aes(shape = estimator, color = estimator)) +\n",
    "  geom_line(aes(color = estimator))"
   ]
  },
  {
   "cell_type": "code",
   "execution_count": null,
   "id": "f6de7d2f",
   "metadata": {},
   "outputs": [],
   "source": [
    "data <- data.frame(read.csv(\"medoutcon.csv\"))\n",
    "data"
   ]
  },
  {
   "cell_type": "code",
   "execution_count": null,
   "id": "f03689f4",
   "metadata": {},
   "outputs": [],
   "source": [
    "library(patchwork)\n",
    "\n",
    "p1 <- ggplot(data, aes(x = n_samples, y = direct_effect, group = estimator)) +\n",
    "  geom_point(aes(shape = estimator, color = estimator)) +\n",
    "  geom_line(aes(color = estimator))\n",
    "p2 <- ggplot(data, aes(x = n_samples, y = indirect_effect, group = estimator)) +\n",
    "  geom_point(aes(shape = estimator, color = estimator)) +\n",
    "  geom_line(aes(color = estimator))\n",
    "\n",
    "combined <- p1 + p2 + plot_layout(guides = \"collect\") & theme(legend.position = \"right\")\n",
    "combined"
   ]
  },
  {
   "cell_type": "code",
   "execution_count": null,
   "id": "c04693c4",
   "metadata": {},
   "outputs": [],
   "source": [
    "data <- data.frame(read.csv(\"iptw_gcomp.csv\"))\n",
    "data"
   ]
  },
  {
   "cell_type": "code",
   "execution_count": null,
   "id": "96e6bda7",
   "metadata": {},
   "outputs": [],
   "source": [
    "ggplot(data, aes(x = n_samples, y = duration, group = estimator)) +\n",
    "  geom_point(aes(shape = estimator, color = estimator)) +\n",
    "  geom_line(aes(color = estimator))"
   ]
  },
  {
   "cell_type": "code",
   "execution_count": null,
   "id": "a6f7eee9",
   "metadata": {},
   "outputs": [],
   "source": [
    "data <- data.frame(read.csv(\"medoutcon_all.csv\"))\n",
    "data"
   ]
  },
  {
   "cell_type": "code",
   "execution_count": null,
   "id": "419e6c36",
   "metadata": {},
   "outputs": [],
   "source": [
    "data_direct <- data[data$effect == \"direct\", -c(5)]\n",
    "data_direct"
   ]
  },
  {
   "cell_type": "code",
   "execution_count": null,
   "id": "cddec900",
   "metadata": {},
   "outputs": [],
   "source": [
    "data_indirect <- data[data$effect == \"indirect\", -c(5)]\n",
    "data_indirect"
   ]
  },
  {
   "cell_type": "code",
   "execution_count": null,
   "id": "d7b80f82",
   "metadata": {
    "scrolled": false
   },
   "outputs": [],
   "source": [
    "for (i in 5:11) {\n",
    "  data_direct %>%\n",
    "    group_by(estimator, learner) %>%\n",
    "    ggplot(aes(x = n_sim, y = data_direct[, i], fill = estimator, color = estimator, shape = learner)) +\n",
    "    geom_point(size=3) +\n",
    "    geom_line() +\n",
    "    ylab(colnames(data_direct)[i]) ->\n",
    "  p\n",
    "  print(p)\n",
    "}"
   ]
  },
  {
   "cell_type": "code",
   "execution_count": null,
   "id": "3725759d",
   "metadata": {
    "scrolled": false
   },
   "outputs": [],
   "source": [
    "for (i in 5:11) {\n",
    "  data_indirect %>%\n",
    "    group_by(estimator, learner) %>%\n",
    "    ggplot(aes(x = n_sim, y = data_indirect[, i], fill = estimator, color = estimator, shape = learner)) +\n",
    "    geom_point(size=3) +\n",
    "    geom_line() +\n",
    "    ylab(colnames(data_indirect)[i]) ->\n",
    "  p\n",
    "  print(p)\n",
    "}"
   ]
  },
  {
   "cell_type": "code",
   "execution_count": null,
   "id": "431971a6",
   "metadata": {},
   "outputs": [],
   "source": []
  }
 ],
 "metadata": {
  "kernelspec": {
   "display_name": "R",
   "language": "R",
   "name": "ir"
  },
  "language_info": {
   "codemirror_mode": "r",
   "file_extension": ".r",
   "mimetype": "text/x-r-source",
   "name": "R",
   "pygments_lexer": "r",
   "version": "4.1.0"
  },
  "toc": {
   "base_numbering": 1,
   "nav_menu": {},
   "number_sections": true,
   "sideBar": true,
   "skip_h1_title": false,
   "title_cell": "Table of Contents",
   "title_sidebar": "Contents",
   "toc_cell": false,
   "toc_position": {},
   "toc_section_display": true,
   "toc_window_display": false
  },
  "varInspector": {
   "cols": {
    "lenName": 16,
    "lenType": 16,
    "lenVar": 40
   },
   "kernels_config": {
    "python": {
     "delete_cmd_postfix": "",
     "delete_cmd_prefix": "del ",
     "library": "var_list.py",
     "varRefreshCmd": "print(var_dic_list())"
    },
    "r": {
     "delete_cmd_postfix": ") ",
     "delete_cmd_prefix": "rm(",
     "library": "var_list.r",
     "varRefreshCmd": "cat(var_dic_list()) "
    }
   },
   "types_to_exclude": [
    "module",
    "function",
    "builtin_function_or_method",
    "instance",
    "_Feature"
   ],
   "window_display": false
  }
 },
 "nbformat": 4,
 "nbformat_minor": 5
}
