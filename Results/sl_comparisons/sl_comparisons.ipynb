{
 "cells": [
  {
   "cell_type": "markdown",
   "id": "2a0b34da",
   "metadata": {},
   "source": [
    "<strong>Comparaison des méthodes d'apprentissage statistique</strong>"
   ]
  },
  {
   "cell_type": "code",
   "execution_count": null,
   "id": "75acc86d",
   "metadata": {},
   "outputs": [],
   "source": [
    "library(tidyr)\n",
    "library(dplyr)\n",
    "library(ggplot2)\n",
    "library(RColorBrewer)\n",
    "library(gridExtra)\n",
    "library(magrittr)\n",
    "library(stringr)\n",
    "library(tools)\n",
    "library(patchwork)"
   ]
  },
  {
   "cell_type": "code",
   "execution_count": null,
   "id": "8472216d",
   "metadata": {},
   "outputs": [],
   "source": [
    "options(repr.plot.width = 16, repr.plot.height = 12)"
   ]
  },
  {
   "cell_type": "code",
   "execution_count": null,
   "id": "ba0fb637",
   "metadata": {},
   "outputs": [],
   "source": [
    "get_dataframes <- function(estimator, effect, n_sims) {\n",
    "    ## Cette fonction permet de fusionner plusieurs dataframes en un seul\n",
    "    ## afin d'avoir le bon format pour ggplot2\n",
    "    ## arguments:\n",
    "    ##    estimator: estimateur sous forme de chaîne de caractères\n",
    "    ##    effet: effet direct ou indirect au même format\n",
    "    ##    n_sims: vecteur contenant le nombre de simulations\n",
    "    pattern <- paste0(\"^\", estimator, \"_\", effect, \"_\", \"[0-9]\")\n",
    "    my_files <- list.files(pattern = pattern, ignore.case = TRUE)\n",
    "    my_data <- lapply(my_files, read.csv)\n",
    "\n",
    "    big_data <- bind_rows(my_data)\n",
    "    keycol <- \"library\"\n",
    "    valuecol <- \"bias\"\n",
    "    gathercols <- colnames(big_data)\n",
    "\n",
    "    data_long <- gather_(big_data, keycol, valuecol, gathercols)\n",
    "    data_long$n <- c(rep(n_sims[1], n_sims[1]),\n",
    "                     rep(n_sims[2], n_sims[2]),\n",
    "                     rep(n_sims[3], n_sims[3]),\n",
    "                     rep(n_sims[4], n_sims[4]),\n",
    "                     rep(n_sims[5], n_sims[5]))\n",
    "\n",
    "    return(data_long)\n",
    "}"
   ]
  },
  {
   "cell_type": "code",
   "execution_count": null,
   "id": "8aed72be",
   "metadata": {},
   "outputs": [],
   "source": [
    "plot_biases <- function(estimator, effect, n_sims, main) {\n",
    "    data_long <- get_dataframes(estimator, effect, n_sims)\n",
    "\n",
    "    ggplot(data_long, aes(y = bias, fill = library)) +\n",
    "    geom_boxplot() +\n",
    "    geom_hline(yintercept = 0, linetype = \"dashed\",\n",
    "               color = \"black\", size = 1) +\n",
    "    facet_wrap(~n, nrow = 2) +\n",
    "    # guides(fill = guide_legend(ncol = 2)) +\n",
    "    theme(strip.text.x = element_text(size = 12, face = \"bold\"),\n",
    "          legend.position = c(1., .45),\n",
    "          legend.justification = c(\"right\", \"top\"),\n",
    "          legend.box.just = \"right\",\n",
    "          legend.margin = margin(6, 6, 6, 6),\n",
    "          legend.title = element_text(size = 13, face = \"bold\"),\n",
    "          legend.text = element_text(size = 12)) ->\n",
    "    p\n",
    "\n",
    "    return(p)\n",
    "}"
   ]
  },
  {
   "cell_type": "code",
   "execution_count": null,
   "id": "58361b86",
   "metadata": {},
   "outputs": [],
   "source": [
    "n_sims <- c(100, 200, 300, 400, 500)"
   ]
  },
  {
   "cell_type": "markdown",
   "id": "207f10b3",
   "metadata": {},
   "source": [
    "# Données originales\n",
    "\n",
    "## g-computation"
   ]
  },
  {
   "cell_type": "code",
   "execution_count": null,
   "id": "cbe472d8",
   "metadata": {},
   "outputs": [],
   "source": [
    "p <- plot_biases(\"gcomp\", \"sde\", n_sims, \"g-computation sur SDE\")\n",
    "print(p)\n",
    "# ggsave(\"C:/Users/luis_/Downloads/gcomp_sl_sde.png\", width = 16, height = 12, units = \"in\")\n",
    "ggsave(\"C:/Users/luis_/Downloads/gcomp_sl_sde.png\")"
   ]
  },
  {
   "cell_type": "code",
   "execution_count": null,
   "id": "907c6dd0",
   "metadata": {},
   "outputs": [],
   "source": [
    "p <- plot_biases(\"gcomp\", \"sie\", n_sims, \"g-computation sur SIE\")\n",
    "print(p)\n",
    "# ggsave(\"C:/Users/luis_/Downloads/gcomp_sl_sie.png\", width = 16, height = 12, units = \"in\")\n",
    "ggsave(\"C:/Users/luis_/Downloads/gcomp_sl_sie.png\")"
   ]
  },
  {
   "cell_type": "markdown",
   "id": "a38d522a",
   "metadata": {},
   "source": [
    "## IPTW"
   ]
  },
  {
   "cell_type": "code",
   "execution_count": null,
   "id": "6d81abfc",
   "metadata": {},
   "outputs": [],
   "source": [
    "p <- plot_biases(\"iptw\", \"sde\", n_sims, \"IPTW sur SDE\")\n",
    "print(p)\n",
    "# ggsave(\"C:/Users/luis_/Downloads/iptw_sl_sde.png\", width = 16, height = 12, units = \"in\")\n",
    "ggsave(\"C:/Users/luis_/Downloads/iptw_sl_sde.png\")"
   ]
  },
  {
   "cell_type": "code",
   "execution_count": null,
   "id": "a21bd8fd",
   "metadata": {},
   "outputs": [],
   "source": [
    "p <- plot_biases(\"iptw\", \"sie\", n_sims, \"IPTW sur SIE\")\n",
    "print(p)\n",
    "# ggsave(\"C:/Users/luis_/Downloads/iptw_sl_sie.png\", width = 16, height = 12, units = \"in\")\n",
    "ggsave(\"C:/Users/luis_/Downloads/iptw_sl_sie.png\")"
   ]
  },
  {
   "cell_type": "markdown",
   "id": "810f5d1b",
   "metadata": {},
   "source": [
    "## TMLE"
   ]
  },
  {
   "cell_type": "code",
   "execution_count": null,
   "id": "893da8da",
   "metadata": {},
   "outputs": [],
   "source": [
    "p <- plot_biases(\"tmle\", \"sde\", n_sims, \"TMLE sur SDE\")\n",
    "print(p)\n",
    "# ggsave(\"C:/Users/luis_/Downloads/tmle_sl_sde.png\", width = 16, height = 12, units = \"in\")\n",
    "ggsave(\"C:/Users/luis_/Downloads/tmle_sl_sde.png\")"
   ]
  },
  {
   "cell_type": "code",
   "execution_count": null,
   "id": "149b2f31",
   "metadata": {},
   "outputs": [],
   "source": [
    "p <- plot_biases(\"tmle\", \"sie\", n_sims, \"TMLE sur SIE\")\n",
    "print(p)\n",
    "# ggsave(\"C:/Users/luis_/Downloads/tmle_sl_sie.png\", width = 16, height = 12, units = \"in\")\n",
    "ggsave(\"C:/Users/luis_/Downloads/tmle_sl_sie.png\")"
   ]
  },
  {
   "cell_type": "markdown",
   "id": "c3d090e4",
   "metadata": {},
   "source": [
    "## one-step"
   ]
  },
  {
   "cell_type": "code",
   "execution_count": null,
   "id": "9c218717",
   "metadata": {},
   "outputs": [],
   "source": [
    "p <- plot_biases(\"onestep\", \"sde\", n_sims, \"one-step sur SDE\")\n",
    "print(p)\n",
    "# ggsave(\"C:/Users/luis_/Downloads/onestep_sl_sde.png\", width = 16, height = 12, units = \"in\")\n",
    "ggsave(\"C:/Users/luis_/Downloads/onestep_sl_sde.png\")"
   ]
  },
  {
   "cell_type": "code",
   "execution_count": null,
   "id": "1670868e",
   "metadata": {},
   "outputs": [],
   "source": [
    "p <- plot_biases(\"onestep\", \"sie\", n_sims, \"one-step sur SIE\")\n",
    "print(p)\n",
    "# ggsave(\"C:/Users/luis_/Downloads/onestep_sl_sie.png\", width = 16, height = 12, units = \"in\")\n",
    "ggsave(\"C:/Users/luis_/Downloads/onestep_sl_sie.png\")"
   ]
  },
  {
   "cell_type": "markdown",
   "id": "70c1876b",
   "metadata": {},
   "source": [
    "# Données avec problème de positivité\n",
    "\n",
    "## g-computation"
   ]
  },
  {
   "cell_type": "code",
   "execution_count": null,
   "id": "ff17b07c",
   "metadata": {},
   "outputs": [],
   "source": [
    "p <- plot_biases(\"gcomp\", \"sde_posit\", n_sims, \"g-computation sur SDE\\net problème de positivité\")\n",
    "print(p)\n",
    "# ggsave(\"C:/Users/luis_/Downloads/gcomp_posit_sl_sde.png\", width = 16, height = 12, units = \"in\")\n",
    "ggsave(\"C:/Users/luis_/Downloads/gcomp_posit_sl_sde.png\")"
   ]
  },
  {
   "cell_type": "code",
   "execution_count": null,
   "id": "83f7c0d4",
   "metadata": {},
   "outputs": [],
   "source": [
    "p <- plot_biases(\"gcomp\", \"sie_posit\", n_sims, \"g-computation sur SIE\\net problème de positivité\")\n",
    "print(p)\n",
    "# ggsave(\"C:/Users/luis_/Downloads/gcomp_posit_sl_sie.png\", width = 16, height = 12, units = \"in\")\n",
    "ggsave(\"C:/Users/luis_/Downloads/gcomp_posit_sl_sie.png\")"
   ]
  },
  {
   "cell_type": "markdown",
   "id": "b735a853",
   "metadata": {},
   "source": [
    "## IPTW"
   ]
  },
  {
   "cell_type": "code",
   "execution_count": null,
   "id": "f09a5506",
   "metadata": {},
   "outputs": [],
   "source": [
    "p <- plot_biases(\"iptw\", \"sde_posit\", n_sims, \"IPTW sur SDE\\net problème de positivité\")\n",
    "print(p)\n",
    "# ggsave(\"C:/Users/luis_/Downloads/iptw_posit_sl_sde.png\", width = 16, height = 12, units = \"in\")\n",
    "ggsave(\"C:/Users/luis_/Downloads/iptw_posit_sl_sde.png\")"
   ]
  },
  {
   "cell_type": "code",
   "execution_count": null,
   "id": "05dc7cd5",
   "metadata": {},
   "outputs": [],
   "source": [
    "p <- plot_biases(\"iptw\", \"sie_posit\", n_sims, \"IPTW sur SIE\\net problème de positivité\")\n",
    "print(p)\n",
    "# ggsave(\"C:/Users/luis_/Downloads/iptw_posit_sl_sie.png\", width = 16, height = 12, units = \"in\")\n",
    "ggsave(\"C:/Users/luis_/Downloads/iptw_posit_sl_sie.png\")"
   ]
  },
  {
   "cell_type": "markdown",
   "id": "7f0405f0",
   "metadata": {},
   "source": [
    "## TMLE"
   ]
  },
  {
   "cell_type": "code",
   "execution_count": null,
   "id": "33e37233",
   "metadata": {},
   "outputs": [],
   "source": [
    "p <- plot_biases(\"tmle\", \"sde_posit\", n_sims, \"TMLE sur SDE\\net problème de positivité\")\n",
    "print(p)\n",
    "# ggsave(\"C:/Users/luis_/Downloads/tmle_posit_sl_sde.png\", width = 16, height = 12, units = \"in\")\n",
    "ggsave(\"C:/Users/luis_/Downloads/tmle_posit_sl_sde.png\")"
   ]
  },
  {
   "cell_type": "code",
   "execution_count": null,
   "id": "544a877f",
   "metadata": {},
   "outputs": [],
   "source": [
    "p <- plot_biases(\"tmle\", \"sie_posit\", n_sims, \"TMLE sur SIE\\net problème de positivité\")\n",
    "print(p)\n",
    "# ggsave(\"C:/Users/luis_/Downloads/tmle_posit_sl_sie.png\", width = 16, height = 12, units = \"in\")\n",
    "ggsave(\"C:/Users/luis_/Downloads/tmle_posit_sl_sie.png\")"
   ]
  },
  {
   "cell_type": "markdown",
   "id": "b485458e",
   "metadata": {},
   "source": [
    "## one-step"
   ]
  },
  {
   "cell_type": "code",
   "execution_count": null,
   "id": "67c305c4",
   "metadata": {
    "scrolled": false
   },
   "outputs": [],
   "source": [
    "p <- plot_biases(\"onestep\", \"sde_posit\", n_sims, \"one-step sur SDE\\net problème de positivité\")\n",
    "print(p)\n",
    "# ggsave(\"C:/Users/luis_/Downloads/onestep_posit_sl_sde.png\", width = 16, height = 12, units = \"in\")\n",
    "ggsave(\"C:/Users/luis_/Downloads/onestep_posit_sl_sde.png\")"
   ]
  },
  {
   "cell_type": "code",
   "execution_count": null,
   "id": "83bca996",
   "metadata": {
    "scrolled": false
   },
   "outputs": [],
   "source": [
    "p <- plot_biases(\"onestep\", \"sie_posit\", n_sims, \"one-step sur SIE\\net problème de positivité\")\n",
    "print(p)\n",
    "# ggsave(\"C:/Users/luis_/Downloads/onestep_posit_sl_sie.png\", width = 16, height = 12, units = \"in\")\n",
    "ggsave(\"C:/Users/luis_/Downloads/onestep_posit_sl_sie.png\")"
   ]
  },
  {
   "cell_type": "markdown",
   "id": "3b232dbf",
   "metadata": {},
   "source": [
    "# Variables baseline continues\n",
    "\n",
    "## g-computation"
   ]
  },
  {
   "cell_type": "code",
   "execution_count": null,
   "id": "015149f8",
   "metadata": {
    "scrolled": false
   },
   "outputs": [],
   "source": [
    "p <- plot_biases(\"gcomp\", \"sde_quant\", n_sims, \"g-computation sur SDE\\net variables baseline quantitatives\")\n",
    "print(p)\n",
    "# ggsave(\"C:/Users/luis_/Downloads/gcomp_quant_sl_sde.png\", width = 16, height = 12, units = \"in\")\n",
    "ggsave(\"C:/Users/luis_/Downloads/gcomp_quant_sl_sde.png\")"
   ]
  },
  {
   "cell_type": "code",
   "execution_count": null,
   "id": "308868ff",
   "metadata": {
    "scrolled": false
   },
   "outputs": [],
   "source": [
    "p <- plot_biases(\"gcomp\", \"sie_quant\", n_sims, \"g-computation sur SIE\\net variables baseline quantitatives\")\n",
    "print(p)\n",
    "# ggsave(\"C:/Users/luis_/Downloads/gcomp_quant_sl_sie.png\", width = 16, height = 12, units = \"in\")\n",
    "ggsave(\"C:/Users/luis_/Downloads/gcomp_quant_sl_sie.png\")"
   ]
  },
  {
   "cell_type": "markdown",
   "id": "1dace866",
   "metadata": {},
   "source": [
    "## IPTW"
   ]
  },
  {
   "cell_type": "code",
   "execution_count": null,
   "id": "b190913e",
   "metadata": {
    "scrolled": false
   },
   "outputs": [],
   "source": [
    "p <- plot_biases(\"iptw\", \"sde_quant\", n_sims, \"IPTW sur SDE\\net variables baseline quantitatives\")\n",
    "print(p)\n",
    "# ggsave(\"C:/Users/luis_/Downloads/iptw_quant_sl_sde.png\", width = 16, height = 12, units = \"in\")\n",
    "ggsave(\"C:/Users/luis_/Downloads/iptw_quant_sl_sde.png\")"
   ]
  },
  {
   "cell_type": "code",
   "execution_count": null,
   "id": "a0a62416",
   "metadata": {
    "scrolled": false
   },
   "outputs": [],
   "source": [
    "p <- plot_biases(\"iptw\", \"sie_quant\", n_sims, \"IPTW sur SIE\\net variables baseline quantitatives\")\n",
    "print(p)\n",
    "# ggsave(\"C:/Users/luis_/Downloads/iptw_quant_sl_sie.png\", width = 16, height = 12, units = \"in\")\n",
    "ggsave(\"C:/Users/luis_/Downloads/iptw_quant_sl_sie.png\")"
   ]
  },
  {
   "cell_type": "markdown",
   "id": "21343e9d",
   "metadata": {},
   "source": [
    "## TMLE"
   ]
  },
  {
   "cell_type": "code",
   "execution_count": null,
   "id": "10b5cc09",
   "metadata": {
    "scrolled": false
   },
   "outputs": [],
   "source": [
    "p <- plot_biases(\"tmle\", \"sde_quant\", n_sims, \"TMLE sur SDE\\net variables baseline quantitatives\")\n",
    "print(p)\n",
    "# ggsave(\"C:/Users/luis_/Downloads/tmle_quant_sl_sde.png\", width = 16, height = 12, units = \"in\")\n",
    "ggsave(\"C:/Users/luis_/Downloads/tmle_quant_sl_sde.png\")"
   ]
  },
  {
   "cell_type": "code",
   "execution_count": null,
   "id": "7459feb8",
   "metadata": {
    "scrolled": false
   },
   "outputs": [],
   "source": [
    "p <- plot_biases(\"tmle\", \"sie_quant\", n_sims, \"TMLE sur SIE\\net variables baseline quantitatives\")\n",
    "print(p)\n",
    "# ggsave(\"C:/Users/luis_/Downloads/tmle_quant_sl_sie.png\", width = 16, height = 12, units = \"in\")\n",
    "ggsave(\"C:/Users/luis_/Downloads/tmle_quant_sl_sie.png\")"
   ]
  },
  {
   "cell_type": "markdown",
   "id": "5f8eebbb",
   "metadata": {},
   "source": [
    "## one-step"
   ]
  },
  {
   "cell_type": "code",
   "execution_count": null,
   "id": "b271d71b",
   "metadata": {
    "scrolled": false
   },
   "outputs": [],
   "source": [
    "p <- plot_biases(\"onestep\", \"sde_quant\", n_sims, \"one-step sur SDE\\net variables baseline quantitatives\")\n",
    "print(p)\n",
    "# ggsave(\"C:/Users/luis_/Downloads/onestep_quant_sl_sde.png\", width = 16, height = 12, units = \"in\")\n",
    "ggsave(\"C:/Users/luis_/Downloads/onestep_quant_sl_sde.png\")"
   ]
  },
  {
   "cell_type": "code",
   "execution_count": null,
   "id": "4863120c",
   "metadata": {
    "scrolled": false
   },
   "outputs": [],
   "source": [
    "p <- plot_biases(\"onestep\", \"sie_quant\", n_sims, \"one-step sur SIE\\net variables baseline quantitatives\")\n",
    "print(p)\n",
    "# ggsave(\"C:/Users/luis_/Downloads/onestep_quant_sl_sie.png\", width = 16, height = 12, units = \"in\")\n",
    "ggsave(\"C:/Users/luis_/Downloads/onestep_quant_sl_sie.png\")"
   ]
  },
  {
   "cell_type": "markdown",
   "id": "bd375864",
   "metadata": {},
   "source": [
    "# Modèle Rudolph\n",
    "\n",
    "## g-computation"
   ]
  },
  {
   "cell_type": "code",
   "execution_count": null,
   "id": "d868a821",
   "metadata": {
    "scrolled": false
   },
   "outputs": [],
   "source": [
    "p <- plot_biases(\"gcomp\", \"sde_rud\", n_sims, \"g-computation sur SDE\\net modèle complexe (Rudolph)\")\n",
    "print(p)\n",
    "# ggsave(\"C:/Users/luis_/Downloads/gcomp_rud_sl_sde.png\", width = 16, height = 12, units = \"in\")\n",
    "ggsave(\"C:/Users/luis_/Downloads/gcomp_rud_sl_sde.png\")"
   ]
  },
  {
   "cell_type": "code",
   "execution_count": null,
   "id": "6f45f35b",
   "metadata": {
    "scrolled": false
   },
   "outputs": [],
   "source": [
    "p <- plot_biases(\"gcomp\", \"sie_rud\", n_sims, \"g-computation sur SIE\\net modèle complexe (Rudolph)\")\n",
    "print(p)\n",
    "# ggsave(\"C:/Users/luis_/Downloads/gcomp_rud_sl_sie.png\", width = 16, height = 12, units = \"in\")\n",
    "ggsave(\"C:/Users/luis_/Downloads/gcomp_rud_sl_sie.png\")"
   ]
  },
  {
   "cell_type": "markdown",
   "id": "82fd9cd7",
   "metadata": {},
   "source": [
    "## IPTW"
   ]
  },
  {
   "cell_type": "code",
   "execution_count": null,
   "id": "03856248",
   "metadata": {
    "scrolled": false
   },
   "outputs": [],
   "source": [
    "p <- plot_biases(\"iptw\", \"sde_rud\", n_sims, \"IPTW sur SDE\\net modèle complexe (Rudolph)\")\n",
    "print(p)\n",
    "# ggsave(\"C:/Users/luis_/Downloads/iptw_rud_sl_sde.png\", width = 16, height = 12, units = \"in\")\n",
    "ggsave(\"C:/Users/luis_/Downloads/iptw_rud_sl_sde.png\")"
   ]
  },
  {
   "cell_type": "code",
   "execution_count": null,
   "id": "03281336",
   "metadata": {
    "scrolled": false
   },
   "outputs": [],
   "source": [
    "p <- plot_biases(\"iptw\", \"sie_rud\", n_sims, \"IPTW sur SIE\\net modèle complexe (Rudolph)\")\n",
    "print(p)\n",
    "# ggsave(\"C:/Users/luis_/Downloads/iptw_rud_sl_sie.png\", width = 16, height = 12, units = \"in\")\n",
    "ggsave(\"C:/Users/luis_/Downloads/iptw_rud_sl_sie.png\")"
   ]
  },
  {
   "cell_type": "markdown",
   "id": "0dd2a3e2",
   "metadata": {},
   "source": [
    "## TMLE"
   ]
  },
  {
   "cell_type": "code",
   "execution_count": null,
   "id": "9cc5e5c7",
   "metadata": {
    "scrolled": false
   },
   "outputs": [],
   "source": [
    "p <- plot_biases(\"tmle\", \"sde_rud\", n_sims, \"TMLE sur SDE\\net modèle complexe (Rudolph)\")\n",
    "print(p)\n",
    "# ggsave(\"C:/Users/luis_/Downloads/tmle_rud_sl_sde.png\", width = 16, height = 12, units = \"in\")\n",
    "ggsave(\"C:/Users/luis_/Downloads/tmle_rud_sl_sde.png\")"
   ]
  },
  {
   "cell_type": "code",
   "execution_count": null,
   "id": "623d1426",
   "metadata": {
    "scrolled": false
   },
   "outputs": [],
   "source": [
    "p <- plot_biases(\"tmle\", \"sie_rud\", n_sims, \"TMLE sur SIE\\net modèle complexe (Rudolph)\")\n",
    "print(p)\n",
    "# ggsave(\"C:/Users/luis_/Downloads/tmle_rud_sl_sie.png\", width = 16, height = 12, units = \"in\")\n",
    "ggsave(\"C:/Users/luis_/Downloads/tmle_rud_sl_sie.png\")"
   ]
  },
  {
   "cell_type": "markdown",
   "id": "5fcc73d2",
   "metadata": {},
   "source": [
    "## one-step"
   ]
  },
  {
   "cell_type": "code",
   "execution_count": null,
   "id": "55f8de9a",
   "metadata": {
    "scrolled": false
   },
   "outputs": [],
   "source": [
    "p <- plot_biases(\"onestep\", \"sde_rud\", n_sims, \"one-step sur SDE\\net modèle complexe (Rudolph)\")\n",
    "print(p)\n",
    "# ggsave(\"C:/Users/luis_/Downloads/onestep_rud_sl_sde.png\", width = 16, height = 12, units = \"in\")\n",
    "ggsave(\"C:/Users/luis_/Downloads/onestep_rud_sl_sde.png\")"
   ]
  },
  {
   "cell_type": "code",
   "execution_count": null,
   "id": "be41a2d8",
   "metadata": {
    "scrolled": false
   },
   "outputs": [],
   "source": [
    "p <- plot_biases(\"onestep\", \"sie_rud\", n_sims, \"one-step sur SIE\\net modèle complexe (Rudolph)\")\n",
    "print(p)\n",
    "# ggsave(\"C:/Users/luis_/Downloads/onestep_rud_sl_sie.png\", width = 16, height = 12, units = \"in\")\n",
    "ggsave(\"C:/Users/luis_/Downloads/onestep_rud_sl_sie.png\")"
   ]
  },
  {
   "cell_type": "markdown",
   "id": "b620a017",
   "metadata": {},
   "source": [
    "# Variable de confusion continue\n",
    "\n",
    "## g-computation"
   ]
  },
  {
   "cell_type": "code",
   "execution_count": null,
   "id": "30e0d32e",
   "metadata": {
    "scrolled": false
   },
   "outputs": [],
   "source": [
    "p <- plot_biases(\"gcomp\", \"sde_conf\", n_sims, \"g-computation sur SDE\\net variable de confusion quantitative\")\n",
    "print(p)\n",
    "# ggsave(\"C:/Users/luis_/Downloads/gcomp_conf_sl_sde.png\", width = 16, height = 12, units = \"in\")\n",
    "ggsave(\"C:/Users/luis_/Downloads/gcomp_conf_sl_sde.png\")"
   ]
  },
  {
   "cell_type": "code",
   "execution_count": null,
   "id": "24bc63b4",
   "metadata": {
    "scrolled": false
   },
   "outputs": [],
   "source": [
    "p <- plot_biases(\"gcomp\", \"sie_conf\", n_sims, \"g-computation sur SIE\\net variable de confusion quantitative\")\n",
    "print(p)\n",
    "# ggsave(\"C:/Users/luis_/Downloads/gcomp_conf_sl_sie.png\", width = 16, height = 12, units = \"in\")\n",
    "ggsave(\"C:/Users/luis_/Downloads/gcomp_conf_sl_sie.png\")"
   ]
  },
  {
   "cell_type": "markdown",
   "id": "d784333f",
   "metadata": {},
   "source": [
    "## IPTW"
   ]
  },
  {
   "cell_type": "code",
   "execution_count": null,
   "id": "4fb5e259",
   "metadata": {
    "scrolled": false
   },
   "outputs": [],
   "source": [
    "p <- plot_biases(\"iptw\", \"sde_conf\", n_sims, \"IPTW sur SDE\\net variable de confusion quantitative\")\n",
    "print(p)\n",
    "# ggsave(\"C:/Users/luis_/Downloads/iptw_conf_sl_sde.png\", width = 16, height = 12, units = \"in\")\n",
    "ggsave(\"C:/Users/luis_/Downloads/iptw_conf_sl_sde.png\")"
   ]
  },
  {
   "cell_type": "code",
   "execution_count": null,
   "id": "1e2924f1",
   "metadata": {
    "scrolled": false
   },
   "outputs": [],
   "source": [
    "p <- plot_biases(\"iptw\", \"sie_conf\", n_sims, \"IPTW sur SIE\\net variable de confusion quantitative\")\n",
    "print(p)\n",
    "# ggsave(\"C:/Users/luis_/Downloads/iptw_conf_sl_sie.png\", width = 16, height = 12, units = \"in\")\n",
    "ggsave(\"C:/Users/luis_/Downloads/iptw_conf_sl_sie.png\")"
   ]
  },
  {
   "cell_type": "markdown",
   "id": "78c1a83d",
   "metadata": {},
   "source": [
    "## TMLE"
   ]
  },
  {
   "cell_type": "code",
   "execution_count": null,
   "id": "e6ca57f1",
   "metadata": {
    "scrolled": false
   },
   "outputs": [],
   "source": [
    "p <- plot_biases(\"tmle\", \"sde_conf\", n_sims, \"TMLE sur SDE\\net variable de confusion quantitative\")\n",
    "print(p)\n",
    "# ggsave(\"C:/Users/luis_/Downloads/tmle_conf_sl_sde.png\", width = 16, height = 12, units = \"in\")\n",
    "ggsave(\"C:/Users/luis_/Downloads/tmle_conf_sl_sde.png\")"
   ]
  },
  {
   "cell_type": "code",
   "execution_count": null,
   "id": "a2ed7405",
   "metadata": {
    "scrolled": false
   },
   "outputs": [],
   "source": [
    "p <- plot_biases(\"tmle\", \"sie_conf\", n_sims, \"TMLE sur SIE\\net variable de confusion quantitative\")\n",
    "print(p)\n",
    "# ggsave(\"C:/Users/luis_/Downloads/tmle_conf_sl_sie.png\", width = 16, height = 12, units = \"in\")\n",
    "ggsave(\"C:/Users/luis_/Downloads/tmle_conf_sl_sie.png\")"
   ]
  },
  {
   "cell_type": "code",
   "execution_count": null,
   "id": "0fe0e561",
   "metadata": {},
   "outputs": [],
   "source": []
  }
 ],
 "metadata": {
  "kernelspec": {
   "display_name": "R",
   "language": "R",
   "name": "ir"
  },
  "language_info": {
   "codemirror_mode": "r",
   "file_extension": ".r",
   "mimetype": "text/x-r-source",
   "name": "R",
   "pygments_lexer": "r",
   "version": "4.1.1"
  },
  "toc": {
   "base_numbering": 1,
   "nav_menu": {},
   "number_sections": true,
   "sideBar": true,
   "skip_h1_title": false,
   "title_cell": "Table of Contents",
   "title_sidebar": "Contents",
   "toc_cell": false,
   "toc_position": {},
   "toc_section_display": true,
   "toc_window_display": false
  },
  "varInspector": {
   "cols": {
    "lenName": 16,
    "lenType": 16,
    "lenVar": 40
   },
   "kernels_config": {
    "python": {
     "delete_cmd_postfix": "",
     "delete_cmd_prefix": "del ",
     "library": "var_list.py",
     "varRefreshCmd": "print(var_dic_list())"
    },
    "r": {
     "delete_cmd_postfix": ") ",
     "delete_cmd_prefix": "rm(",
     "library": "var_list.r",
     "varRefreshCmd": "cat(var_dic_list()) "
    }
   },
   "types_to_exclude": [
    "module",
    "function",
    "builtin_function_or_method",
    "instance",
    "_Feature"
   ],
   "window_display": false
  }
 },
 "nbformat": 4,
 "nbformat_minor": 5
}
