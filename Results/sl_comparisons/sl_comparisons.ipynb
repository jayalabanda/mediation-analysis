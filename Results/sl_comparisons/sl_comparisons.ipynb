{
 "cells": [
  {
   "cell_type": "markdown",
   "id": "b863da3a",
   "metadata": {},
   "source": [
    "# Comparaison des méthodes d'apprentissage statistique"
   ]
  },
  {
   "cell_type": "code",
   "execution_count": null,
   "id": "3cb26d6a",
   "metadata": {},
   "outputs": [],
   "source": [
    "library(dplyr)\n",
    "library(ggplot2)\n",
    "library(RColorBrewer)\n",
    "library(gridExtra)\n",
    "library(magrittr)\n",
    "library(stringr)\n",
    "library(tools)\n",
    "library(patchwork)"
   ]
  },
  {
   "cell_type": "code",
   "execution_count": null,
   "id": "e73aa432",
   "metadata": {},
   "outputs": [],
   "source": [
    "options(repr.plot.width = 12, repr.plot.height = 8)"
   ]
  },
  {
   "cell_type": "code",
   "execution_count": null,
   "id": "6fb59637",
   "metadata": {},
   "outputs": [],
   "source": [
    "plot_biases <- function(data, n_sim, effect) {\n",
    "  if (ncol(data) == 5) {\n",
    "    data_ggp <- data.frame(\n",
    "      x = seq(n_sim),\n",
    "      y = c(data[, 1], data[, 2], data[, 3], data[, 4], data[, 5]),\n",
    "      librairie = c(rep(\"glm\", n_sim),\n",
    "                    rep(\"glm_interaction\", n_sim),\n",
    "                    rep(\"ranger\", n_sim),\n",
    "                    rep(\"bayes_glm\", n_sim),\n",
    "                    rep(\"speed_lm\", n_sim)\n",
    "                   )\n",
    "    )\n",
    "  } else {\n",
    "    if (str_detect(effect, \"TMLE\") | str_detect(effect, \"one-step\")) {\n",
    "      data_ggp <- data.frame(\n",
    "        x = seq(n_sim),\n",
    "        y = c(data[, 1], data[, 2], data[, 3], data[, 4]),\n",
    "        librairie = c(rep(\"bayes_glm\", n_sim),\n",
    "                      rep(\"glm_fast\", n_sim),\n",
    "                      rep(\"ranger\", n_sim),\n",
    "                      rep(\"nnet\", n_sim)\n",
    "                     )\n",
    "      )\n",
    "    } else {\n",
    "      data_ggp <- data.frame(\n",
    "        x = seq(n_sim),\n",
    "        y = c(data[, 1], data[, 2], data[, 3], data[, 4]),\n",
    "        librairie = c(rep(\"glm\", n_sim),\n",
    "                      rep(\"glm_interaction\", n_sim),\n",
    "                      rep(\"ranger\", n_sim),\n",
    "                      rep(\"bayes_glm\", n_sim)\n",
    "                     )\n",
    "      )\n",
    "    }\n",
    "  }\n",
    " \n",
    "  p <- ggplot(data_ggp, aes(x, y, fill = librairie)) +\n",
    "    geom_boxplot() +\n",
    "    geom_hline(yintercept = 0, linetype = \"dashed\",\n",
    "               color = \"black\", size = 1) +\n",
    "    ggtitle(paste(\"Biais sur \", effect, \" où n = \", n_sim, sep = \"\")) +\n",
    "    theme(legend.title = element_text(size = 16, face = \"bold\"),\n",
    "          legend.text = element_text(size = 15),\n",
    "          plot.title = element_text(size = 18, hjust = 0.5))\n",
    "  print(p)\n",
    "}"
   ]
  },
  {
   "cell_type": "code",
   "execution_count": null,
   "id": "6b438271",
   "metadata": {},
   "outputs": [],
   "source": [
    "dir <- 0.124793\n",
    "ind <- 0.3026875"
   ]
  },
  {
   "cell_type": "code",
   "execution_count": null,
   "id": "31b84625",
   "metadata": {},
   "outputs": [],
   "source": [
    "n_sims <- c(100, 200, 300, 400, 500)"
   ]
  },
  {
   "cell_type": "markdown",
   "id": "b94dfd3d",
   "metadata": {},
   "source": [
    "## Données originales\n",
    "\n",
    "### g-computation"
   ]
  },
  {
   "cell_type": "code",
   "execution_count": null,
   "id": "4defc9a2",
   "metadata": {
    "scrolled": false
   },
   "outputs": [],
   "source": [
    "for (n_sim in n_sims) {\n",
    "  data <- read.csv(paste0(\"gcomp_sde_\", n_sim, \".csv\", sep = \"\"))\n",
    "  plot_biases(data, n_sim, \"g-computation sur SDE\")\n",
    "}"
   ]
  },
  {
   "cell_type": "code",
   "execution_count": null,
   "id": "869561e2",
   "metadata": {
    "scrolled": false
   },
   "outputs": [],
   "source": [
    "for (n_sim in n_sims) {\n",
    "  data <- read.csv(paste0(\"gcomp_sie_\", n_sim, \".csv\", sep = \"\"))\n",
    "  plot_biases(data, n_sim, \"g-computation sur SIE\")\n",
    "}"
   ]
  },
  {
   "cell_type": "markdown",
   "id": "bc6420f5",
   "metadata": {},
   "source": [
    "### IPTW"
   ]
  },
  {
   "cell_type": "code",
   "execution_count": null,
   "id": "5e6944d4",
   "metadata": {
    "scrolled": false
   },
   "outputs": [],
   "source": [
    "for (n_sim in n_sims) {\n",
    "  data <- read.csv(paste0(\"iptw_sde_\", n_sim, \".csv\", sep = \"\"))\n",
    "  plot_biases(data, n_sim, \"IPTW sur SDE\")\n",
    "}"
   ]
  },
  {
   "cell_type": "code",
   "execution_count": null,
   "id": "961bd35a",
   "metadata": {
    "scrolled": false
   },
   "outputs": [],
   "source": [
    "for (n_sim in n_sims) {\n",
    "  data <- read.csv(paste0(\"iptw_sie_\", n_sim, \".csv\", sep = \"\"))\n",
    "  plot_biases(data, n_sim, \"IPTW sur SIE\")\n",
    "}"
   ]
  },
  {
   "cell_type": "markdown",
   "id": "1218cbcf",
   "metadata": {},
   "source": [
    "### TMLE"
   ]
  },
  {
   "cell_type": "code",
   "execution_count": null,
   "id": "699c9d94",
   "metadata": {
    "scrolled": false
   },
   "outputs": [],
   "source": [
    "for (n_sim in n_sims) {\n",
    "  data <- read.csv(paste0(\"tmle_sde_\", n_sim, \".csv\", sep = \"\"))\n",
    "  plot_biases(data, n_sim, \"TMLE sur SDE\")\n",
    "}"
   ]
  },
  {
   "cell_type": "code",
   "execution_count": null,
   "id": "237bcd80",
   "metadata": {
    "scrolled": false
   },
   "outputs": [],
   "source": [
    "for (n_sim in n_sims) {\n",
    "  data <- read.csv(paste0(\"tmle_sie_\", n_sim, \".csv\", sep = \"\"))\n",
    "  plot_biases(data, n_sim, \"TMLE sur SIE\")\n",
    "}"
   ]
  },
  {
   "cell_type": "markdown",
   "id": "9a79e8a8",
   "metadata": {},
   "source": [
    "### one-step"
   ]
  },
  {
   "cell_type": "code",
   "execution_count": null,
   "id": "29e1e398",
   "metadata": {
    "scrolled": false
   },
   "outputs": [],
   "source": [
    "for (n_sim in n_sims) {\n",
    "  data <- read.csv(paste0(\"onestep_sde_\", n_sim, \".csv\", sep = \"\"))\n",
    "  plot_biases(data, n_sim, \"one-step sur SDE\")\n",
    "}"
   ]
  },
  {
   "cell_type": "code",
   "execution_count": null,
   "id": "3e95d9d6",
   "metadata": {
    "scrolled": false
   },
   "outputs": [],
   "source": [
    "for (n_sim in n_sims) {\n",
    "  data <- read.csv(paste0(\"onestep_sie_\", n_sim, \".csv\", sep = \"\"))\n",
    "  plot_biases(data, n_sim, \"one-step sur SIE\")\n",
    "}"
   ]
  },
  {
   "cell_type": "markdown",
   "id": "0e13971f",
   "metadata": {},
   "source": [
    "## Données avec problème de positivité\n",
    "\n",
    "### g-computation"
   ]
  },
  {
   "cell_type": "code",
   "execution_count": null,
   "id": "d86de003",
   "metadata": {
    "scrolled": false
   },
   "outputs": [],
   "source": [
    "for (n_sim in n_sims) {\n",
    "  data <- read.csv(paste0(\"gcomp_sde_posit_\", n_sim, \".csv\", sep = \"\"))\n",
    "  plot_biases(data, n_sim, \"g-computation sur SDE avec problème de positivité\")\n",
    "}"
   ]
  },
  {
   "cell_type": "code",
   "execution_count": null,
   "id": "e4c8cc86",
   "metadata": {
    "scrolled": false
   },
   "outputs": [],
   "source": [
    "for (n_sim in n_sims) {\n",
    "  data <- read.csv(paste0(\"gcomp_sie_posit_\", n_sim, \".csv\", sep = \"\"))\n",
    "  plot_biases(data, n_sim, \"g-computation sur SIE avec problème de positivité\")\n",
    "}"
   ]
  },
  {
   "cell_type": "markdown",
   "id": "79d5516d",
   "metadata": {},
   "source": [
    "### IPTW"
   ]
  },
  {
   "cell_type": "code",
   "execution_count": null,
   "id": "ac1fe5fc",
   "metadata": {
    "scrolled": false
   },
   "outputs": [],
   "source": [
    "for (n_sim in n_sims) {\n",
    "  data <- read.csv(paste0(\"iptw_sde_posit_\", n_sim, \".csv\", sep = \"\"))\n",
    "  plot_biases(data, n_sim, \"IPTW sur SDE avec problème de positivité\")\n",
    "}"
   ]
  },
  {
   "cell_type": "code",
   "execution_count": null,
   "id": "e279862e",
   "metadata": {
    "scrolled": false
   },
   "outputs": [],
   "source": [
    "for (n_sim in n_sims) {\n",
    "  data <- read.csv(paste0(\"iptw_sie_posit_\", n_sim, \".csv\", sep = \"\"))\n",
    "  plot_biases(data, n_sim, \"IPTW sur SIE avec problème de positivité\")\n",
    "}"
   ]
  },
  {
   "cell_type": "markdown",
   "id": "8183ebe9",
   "metadata": {},
   "source": [
    "### TMLE"
   ]
  },
  {
   "cell_type": "code",
   "execution_count": null,
   "id": "e051cdea",
   "metadata": {},
   "outputs": [],
   "source": [
    "for (n_sim in n_sims) {\n",
    "  data <- read.csv(paste0(\"tmle_sde_posit_\", n_sim, \".csv\", sep = \"\"))\n",
    "  plot_biases(data, n_sim, \"TMLE sur SDE avec problème de positivité\")\n",
    "}"
   ]
  },
  {
   "cell_type": "code",
   "execution_count": null,
   "id": "f37bc64a",
   "metadata": {},
   "outputs": [],
   "source": [
    "for (n_sim in n_sims) {\n",
    "  data <- read.csv(paste0(\"tmle_sie_posit_\", n_sim, \".csv\", sep = \"\"))\n",
    "  plot_biases(data, n_sim, \"TMLE sur SIE avec problème de positivité\")\n",
    "}"
   ]
  },
  {
   "cell_type": "markdown",
   "id": "0ed383f0",
   "metadata": {},
   "source": [
    "### one-step"
   ]
  },
  {
   "cell_type": "code",
   "execution_count": null,
   "id": "9c8b3414",
   "metadata": {},
   "outputs": [],
   "source": [
    "for (n_sim in n_sims) {\n",
    "  data <- read.csv(paste0(\"onestep_sde_posit_\", n_sim, \".csv\", sep = \"\"))\n",
    "  plot_biases(data, n_sim, \"one-step sur SDE avec problème de positivité\")\n",
    "}"
   ]
  },
  {
   "cell_type": "code",
   "execution_count": null,
   "id": "51a88a46",
   "metadata": {},
   "outputs": [],
   "source": [
    "for (n_sim in n_sims) {\n",
    "  data <- read.csv(paste0(\"onestep_sie_posit_\", n_sim, \".csv\", sep = \"\"))\n",
    "  plot_biases(data, n_sim, \"one-step sur SIE avec problème de positivité\")\n",
    "}"
   ]
  },
  {
   "cell_type": "markdown",
   "id": "ec2f3390",
   "metadata": {},
   "source": [
    "## Variables baseline continues\n",
    "\n",
    "### g-computation"
   ]
  },
  {
   "cell_type": "code",
   "execution_count": null,
   "id": "099d0bf3",
   "metadata": {
    "scrolled": false
   },
   "outputs": [],
   "source": [
    "for (n_sim in n_sims) {\n",
    "  data <- read.csv(paste0(\"gcomp_sde_quant_\", n_sim, \".csv\", sep = \"\"))\n",
    "  plot_biases(data, n_sim, \"g-computation sur SDE avec variables baseline continues\")\n",
    "}"
   ]
  },
  {
   "cell_type": "code",
   "execution_count": null,
   "id": "fc2de00d",
   "metadata": {
    "scrolled": false
   },
   "outputs": [],
   "source": [
    "for (n_sim in n_sims) {\n",
    "  data <- read.csv(paste0(\"gcomp_sie_quant_\", n_sim, \".csv\", sep = \"\"))\n",
    "  plot_biases(data, n_sim, \"g-computation sur SIE avec variables baseline continues\")\n",
    "}"
   ]
  },
  {
   "cell_type": "markdown",
   "id": "05183006",
   "metadata": {},
   "source": [
    "### IPTW"
   ]
  },
  {
   "cell_type": "code",
   "execution_count": null,
   "id": "7aa3401c",
   "metadata": {
    "scrolled": false
   },
   "outputs": [],
   "source": [
    "for (n_sim in n_sims) {\n",
    "  data <- read.csv(paste0(\"iptw_sde_quant_\", n_sim, \".csv\", sep = \"\"))\n",
    "  plot_biases(data, n_sim, \"IPTW sur SDE avec variables baseline continues\")\n",
    "}"
   ]
  },
  {
   "cell_type": "code",
   "execution_count": null,
   "id": "008632e0",
   "metadata": {
    "scrolled": false
   },
   "outputs": [],
   "source": [
    "for (n_sim in n_sims) {\n",
    "  data <- read.csv(paste0(\"iptw_sie_quant_\", n_sim, \".csv\", sep = \"\"))\n",
    "  plot_biases(data, n_sim, \"IPTW sur SIE avec variables baseline continues\")\n",
    "}"
   ]
  },
  {
   "cell_type": "markdown",
   "id": "df334a76",
   "metadata": {},
   "source": [
    "### TMLE"
   ]
  },
  {
   "cell_type": "code",
   "execution_count": null,
   "id": "fb81ccf6",
   "metadata": {},
   "outputs": [],
   "source": [
    "for (n_sim in n_sims) {\n",
    "  data <- read.csv(paste0(\"tmle_sde_quant_\", n_sim, \".csv\", sep = \"\"))\n",
    "  plot_biases(data, n_sim, \"TMLE sur SDE avec variables baseline continues\")\n",
    "}"
   ]
  },
  {
   "cell_type": "code",
   "execution_count": null,
   "id": "7c4d539c",
   "metadata": {},
   "outputs": [],
   "source": [
    "for (n_sim in n_sims) {\n",
    "  data <- read.csv(paste0(\"tmle_sie_quant_\", n_sim, \".csv\", sep = \"\"))\n",
    "  plot_biases(data, n_sim, \"TMLE sur SIE avec variables baseline continues\")\n",
    "}"
   ]
  },
  {
   "cell_type": "markdown",
   "id": "6cf49972",
   "metadata": {},
   "source": [
    "### one-step"
   ]
  },
  {
   "cell_type": "code",
   "execution_count": null,
   "id": "3ac48e42",
   "metadata": {},
   "outputs": [],
   "source": [
    "for (n_sim in n_sims) {\n",
    "  data <- read.csv(paste0(\"onestep_sde_quant_\", n_sim, \".csv\", sep = \"\"))\n",
    "  plot_biases(data, n_sim, \"one-step sur SDE avec variables baseline continues\")\n",
    "}"
   ]
  },
  {
   "cell_type": "code",
   "execution_count": null,
   "id": "3e136dcc",
   "metadata": {},
   "outputs": [],
   "source": [
    "for (n_sim in n_sims) {\n",
    "  data <- read.csv(paste0(\"onestep_sie_quant_\", n_sim, \".csv\", sep = \"\"))\n",
    "  plot_biases(data, n_sim, \"one-step sur SIE avec variables baseline continues\")\n",
    "}"
   ]
  },
  {
   "cell_type": "markdown",
   "id": "5cde5766",
   "metadata": {},
   "source": [
    "## Données complexes (Rudolph)\n",
    "\n",
    "### g-computation"
   ]
  },
  {
   "cell_type": "code",
   "execution_count": null,
   "id": "8595f192",
   "metadata": {
    "scrolled": false
   },
   "outputs": [],
   "source": [
    "for (n_sim in n_sims) {\n",
    "  data <- read.csv(paste0(\"gcomp_sde_rud_\", n_sim, \".csv\", sep = \"\"))\n",
    "  plot_biases(data, n_sim, \"g-computation sur SDE avec modèle complexe\")\n",
    "}"
   ]
  },
  {
   "cell_type": "code",
   "execution_count": null,
   "id": "0be6a728",
   "metadata": {
    "scrolled": false
   },
   "outputs": [],
   "source": [
    "for (n_sim in n_sims) {\n",
    "  data <- read.csv(paste0(\"gcomp_sie_rud_\", n_sim, \".csv\", sep = \"\"))\n",
    "  plot_biases(data, n_sim, \"g-computation sur SIE avec modèle complexe\")\n",
    "}"
   ]
  },
  {
   "cell_type": "markdown",
   "id": "2c7d78d9",
   "metadata": {},
   "source": [
    "### IPTW"
   ]
  },
  {
   "cell_type": "code",
   "execution_count": null,
   "id": "d06d11f6",
   "metadata": {
    "scrolled": false
   },
   "outputs": [],
   "source": [
    "for (n_sim in n_sims) {\n",
    "  data <- read.csv(paste0(\"iptw_sde_rud_\", n_sim, \".csv\", sep = \"\"))\n",
    "  plot_biases(data, n_sim, \"IPTW sur SDE avec modèle complexe\")\n",
    "}"
   ]
  },
  {
   "cell_type": "code",
   "execution_count": null,
   "id": "92263167",
   "metadata": {
    "scrolled": false
   },
   "outputs": [],
   "source": [
    "for (n_sim in n_sims) {\n",
    "  data <- read.csv(paste0(\"iptw_sie_rud_\", n_sim, \".csv\", sep = \"\"))\n",
    "  plot_biases(data, n_sim, \"IPTW sur SIE avec modèle complexe\")\n",
    "}"
   ]
  },
  {
   "cell_type": "markdown",
   "id": "fafdac06",
   "metadata": {},
   "source": [
    "### TMLE"
   ]
  },
  {
   "cell_type": "code",
   "execution_count": null,
   "id": "77e41458",
   "metadata": {},
   "outputs": [],
   "source": [
    "for (n_sim in n_sims) {\n",
    "  data <- read.csv(paste0(\"tmle_sde_rud_\", n_sim, \".csv\", sep = \"\"))\n",
    "  plot_biases(data, n_sim, \"TMLE sur SDE avec modèle complexe\")\n",
    "}"
   ]
  },
  {
   "cell_type": "code",
   "execution_count": null,
   "id": "c403de5d",
   "metadata": {},
   "outputs": [],
   "source": [
    "for (n_sim in n_sims) {\n",
    "  data <- read.csv(paste0(\"tmle_sie_rud_\", n_sim, \".csv\", sep = \"\"))\n",
    "  plot_biases(data, n_sim, \"TMLE sur SIE avec modèle complexe\")\n",
    "}"
   ]
  },
  {
   "cell_type": "markdown",
   "id": "6a982d1d",
   "metadata": {},
   "source": [
    "### one-step"
   ]
  },
  {
   "cell_type": "code",
   "execution_count": null,
   "id": "ee61c68d",
   "metadata": {},
   "outputs": [],
   "source": [
    "for (n_sim in n_sims) {\n",
    "  data <- read.csv(paste0(\"onestep_sde_rud_\", n_sim, \".csv\", sep = \"\"))\n",
    "  plot_biases(data, n_sim, \"one-step sur SDE avec modèle complexe\")\n",
    "}"
   ]
  },
  {
   "cell_type": "code",
   "execution_count": null,
   "id": "e2630230",
   "metadata": {},
   "outputs": [],
   "source": [
    "for (n_sim in n_sims) {\n",
    "  data <- read.csv(paste0(\"onestep_sie_rud_\", n_sim, \".csv\", sep = \"\"))\n",
    "  plot_biases(data, n_sim, \"one-step sur SIE avec modèle complexe\")\n",
    "}"
   ]
  },
  {
   "cell_type": "markdown",
   "id": "c5cdff46",
   "metadata": {},
   "source": [
    "## Variable de confusion continue (à faire ?)\n",
    "\n",
    "### g-computation"
   ]
  },
  {
   "cell_type": "code",
   "execution_count": null,
   "id": "04384dd6",
   "metadata": {},
   "outputs": [],
   "source": [
    "for (n_sim in n_sims) {\n",
    "  data <- read.csv(paste0(\"gcomp_sde_conf_\", n_sim, \".csv\", sep = \"\"))\n",
    "  plot_biases(data, n_sim, \"g-computation sur SDE avec variable de confusion continue\")\n",
    "}"
   ]
  },
  {
   "cell_type": "code",
   "execution_count": null,
   "id": "9d9ed7b7",
   "metadata": {},
   "outputs": [],
   "source": [
    "for (n_sim in n_sims) {\n",
    "  data <- read.csv(paste0(\"gcomp_sie_conf_\", n_sim, \".csv\", sep = \"\"))\n",
    "  plot_biases(data, n_sim, \"g-computation sur SIE avec variable de confusion continue\")\n",
    "}"
   ]
  },
  {
   "cell_type": "markdown",
   "id": "356445b8",
   "metadata": {},
   "source": [
    "### IPTW"
   ]
  },
  {
   "cell_type": "code",
   "execution_count": null,
   "id": "6a248ca3",
   "metadata": {
    "scrolled": false
   },
   "outputs": [],
   "source": [
    "for (n_sim in n_sims) {\n",
    "  data <- read.csv(paste0(\"iptw_sde_conf_\", n_sim, \".csv\", sep = \"\"))\n",
    "  plot_biases(data, n_sim, \"IPTW sur SDE avec variable de confusion continue\")\n",
    "}"
   ]
  },
  {
   "cell_type": "code",
   "execution_count": null,
   "id": "e73b7749",
   "metadata": {
    "scrolled": false
   },
   "outputs": [],
   "source": [
    "for (n_sim in n_sims) {\n",
    "  data <- read.csv(paste0(\"iptw_sie_conf_\", n_sim, \".csv\", sep = \"\"))\n",
    "  plot_biases(data, n_sim, \"IPTW sur SIE avec variable de confusion continue\")\n",
    "}"
   ]
  },
  {
   "cell_type": "markdown",
   "id": "6a2b8c9c",
   "metadata": {},
   "source": [
    "### TMLE"
   ]
  },
  {
   "cell_type": "code",
   "execution_count": null,
   "id": "e6c8a21a",
   "metadata": {},
   "outputs": [],
   "source": [
    "for (n_sim in n_sims) {\n",
    "  data <- read.csv(paste0(\"tmle_sde_conf_\", n_sim, \".csv\", sep = \"\"))\n",
    "  plot_biases(data, n_sim, \"TMLE sur SDE avec variable de confusion continue\")\n",
    "}"
   ]
  },
  {
   "cell_type": "code",
   "execution_count": null,
   "id": "5f96e8e0",
   "metadata": {},
   "outputs": [],
   "source": [
    "for (n_sim in n_sims) {\n",
    "  data <- read.csv(paste0(\"tmle_sie_conf_\", n_sim, \".csv\", sep = \"\"))\n",
    "  plot_biases(data, n_sim, \"TMLE sur SIE avec variable de confusion continue\")\n",
    "}"
   ]
  },
  {
   "cell_type": "markdown",
   "id": "6e815b88",
   "metadata": {},
   "source": [
    "### one-step"
   ]
  },
  {
   "cell_type": "code",
   "execution_count": null,
   "id": "5af24447",
   "metadata": {},
   "outputs": [],
   "source": [
    "for (n_sim in n_sims) {\n",
    "  data <- read.csv(paste0(\"onestep_sde_conf_\", n_sim, \".csv\", sep = \"\"))\n",
    "  plot_biases(data, n_sim, \"one-step sur SDE variable de confusion continue\")\n",
    "}"
   ]
  },
  {
   "cell_type": "code",
   "execution_count": null,
   "id": "8cfb1bda",
   "metadata": {},
   "outputs": [],
   "source": [
    "for (n_sim in n_sims) {\n",
    "  data <- read.csv(paste0(\"onestep_sie_conf_\", n_sim, \".csv\", sep = \"\"))\n",
    "  plot_biases(data, n_sim, \"one-step sur SIE variable de confusion continue\")\n",
    "}"
   ]
  },
  {
   "cell_type": "code",
   "execution_count": null,
   "id": "e24765eb",
   "metadata": {},
   "outputs": [],
   "source": []
  }
 ],
 "metadata": {
  "kernelspec": {
   "display_name": "R",
   "language": "R",
   "name": "ir"
  },
  "language_info": {
   "codemirror_mode": "r",
   "file_extension": ".r",
   "mimetype": "text/x-r-source",
   "name": "R",
   "pygments_lexer": "r",
   "version": "4.1.0"
  },
  "toc": {
   "base_numbering": 1,
   "nav_menu": {},
   "number_sections": true,
   "sideBar": true,
   "skip_h1_title": false,
   "title_cell": "Table of Contents",
   "title_sidebar": "Contents",
   "toc_cell": false,
   "toc_position": {},
   "toc_section_display": true,
   "toc_window_display": false
  },
  "varInspector": {
   "cols": {
    "lenName": 16,
    "lenType": 16,
    "lenVar": 40
   },
   "kernels_config": {
    "python": {
     "delete_cmd_postfix": "",
     "delete_cmd_prefix": "del ",
     "library": "var_list.py",
     "varRefreshCmd": "print(var_dic_list())"
    },
    "r": {
     "delete_cmd_postfix": ") ",
     "delete_cmd_prefix": "rm(",
     "library": "var_list.r",
     "varRefreshCmd": "cat(var_dic_list()) "
    }
   },
   "types_to_exclude": [
    "module",
    "function",
    "builtin_function_or_method",
    "instance",
    "_Feature"
   ],
   "window_display": false
  }
 },
 "nbformat": 4,
 "nbformat_minor": 5
}
