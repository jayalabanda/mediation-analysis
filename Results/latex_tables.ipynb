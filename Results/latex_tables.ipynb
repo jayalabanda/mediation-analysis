{
 "cells": [
  {
   "cell_type": "code",
   "execution_count": null,
   "id": "524ce25c",
   "metadata": {},
   "outputs": [],
   "source": [
    "import pandas as pd\n",
    "import matplotlib.pyplot as plt\n",
    "import seaborn as sns\n",
    "\n",
    "sns.set_palette(\"pastel\")\n",
    "sns.set_theme(\"darkgrid\")"
   ]
  },
  {
   "cell_type": "code",
   "execution_count": null,
   "id": "3164fc58",
   "metadata": {},
   "outputs": [],
   "source": [
    "from os import listdir\n",
    "from os.path import isfile, join"
   ]
  },
  {
   "cell_type": "code",
   "execution_count": null,
   "id": "5f4b3f02",
   "metadata": {},
   "outputs": [],
   "source": [
    "mypath = \"./estimates/\"\n",
    "onlyfiles = [f for f in listdir(mypath) if isfile(join(mypath, f))]"
   ]
  },
  {
   "cell_type": "code",
   "execution_count": null,
   "id": "9253f8d3",
   "metadata": {},
   "outputs": [],
   "source": [
    "onlyfiles"
   ]
  },
  {
   "cell_type": "code",
   "execution_count": null,
   "id": "d59b5ccf",
   "metadata": {
    "scrolled": false
   },
   "outputs": [],
   "source": [
    "for file in onlyfiles:\n",
    "    data = pd.read_csv(mypath + file)\n",
    "    y1 = data.iloc[:, 0]\n",
    "    y2 = data.iloc[:, 1]\n",
    "    f, (ax1, ax2) = plt.subplots(1, 2, sharey=True)\n",
    "    f.suptitle(file)\n",
    "    sns.boxplot(data=data, y=y1, ax=ax1)\n",
    "    sns.boxplot(data=data, y=y2, ax=ax2)"
   ]
  },
  {
   "cell_type": "code",
   "execution_count": null,
   "id": "babcecda",
   "metadata": {},
   "outputs": [],
   "source": [
    "mypath = \"./results/\"\n",
    "onlyfiles = [f for f in listdir(mypath) if isfile(join(mypath, f))]"
   ]
  },
  {
   "cell_type": "code",
   "execution_count": null,
   "id": "63d1dacc",
   "metadata": {
    "scrolled": false
   },
   "outputs": [],
   "source": [
    "for file in onlyfiles:\n",
    "    data = pd.read_csv(mypath + file)\n",
    "    if len(data.columns) > 5:\n",
    "        if \"duration\" in data.columns:\n",
    "            data = data.drop([\"duration\", \"std\", \"std_bias\", \"mse\", \"av_est_std\"], axis=1)\n",
    "        else:\n",
    "            data = data.drop([\"std\", \"std_bias\", \"mse\", \"av_est_std\"], axis=1)\n",
    "        print(file)\n",
    "        print(data, \"\\n\")\n",
    "        print(data.to_latex(index=False), \"\\n\\n\")"
   ]
  },
  {
   "cell_type": "code",
   "execution_count": null,
   "id": "915d07db",
   "metadata": {},
   "outputs": [],
   "source": []
  }
 ],
 "metadata": {
  "kernelspec": {
   "display_name": "Python 3",
   "language": "python",
   "name": "python3"
  },
  "language_info": {
   "codemirror_mode": {
    "name": "ipython",
    "version": 3
   },
   "file_extension": ".py",
   "mimetype": "text/x-python",
   "name": "python",
   "nbconvert_exporter": "python",
   "pygments_lexer": "ipython3",
   "version": "3.8.10"
  },
  "toc": {
   "base_numbering": 1,
   "nav_menu": {},
   "number_sections": true,
   "sideBar": true,
   "skip_h1_title": false,
   "title_cell": "Table of Contents",
   "title_sidebar": "Contents",
   "toc_cell": false,
   "toc_position": {},
   "toc_section_display": true,
   "toc_window_display": false
  },
  "varInspector": {
   "cols": {
    "lenName": 16,
    "lenType": 16,
    "lenVar": 40
   },
   "kernels_config": {
    "python": {
     "delete_cmd_postfix": "",
     "delete_cmd_prefix": "del ",
     "library": "var_list.py",
     "varRefreshCmd": "print(var_dic_list())"
    },
    "r": {
     "delete_cmd_postfix": ") ",
     "delete_cmd_prefix": "rm(",
     "library": "var_list.r",
     "varRefreshCmd": "cat(var_dic_list()) "
    }
   },
   "types_to_exclude": [
    "module",
    "function",
    "builtin_function_or_method",
    "instance",
    "_Feature"
   ],
   "window_display": false
  }
 },
 "nbformat": 4,
 "nbformat_minor": 5
}
