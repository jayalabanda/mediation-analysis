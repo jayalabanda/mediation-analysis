{
 "cells": [
  {
   "cell_type": "code",
   "execution_count": null,
   "id": "d92f3da6",
   "metadata": {},
   "outputs": [],
   "source": [
    "library(readr)"
   ]
  },
  {
   "cell_type": "code",
   "execution_count": null,
   "id": "c5fe8c94",
   "metadata": {},
   "outputs": [],
   "source": [
    "dat <- read_csv(\n",
    "  paste0(\n",
    "    \"https://raw.githubusercontent.com/tlverse/tlverse-data/master/\",\n",
    "    \"wash-benefits/washb_data.csv\"\n",
    "  )\n",
    ")"
   ]
  },
  {
   "cell_type": "code",
   "execution_count": null,
   "id": "5baccdf0",
   "metadata": {},
   "outputs": [],
   "source": [
    "spec(dat)"
   ]
  },
  {
   "cell_type": "code",
   "execution_count": null,
   "id": "746006b8",
   "metadata": {
    "scrolled": true
   },
   "outputs": [],
   "source": [
    "library(skimr)\n",
    "\n",
    "skim(dat)"
   ]
  },
  {
   "cell_type": "code",
   "execution_count": null,
   "id": "106c564d",
   "metadata": {},
   "outputs": [],
   "source": [
    "ist <- read_csv(\n",
    "  paste0(\n",
    "    \"https://raw.githubusercontent.com/tlverse/tlverse-handbook/master/\",\n",
    "    \"data/ist_sample.csv\"\n",
    "  )\n",
    ")"
   ]
  },
  {
   "cell_type": "code",
   "execution_count": null,
   "id": "945638ff",
   "metadata": {},
   "outputs": [],
   "source": [
    "spec(ist)"
   ]
  },
  {
   "cell_type": "code",
   "execution_count": null,
   "id": "d79f5ae7",
   "metadata": {
    "scrolled": true
   },
   "outputs": [],
   "source": [
    "skim(ist)"
   ]
  },
  {
   "cell_type": "code",
   "execution_count": null,
   "id": "34d659d0",
   "metadata": {},
   "outputs": [],
   "source": [
    "nhefs_data <- read_csv(\n",
    "  paste0(\n",
    "    \"https://raw.githubusercontent.com/tlverse/tlverse-handbook/master/\",\n",
    "    \"data/NHEFS.csv\"\n",
    "  )\n",
    ")"
   ]
  },
  {
   "cell_type": "code",
   "execution_count": null,
   "id": "05c1c37e",
   "metadata": {
    "scrolled": true
   },
   "outputs": [],
   "source": [
    "spec(nhefs_data)"
   ]
  },
  {
   "cell_type": "code",
   "execution_count": null,
   "id": "d2f57341",
   "metadata": {
    "scrolled": true
   },
   "outputs": [],
   "source": [
    "skim(nhefs_data)"
   ]
  },
  {
   "cell_type": "code",
   "execution_count": null,
   "id": "5d2f0fda",
   "metadata": {},
   "outputs": [],
   "source": [
    "library(data.table)\n",
    "library(origami)\n",
    "library(knitr)\n",
    "library(kableExtra)\n",
    "\n",
    "# load data set and take a peek\n",
    "washb_data <- fread(\n",
    "  paste0(\n",
    "    \"https://raw.githubusercontent.com/tlverse/tlverse-data/master/\",\n",
    "    \"wash-benefits/washb_data.csv\"\n",
    "  ),\n",
    "  stringsAsFactors = TRUE\n",
    ")"
   ]
  },
  {
   "cell_type": "code",
   "execution_count": null,
   "id": "d5190047",
   "metadata": {
    "scrolled": false
   },
   "outputs": [],
   "source": [
    "n_samp <- 30\n",
    "washb_data <- washb_data[seq_len(n_samp), ]\n",
    "head(washb_data) %>%\n",
    "    kable(format = \"latex\")"
   ]
  },
  {
   "cell_type": "code",
   "execution_count": null,
   "id": "01253162",
   "metadata": {},
   "outputs": [],
   "source": [
    "library(sl3)\n",
    "library(readr)\n",
    "library(magrittr)\n",
    "\n",
    "db_data <- url(\n",
    "    \"https://raw.githubusercontent.com/benkeser/sllecture/master/chspred.csv\"\n",
    ")\n",
    "chspred <- read_csv(file = db_data, col_names = TRUE)"
   ]
  },
  {
   "cell_type": "code",
   "execution_count": null,
   "id": "d7d12555",
   "metadata": {},
   "outputs": [],
   "source": [
    "# make task\n",
    "chspred_task <- make_sl3_Task(\n",
    "    data = chspred,\n",
    "    covariates = head(colnames(chspred), -1),\n",
    "    outcome = \"mi\"\n",
    ")"
   ]
  },
  {
   "cell_type": "code",
   "execution_count": null,
   "id": "e79b411e",
   "metadata": {},
   "outputs": [],
   "source": [
    "# make learners\n",
    "glm_learner <- Lrnr_glm$new()\n",
    "lasso_learner <- Lrnr_glmnet$new(alpha = 1)\n",
    "ridge_learner <- Lrnr_glmnet$new(alpha = 0)\n",
    "enet_learner <- Lrnr_glmnet$new(alpha = 0.5)\n",
    "# curated_glm_learner uses formula = \"mi ~ smoke + beta + waist\"\n",
    "curated_glm_learner <- Lrnr_glm_fast$new(covariates = c(\"smoke\", \"beta\", \"waist\"))\n",
    "mean_learner <- Lrnr_mean$new() # That is one mean learner!\n",
    "glm_fast_learner <- Lrnr_glm_fast$new()\n",
    "ranger_learner <- Lrnr_ranger$new()\n",
    "svm_learner <- Lrnr_svm$new()\n",
    "xgb_learner <- Lrnr_xgboost$new()"
   ]
  },
  {
   "cell_type": "code",
   "execution_count": null,
   "id": "b7bc4b68",
   "metadata": {},
   "outputs": [],
   "source": [
    "# screening\n",
    "screen_cor <- make_learner(Lrnr_screener_correlation)\n",
    "glm_pipeline <- make_learner(Pipeline, screen_cor, glm_learner)"
   ]
  },
  {
   "cell_type": "code",
   "execution_count": null,
   "id": "af65cf7a",
   "metadata": {},
   "outputs": [],
   "source": [
    "# stack learners together\n",
    "stack <- make_learner(\n",
    "    Stack,\n",
    "    glm_pipeline, glm_learner,\n",
    "    lasso_learner, ridge_learner, enet_learner,\n",
    "    curated_glm_learner, mean_learner, glm_fast_learner,\n",
    "    ranger_learner, svm_learner, xgb_learner\n",
    ")"
   ]
  },
  {
   "cell_type": "code",
   "execution_count": null,
   "id": "5ec067b8",
   "metadata": {},
   "outputs": [],
   "source": [
    "# make and train SL\n",
    "sl <- Lrnr_sl$new(\n",
    "    learners = stack\n",
    ")\n",
    "sl_fit <- sl$train(chspred_task)\n",
    "sl_fit$print()"
   ]
  },
  {
   "cell_type": "code",
   "execution_count": null,
   "id": "5bf8514b",
   "metadata": {},
   "outputs": [],
   "source": [
    "CVsl <- CV_lrnr_sl(sl_fit, chspred_task, loss_loglik_binomial)\n",
    "CVsl"
   ]
  },
  {
   "cell_type": "code",
   "execution_count": null,
   "id": "ee766421",
   "metadata": {},
   "outputs": [],
   "source": [
    "varimp <- importance(sl_fit, type = \"permute\")\n",
    "varimp %>%\n",
    "    importance_plot(\n",
    "        main = \"sl3 Variable Importance for Myocardial Infarction Prediction\"\n",
    "    )"
   ]
  },
  {
   "cell_type": "code",
   "execution_count": null,
   "id": "6b9b81aa",
   "metadata": {},
   "outputs": [],
   "source": []
  }
 ],
 "metadata": {
  "kernelspec": {
   "display_name": "R",
   "language": "R",
   "name": "ir"
  },
  "language_info": {
   "codemirror_mode": "r",
   "file_extension": ".r",
   "mimetype": "text/x-r-source",
   "name": "R",
   "pygments_lexer": "r",
   "version": "4.1.0"
  },
  "toc": {
   "base_numbering": 1,
   "nav_menu": {},
   "number_sections": true,
   "sideBar": true,
   "skip_h1_title": false,
   "title_cell": "Table of Contents",
   "title_sidebar": "Contents",
   "toc_cell": false,
   "toc_position": {},
   "toc_section_display": true,
   "toc_window_display": false
  },
  "varInspector": {
   "cols": {
    "lenName": 16,
    "lenType": 16,
    "lenVar": 40
   },
   "kernels_config": {
    "python": {
     "delete_cmd_postfix": "",
     "delete_cmd_prefix": "del ",
     "library": "var_list.py",
     "varRefreshCmd": "print(var_dic_list())"
    },
    "r": {
     "delete_cmd_postfix": ") ",
     "delete_cmd_prefix": "rm(",
     "library": "var_list.r",
     "varRefreshCmd": "cat(var_dic_list()) "
    }
   },
   "types_to_exclude": [
    "module",
    "function",
    "builtin_function_or_method",
    "instance",
    "_Feature"
   ],
   "window_display": false
  }
 },
 "nbformat": 4,
 "nbformat_minor": 5
}
