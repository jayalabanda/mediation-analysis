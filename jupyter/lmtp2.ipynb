{
 "cells": [
  {
   "cell_type": "code",
   "execution_count": null,
   "id": "d6acded0",
   "metadata": {},
   "outputs": [],
   "source": [
    "library(lmtp)\n",
    "library(twang)"
   ]
  },
  {
   "cell_type": "code",
   "execution_count": null,
   "id": "112ac8a5",
   "metadata": {},
   "outputs": [],
   "source": [
    "baseline <- c(\"W_1\", \"W_2\")\n",
    "trt <- c(\"A_1\", \"A_2\")\n",
    "time_vary <- list(c(\"L_11\", \"L_12\"), c(\"L_21\", \"L_22\"))\n",
    "create_node_list(trt = trt, baseline = baseline, time_vary = time_vary, tau = 2)"
   ]
  },
  {
   "cell_type": "code",
   "execution_count": null,
   "id": "d448b189",
   "metadata": {},
   "outputs": [],
   "source": [
    "shift <- function(data, trt) {\n",
    "    (data[[trt]] - 1) * (data[[trt]] - 1 >= 1) + data[[trt]] * (data[[trt]] - 1 <\n",
    "        1)\n",
    "}"
   ]
  },
  {
   "cell_type": "code",
   "execution_count": null,
   "id": "dc589a5b",
   "metadata": {},
   "outputs": [],
   "source": [
    "A <- c(\"A_1\", \"A_2\", \"A_3\", \"A_4\")\n",
    "L <- list(c(\"L_1\"), c(\"L_2\"), c(\"L_3\"), c(\"L_4\"))\n",
    "lmtp_sdr(sim_t4, A, \"Y\", time_vary = L, k = 0, shift = shift, folds = 5)"
   ]
  },
  {
   "cell_type": "code",
   "execution_count": null,
   "id": "1638fdf0",
   "metadata": {},
   "outputs": [],
   "source": [
    "data(iptwExWide)\n",
    "\n",
    "A <- paste0(\"tx\", 1:3)\n",
    "W <- c(\"gender\", \"age\")\n",
    "L <- list(c(\"use0\"), c(\"use1\"), c(\"use2\"))\n",
    "lmtp_tmle(iptwExWide, A, \"outcome\", W, L, shift = static_binary_on, outcome_type = \"continuous\",\n",
    "    folds = 2, .SL_folds = 2)"
   ]
  },
  {
   "cell_type": "code",
   "execution_count": null,
   "id": "3dd8b3c7",
   "metadata": {},
   "outputs": [],
   "source": [
    "A <- c(\"A_1\", \"A_2\", \"A_3\", \"A_4\")\n",
    "L <- list(c(\"L_1\"), c(\"L_2\"), c(\"L_3\"), c(\"L_4\"))\n",
    "shift <- function(data, trt) {\n",
    "  (data[[trt]] - 1) * (data[[trt]] - 1 >= 1) + data[[trt]] * (data[[trt]] - 1 < 1)\n",
    "}\n",
    "\n",
    "# creating a dynamic mtp that applies the shift function \n",
    "# but also depends on history and the current time\n",
    "dynamic_mtp <- function(data, trt) {\n",
    "  if (trt == \"A_1\") {\n",
    "    # if its the first time point, follow the same mtp as before\n",
    "    shift(data, trt)\n",
    "  } else {\n",
    "    # otherwise check if the time varying covariate equals 1\n",
    "    ifelse(data[[sub(\"A\", \"L\", trt)]] == 1, \n",
    "           shift(data, trt), # if yes continue with the policy\n",
    "           data[[trt]])      # otherwise do nothing\n",
    "  }\n",
    "}\n",
    "\n",
    "lmtp_tmle(sim_t4, A, \"Y\", time_vary = L, k = 0, \n",
    "          shift = dynamic_mtp, folds = 2, .SL_folds = 2)"
   ]
  },
  {
   "cell_type": "code",
   "execution_count": null,
   "id": "9f711f7f",
   "metadata": {},
   "outputs": [],
   "source": [
    "A <- paste0(\"tx\", 1:3)\n",
    "W <- c(\"gender\", \"age\")\n",
    "L <- list(c(\"use0\"), c(\"use1\"), c(\"use2\"))\n",
    "lrnrs <- c(\"SL.glm\", \"SL.ranger\", \"SL.glm.interaction\")\n",
    "lmtp_tmle(iptwExWide, A, \"outcome\", W, L, shift = static_binary_on, \n",
    "        outcome_type = \"continuous\", learners_trt = lrnrs, \n",
    "        learners_outcome = lrnrs, folds = 2, .SL_folds = 2)"
   ]
  },
  {
   "cell_type": "code",
   "execution_count": null,
   "id": "ffdfbfa1",
   "metadata": {},
   "outputs": [],
   "source": [
    "head(sim_cens[sim_cens$C1 == 0, ])"
   ]
  },
  {
   "cell_type": "code",
   "execution_count": null,
   "id": "aa4f6163",
   "metadata": {},
   "outputs": [],
   "source": [
    "A <- c(\"A1\", \"A2\")\n",
    "L <- list(c(\"L1\"), c(\"L2\"))\n",
    "C <- c(\"C1\", \"C2\")\n",
    "\n",
    "lmtp_tmle(sim_cens, A, \"Y\", time_vary = L, cens = C,\n",
    "          shift = function(data, trt) data[[trt]] + 0.5, \n",
    "          folds = 2, .SL_folds = 2)"
   ]
  },
  {
   "cell_type": "code",
   "execution_count": null,
   "id": "bb273949",
   "metadata": {},
   "outputs": [],
   "source": [
    "A <- c(\"A1\", \"A2\")\n",
    "L <- list(c(\"L1\"), c(\"L2\"))\n",
    "C <- c(\"C1\", \"C2\")\n",
    "\n",
    "lmtp_sdr(sim_cens, A, \"Y\", time_vary = L, cens = C, \n",
    "         shift = NULL, folds = 2, .SL_folds = 2)"
   ]
  },
  {
   "cell_type": "code",
   "execution_count": null,
   "id": "5d231f6a",
   "metadata": {},
   "outputs": [],
   "source": [
    "A <- \"trt\"\n",
    "Y <- paste0(\"Y.\", 1:6)\n",
    "C <- paste0(\"C.\", 0:5)\n",
    "W <- c(\"W1\", \"W2\")\n",
    "\n",
    "lmtp_tmle(sim_point_surv, A, Y, W, cens = C, shift = static_binary_on, \n",
    "          outcome_type = \"survival\", folds = 2, .SL_folds = 2)"
   ]
  },
  {
   "cell_type": "code",
   "execution_count": null,
   "id": "08f8ab29",
   "metadata": {},
   "outputs": [],
   "source": [
    "W <- \"L0.c\"\n",
    "L <- list(c(\"L0.a\", \"L0.b\"), c(\"L1.a\", \"L1.b\"))\n",
    "A <- c(\"A0\", \"A1\")\n",
    "C <- c(\"C0\", \"C1\")\n",
    "Y <- c(\"Y1\", \"Y2\")\n",
    "\n",
    "lmtp_sdr(sim_timevary_surv, A, Y, W, L, C, outcome_type = \"survival\", \n",
    "         shift = static_binary_on, folds = 2, .SL_folds = 2)"
   ]
  },
  {
   "cell_type": "code",
   "execution_count": null,
   "id": "54d1ae2c",
   "metadata": {},
   "outputs": [],
   "source": [
    "A <- c(\"A1\", \"A2\")\n",
    "L <- list(c(\"L1\"), c(\"L2\"))\n",
    "C <- c(\"C1\", \"C2\")\n",
    "\n",
    "fit_shift <- \n",
    "  lmtp_sdr(sim_cens, A, \"Y\", time_vary = L, cens = C, \n",
    "           shift = function(data, trt) data[[trt]] + 0.5, \n",
    "           folds = 2, .SL_folds = 2)\n",
    "\n",
    "fit_noshift <- \n",
    "  lmtp_sdr(sim_cens, A, \"Y\", time_vary = L, cens = C,\n",
    "           shift = NULL, folds = 2, .SL_folds = 2)"
   ]
  },
  {
   "cell_type": "code",
   "execution_count": null,
   "id": "d5ad106f",
   "metadata": {},
   "outputs": [],
   "source": [
    "lmtp_contrast(fit_shift, ref = fit_noshift, type = \"additive\")"
   ]
  },
  {
   "cell_type": "code",
   "execution_count": null,
   "id": "94f6cac0",
   "metadata": {},
   "outputs": [],
   "source": [
    "lmtp_contrast(fit_shift, ref = fit_noshift, type = \"rr\")"
   ]
  },
  {
   "cell_type": "code",
   "execution_count": null,
   "id": "7e2f035b",
   "metadata": {},
   "outputs": [],
   "source": [
    "tidy(fit_shift)"
   ]
  },
  {
   "cell_type": "code",
   "execution_count": null,
   "id": "2d42ebed",
   "metadata": {},
   "outputs": [],
   "source": []
  }
 ],
 "metadata": {
  "kernelspec": {
   "display_name": "R",
   "language": "R",
   "name": "ir"
  },
  "language_info": {
   "codemirror_mode": "r",
   "file_extension": ".r",
   "mimetype": "text/x-r-source",
   "name": "R",
   "pygments_lexer": "r",
   "version": "4.1.1"
  },
  "toc": {
   "base_numbering": 1,
   "nav_menu": {},
   "number_sections": true,
   "sideBar": true,
   "skip_h1_title": false,
   "title_cell": "Table of Contents",
   "title_sidebar": "Contents",
   "toc_cell": false,
   "toc_position": {},
   "toc_section_display": true,
   "toc_window_display": false
  },
  "varInspector": {
   "cols": {
    "lenName": 16,
    "lenType": 16,
    "lenVar": 40
   },
   "kernels_config": {
    "python": {
     "delete_cmd_postfix": "",
     "delete_cmd_prefix": "del ",
     "library": "var_list.py",
     "varRefreshCmd": "print(var_dic_list())"
    },
    "r": {
     "delete_cmd_postfix": ") ",
     "delete_cmd_prefix": "rm(",
     "library": "var_list.r",
     "varRefreshCmd": "cat(var_dic_list()) "
    }
   },
   "types_to_exclude": [
    "module",
    "function",
    "builtin_function_or_method",
    "instance",
    "_Feature"
   ],
   "window_display": false
  }
 },
 "nbformat": 4,
 "nbformat_minor": 5
}
