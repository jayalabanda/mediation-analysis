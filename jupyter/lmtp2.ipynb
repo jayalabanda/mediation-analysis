{
 "cells": [
  {
   "cell_type": "code",
   "execution_count": 1,
   "id": "d6acded0",
   "metadata": {},
   "outputs": [
    {
     "name": "stderr",
     "output_type": "stream",
     "text": [
      "Major changes in lmtp 0.9.0. Consult NEWS.md for more information.\n",
      "\n",
      "To reproduce results from prior versions of the twang package, please see the version=\"legacy\" option described in the documentation.\n",
      "\n"
     ]
    }
   ],
   "source": [
    "library(lmtp)\n",
    "library(twang)"
   ]
  },
  {
   "cell_type": "code",
   "execution_count": 2,
   "id": "112ac8a5",
   "metadata": {},
   "outputs": [
    {
     "data": {
      "text/html": [
       "<dl>\n",
       "\t<dt>$trt</dt>\n",
       "\t\t<dd><ol>\n",
       "\t<li><style>\n",
       ".list-inline {list-style: none; margin:0; padding: 0}\n",
       ".list-inline>li {display: inline-block}\n",
       ".list-inline>li:not(:last-child)::after {content: \"\\00b7\"; padding: 0 .5ex}\n",
       "</style>\n",
       "<ol class=list-inline><li>'W_1'</li><li>'W_2'</li><li>'L_11'</li><li>'L_12'</li><li>'A_1'</li></ol>\n",
       "</li>\n",
       "\t<li><style>\n",
       ".list-inline {list-style: none; margin:0; padding: 0}\n",
       ".list-inline>li {display: inline-block}\n",
       ".list-inline>li:not(:last-child)::after {content: \"\\00b7\"; padding: 0 .5ex}\n",
       "</style>\n",
       "<ol class=list-inline><li>'W_1'</li><li>'W_2'</li><li>'L_11'</li><li>'L_12'</li><li>'L_21'</li><li>'L_22'</li><li>'A_1'</li><li>'A_2'</li></ol>\n",
       "</li>\n",
       "</ol>\n",
       "</dd>\n",
       "\t<dt>$outcome</dt>\n",
       "\t\t<dd><ol>\n",
       "\t<li><style>\n",
       ".list-inline {list-style: none; margin:0; padding: 0}\n",
       ".list-inline>li {display: inline-block}\n",
       ".list-inline>li:not(:last-child)::after {content: \"\\00b7\"; padding: 0 .5ex}\n",
       "</style>\n",
       "<ol class=list-inline><li>'W_1'</li><li>'W_2'</li><li>'L_11'</li><li>'L_12'</li><li>'A_1'</li></ol>\n",
       "</li>\n",
       "\t<li><style>\n",
       ".list-inline {list-style: none; margin:0; padding: 0}\n",
       ".list-inline>li {display: inline-block}\n",
       ".list-inline>li:not(:last-child)::after {content: \"\\00b7\"; padding: 0 .5ex}\n",
       "</style>\n",
       "<ol class=list-inline><li>'W_1'</li><li>'W_2'</li><li>'L_11'</li><li>'L_12'</li><li>'A_1'</li><li>'L_21'</li><li>'L_22'</li><li>'A_2'</li></ol>\n",
       "</li>\n",
       "</ol>\n",
       "</dd>\n",
       "</dl>\n"
      ],
      "text/latex": [
       "\\begin{description}\n",
       "\\item[\\$trt] \\begin{enumerate}\n",
       "\\item \\begin{enumerate*}\n",
       "\\item 'W\\_1'\n",
       "\\item 'W\\_2'\n",
       "\\item 'L\\_11'\n",
       "\\item 'L\\_12'\n",
       "\\item 'A\\_1'\n",
       "\\end{enumerate*}\n",
       "\n",
       "\\item \\begin{enumerate*}\n",
       "\\item 'W\\_1'\n",
       "\\item 'W\\_2'\n",
       "\\item 'L\\_11'\n",
       "\\item 'L\\_12'\n",
       "\\item 'L\\_21'\n",
       "\\item 'L\\_22'\n",
       "\\item 'A\\_1'\n",
       "\\item 'A\\_2'\n",
       "\\end{enumerate*}\n",
       "\n",
       "\\end{enumerate}\n",
       "\n",
       "\\item[\\$outcome] \\begin{enumerate}\n",
       "\\item \\begin{enumerate*}\n",
       "\\item 'W\\_1'\n",
       "\\item 'W\\_2'\n",
       "\\item 'L\\_11'\n",
       "\\item 'L\\_12'\n",
       "\\item 'A\\_1'\n",
       "\\end{enumerate*}\n",
       "\n",
       "\\item \\begin{enumerate*}\n",
       "\\item 'W\\_1'\n",
       "\\item 'W\\_2'\n",
       "\\item 'L\\_11'\n",
       "\\item 'L\\_12'\n",
       "\\item 'A\\_1'\n",
       "\\item 'L\\_21'\n",
       "\\item 'L\\_22'\n",
       "\\item 'A\\_2'\n",
       "\\end{enumerate*}\n",
       "\n",
       "\\end{enumerate}\n",
       "\n",
       "\\end{description}\n"
      ],
      "text/markdown": [
       "$trt\n",
       ":   1. 1. 'W_1'\n",
       "2. 'W_2'\n",
       "3. 'L_11'\n",
       "4. 'L_12'\n",
       "5. 'A_1'\n",
       "\n",
       "\n",
       "\n",
       "2. 1. 'W_1'\n",
       "2. 'W_2'\n",
       "3. 'L_11'\n",
       "4. 'L_12'\n",
       "5. 'L_21'\n",
       "6. 'L_22'\n",
       "7. 'A_1'\n",
       "8. 'A_2'\n",
       "\n",
       "\n",
       "\n",
       "\n",
       "\n",
       "\n",
       "$outcome\n",
       ":   1. 1. 'W_1'\n",
       "2. 'W_2'\n",
       "3. 'L_11'\n",
       "4. 'L_12'\n",
       "5. 'A_1'\n",
       "\n",
       "\n",
       "\n",
       "2. 1. 'W_1'\n",
       "2. 'W_2'\n",
       "3. 'L_11'\n",
       "4. 'L_12'\n",
       "5. 'A_1'\n",
       "6. 'L_21'\n",
       "7. 'L_22'\n",
       "8. 'A_2'\n",
       "\n",
       "\n",
       "\n",
       "\n",
       "\n",
       "\n",
       "\n",
       "\n"
      ],
      "text/plain": [
       "$trt\n",
       "$trt[[1]]\n",
       "[1] \"W_1\"  \"W_2\"  \"L_11\" \"L_12\" \"A_1\" \n",
       "\n",
       "$trt[[2]]\n",
       "[1] \"W_1\"  \"W_2\"  \"L_11\" \"L_12\" \"L_21\" \"L_22\" \"A_1\"  \"A_2\" \n",
       "\n",
       "\n",
       "$outcome\n",
       "$outcome[[1]]\n",
       "[1] \"W_1\"  \"W_2\"  \"L_11\" \"L_12\" \"A_1\" \n",
       "\n",
       "$outcome[[2]]\n",
       "[1] \"W_1\"  \"W_2\"  \"L_11\" \"L_12\" \"A_1\"  \"L_21\" \"L_22\" \"A_2\" \n",
       "\n"
      ]
     },
     "metadata": {},
     "output_type": "display_data"
    }
   ],
   "source": [
    "baseline <- c(\"W_1\", \"W_2\")\n",
    "trt <- c(\"A_1\", \"A_2\")\n",
    "time_vary <- list(c(\"L_11\", \"L_12\"), c(\"L_21\", \"L_22\"))\n",
    "create_node_list(trt = trt, baseline = baseline, time_vary = time_vary, tau = 2)"
   ]
  },
  {
   "cell_type": "code",
   "execution_count": 3,
   "id": "d448b189",
   "metadata": {},
   "outputs": [],
   "source": [
    "shift <- function(data, trt) {\n",
    "    (data[[trt]] - 1) * (data[[trt]] - 1 >= 1) + data[[trt]] * (data[[trt]] - 1 <\n",
    "        1)\n",
    "}"
   ]
  },
  {
   "cell_type": "code",
   "execution_count": 4,
   "id": "dc589a5b",
   "metadata": {},
   "outputs": [
    {
     "name": "stderr",
     "output_type": "stream",
     "text": [
      "Loading required package: nnls\n",
      "\n",
      "\u001b[1m\u001b[1mLMTP Estimator\u001b[1m\u001b[22m: SDR\n",
      "\n",
      "\u001b[1m\u001b[1mTrt. Policy\u001b[1m\u001b[22m: \u001b[34m\u001b[3m(shift)\u001b[23m\u001b[39m\n",
      "\n",
      "\u001b[1m\u001b[1mPopulation intervention effect\u001b[1m\u001b[22m\n",
      "\n",
      "\u001b[1m\u001b[1mEstimate\u001b[1m\u001b[22m: 0.2634\n",
      "\n",
      "\u001b[1m\u001b[1mStd. error\u001b[1m\u001b[22m: 0.0181\n",
      "\n",
      "\u001b[1m\u001b[1m95% CI\u001b[1m\u001b[22m: (0.228, 0.2988)\n",
      "\n"
     ]
    },
    {
     "data": {
      "text/plain": [
       "\n",
       "   \n",
       "                  "
      ]
     },
     "metadata": {},
     "output_type": "display_data"
    }
   ],
   "source": [
    "A <- c(\"A_1\", \"A_2\", \"A_3\", \"A_4\")\n",
    "L <- list(c(\"L_1\"), c(\"L_2\"), c(\"L_3\"), c(\"L_4\"))\n",
    "lmtp_sdr(sim_t4, A, \"Y\", time_vary = L, k = 0, shift = shift, folds = 5)"
   ]
  },
  {
   "cell_type": "code",
   "execution_count": 5,
   "id": "1638fdf0",
   "metadata": {},
   "outputs": [
    {
     "name": "stderr",
     "output_type": "stream",
     "text": [
      "Warning message in predict.lm(object, newdata, se.fit, scale = 1, type = if (type == :\n",
      "\"prediction from a rank-deficient fit may be misleading\"\n",
      "Warning message in predict.lm(object, newdata, se.fit, scale = 1, type = if (type == :\n",
      "\"prediction from a rank-deficient fit may be misleading\"\n",
      "Warning message in predict.lm(object, newdata, se.fit, scale = 1, type = if (type == :\n",
      "\"prediction from a rank-deficient fit may be misleading\"\n",
      "Warning message in predict.lm(object, newdata, se.fit, scale = 1, type = if (type == :\n",
      "\"prediction from a rank-deficient fit may be misleading\"\n",
      "Warning message in predict.lm(object, newdata, se.fit, scale = 1, type = if (type == :\n",
      "\"prediction from a rank-deficient fit may be misleading\"\n",
      "Warning message in predict.lm(object, newdata, se.fit, scale = 1, type = if (type == :\n",
      "\"prediction from a rank-deficient fit may be misleading\"\n",
      "Warning message in predict.lm(object, newdata, se.fit, scale = 1, type = if (type == :\n",
      "\"prediction from a rank-deficient fit may be misleading\"\n",
      "Warning message in predict.lm(object, newdata, se.fit, scale = 1, type = if (type == :\n",
      "\"prediction from a rank-deficient fit may be misleading\"\n",
      "Warning message in predict.lm(object, newdata, se.fit, scale = 1, type = if (type == :\n",
      "\"prediction from a rank-deficient fit may be misleading\"\n",
      "Warning message in predict.lm(object, newdata, se.fit, scale = 1, type = if (type == :\n",
      "\"prediction from a rank-deficient fit may be misleading\"\n",
      "Warning message in predict.lm(object, newdata, se.fit, scale = 1, type = if (type == :\n",
      "\"prediction from a rank-deficient fit may be misleading\"\n",
      "Warning message in predict.lm(object, newdata, se.fit, scale = 1, type = if (type == :\n",
      "\"prediction from a rank-deficient fit may be misleading\"\n",
      "Warning message in predict.lm(object, newdata, se.fit, scale = 1, type = if (type == :\n",
      "\"prediction from a rank-deficient fit may be misleading\"\n",
      "Warning message in predict.lm(object, newdata, se.fit, scale = 1, type = if (type == :\n",
      "\"prediction from a rank-deficient fit may be misleading\"\n",
      "Warning message in predict.lm(object, newdata, se.fit, scale = 1, type = if (type == :\n",
      "\"prediction from a rank-deficient fit may be misleading\"\n",
      "Warning message in predict.lm(object, newdata, se.fit, scale = 1, type = if (type == :\n",
      "\"prediction from a rank-deficient fit may be misleading\"\n",
      "Warning message in predict.lm(object, newdata, se.fit, scale = 1, type = if (type == :\n",
      "\"prediction from a rank-deficient fit may be misleading\"\n",
      "Warning message in predict.lm(object, newdata, se.fit, scale = 1, type = if (type == :\n",
      "\"prediction from a rank-deficient fit may be misleading\"\n",
      "Warning message in predict.lm(object, newdata, se.fit, scale = 1, type = if (type == :\n",
      "\"prediction from a rank-deficient fit may be misleading\"\n",
      "Warning message in predict.lm(object, newdata, se.fit, scale = 1, type = if (type == :\n",
      "\"prediction from a rank-deficient fit may be misleading\"\n",
      "Warning message in predict.lm(object, newdata, se.fit, scale = 1, type = if (type == :\n",
      "\"prediction from a rank-deficient fit may be misleading\"\n",
      "Warning message in predict.lm(object, newdata, se.fit, scale = 1, type = if (type == :\n",
      "\"prediction from a rank-deficient fit may be misleading\"\n",
      "Warning message in predict.lm(object, newdata, se.fit, scale = 1, type = if (type == :\n",
      "\"prediction from a rank-deficient fit may be misleading\"\n",
      "Warning message in predict.lm(object, newdata, se.fit, scale = 1, type = if (type == :\n",
      "\"prediction from a rank-deficient fit may be misleading\"\n",
      "Warning message in predict.lm(object, newdata, se.fit, scale = 1, type = if (type == :\n",
      "\"prediction from a rank-deficient fit may be misleading\"\n",
      "Warning message in predict.lm(object, newdata, se.fit, scale = 1, type = if (type == :\n",
      "\"prediction from a rank-deficient fit may be misleading\"\n",
      "Warning message in predict.lm(object, newdata, se.fit, scale = 1, type = if (type == :\n",
      "\"prediction from a rank-deficient fit may be misleading\"\n",
      "Warning message in predict.lm(object, newdata, se.fit, scale = 1, type = if (type == :\n",
      "\"prediction from a rank-deficient fit may be misleading\"\n",
      "Warning message in predict.lm(object, newdata, se.fit, scale = 1, type = if (type == :\n",
      "\"prediction from a rank-deficient fit may be misleading\"\n",
      "Warning message in predict.lm(object, newdata, se.fit, scale = 1, type = if (type == :\n",
      "\"prediction from a rank-deficient fit may be misleading\"\n",
      "Warning message in predict.lm(object, newdata, se.fit, scale = 1, type = if (type == :\n",
      "\"prediction from a rank-deficient fit may be misleading\"\n",
      "Warning message in predict.lm(object, newdata, se.fit, scale = 1, type = if (type == :\n",
      "\"prediction from a rank-deficient fit may be misleading\"\n",
      "Warning message in predict.lm(object, newdata, se.fit, scale = 1, type = if (type == :\n",
      "\"prediction from a rank-deficient fit may be misleading\"\n",
      "Warning message in predict.lm(object, newdata, se.fit, scale = 1, type = if (type == :\n",
      "\"prediction from a rank-deficient fit may be misleading\"\n",
      "Warning message in predict.lm(object, newdata, se.fit, scale = 1, type = if (type == :\n",
      "\"prediction from a rank-deficient fit may be misleading\"\n",
      "Warning message in predict.lm(object, newdata, se.fit, scale = 1, type = if (type == :\n",
      "\"prediction from a rank-deficient fit may be misleading\"\n",
      "Warning message in predict.lm(object, newdata, se.fit, scale = 1, type = if (type == :\n",
      "\"prediction from a rank-deficient fit may be misleading\"\n",
      "Warning message in predict.lm(object, newdata, se.fit, scale = 1, type = if (type == :\n",
      "\"prediction from a rank-deficient fit may be misleading\"\n",
      "Warning message in predict.lm(object, newdata, se.fit, scale = 1, type = if (type == :\n",
      "\"prediction from a rank-deficient fit may be misleading\"\n",
      "Warning message in predict.lm(object, newdata, se.fit, scale = 1, type = if (type == :\n",
      "\"prediction from a rank-deficient fit may be misleading\"\n",
      "Warning message in predict.lm(object, newdata, se.fit, scale = 1, type = if (type == :\n",
      "\"prediction from a rank-deficient fit may be misleading\"\n",
      "Warning message in predict.lm(object, newdata, se.fit, scale = 1, type = if (type == :\n",
      "\"prediction from a rank-deficient fit may be misleading\"\n",
      "Warning message in predict.lm(object, newdata, se.fit, scale = 1, type = if (type == :\n",
      "\"prediction from a rank-deficient fit may be misleading\"\n",
      "Warning message in predict.lm(object, newdata, se.fit, scale = 1, type = if (type == :\n",
      "\"prediction from a rank-deficient fit may be misleading\"\n",
      "Warning message in predict.lm(object, newdata, se.fit, scale = 1, type = if (type == :\n",
      "\"prediction from a rank-deficient fit may be misleading\"\n",
      "Warning message in predict.lm(object, newdata, se.fit, scale = 1, type = if (type == :\n",
      "\"prediction from a rank-deficient fit may be misleading\"\n",
      "Warning message in predict.lm(object, newdata, se.fit, scale = 1, type = if (type == :\n",
      "\"prediction from a rank-deficient fit may be misleading\"\n",
      "Warning message in predict.lm(object, newdata, se.fit, scale = 1, type = if (type == :\n",
      "\"prediction from a rank-deficient fit may be misleading\"\n",
      "\u001b[1m\u001b[1mLMTP Estimator\u001b[1m\u001b[22m: TMLE\n",
      "\n",
      "\u001b[1m\u001b[1mTrt. Policy\u001b[1m\u001b[22m: \u001b[34m\u001b[3m(static_binary_on)\u001b[23m\u001b[39m\n",
      "\n",
      "\u001b[1m\u001b[1mPopulation intervention effect\u001b[1m\u001b[22m\n",
      "\n",
      "\u001b[1m\u001b[1mEstimate\u001b[1m\u001b[22m: -0.2859\n",
      "\n",
      "\u001b[1m\u001b[1mStd. error\u001b[1m\u001b[22m: 0.0423\n",
      "\n",
      "\u001b[1m\u001b[1m95% CI\u001b[1m\u001b[22m: (-0.3689, -0.203)\n",
      "\n"
     ]
    },
    {
     "data": {
      "text/plain": [
       "\n",
       "   \n",
       "                  "
      ]
     },
     "metadata": {},
     "output_type": "display_data"
    }
   ],
   "source": [
    "data(iptwExWide)\n",
    "\n",
    "A <- paste0(\"tx\", 1:3)\n",
    "W <- c(\"gender\", \"age\")\n",
    "L <- list(c(\"use0\"), c(\"use1\"), c(\"use2\"))\n",
    "lmtp_tmle(iptwExWide, A, \"outcome\", W, L, shift = static_binary_on, outcome_type = \"continuous\",\n",
    "    folds = 2, .SL_folds = 2)"
   ]
  },
  {
   "cell_type": "code",
   "execution_count": 6,
   "id": "3dd8b3c7",
   "metadata": {},
   "outputs": [
    {
     "name": "stderr",
     "output_type": "stream",
     "text": [
      "\u001b[1m\u001b[1mLMTP Estimator\u001b[1m\u001b[22m: TMLE\n",
      "\n",
      "\u001b[1m\u001b[1mTrt. Policy\u001b[1m\u001b[22m: \u001b[34m\u001b[3m(dynamic_mtp)\u001b[23m\u001b[39m\n",
      "\n",
      "\u001b[1m\u001b[1mPopulation intervention effect\u001b[1m\u001b[22m\n",
      "\n",
      "\u001b[1m\u001b[1mEstimate\u001b[1m\u001b[22m: 0.2347\n",
      "\n",
      "\u001b[1m\u001b[1mStd. error\u001b[1m\u001b[22m: 0.0113\n",
      "\n",
      "\u001b[1m\u001b[1m95% CI\u001b[1m\u001b[22m: (0.2126, 0.2568)\n",
      "\n"
     ]
    },
    {
     "data": {
      "text/plain": [
       "\n",
       "   \n",
       "                  "
      ]
     },
     "metadata": {},
     "output_type": "display_data"
    }
   ],
   "source": [
    "A <- c(\"A_1\", \"A_2\", \"A_3\", \"A_4\")\n",
    "L <- list(c(\"L_1\"), c(\"L_2\"), c(\"L_3\"), c(\"L_4\"))\n",
    "shift <- function(data, trt) {\n",
    "  (data[[trt]] - 1) * (data[[trt]] - 1 >= 1) + data[[trt]] * (data[[trt]] - 1 < 1)\n",
    "}\n",
    "\n",
    "# creating a dynamic mtp that applies the shift function \n",
    "# but also depends on history and the current time\n",
    "dynamic_mtp <- function(data, trt) {\n",
    "  if (trt == \"A_1\") {\n",
    "    # if its the first time point, follow the same mtp as before\n",
    "    shift(data, trt)\n",
    "  } else {\n",
    "    # otherwise check if the time varying covariate equals 1\n",
    "    ifelse(data[[sub(\"A\", \"L\", trt)]] == 1, \n",
    "           shift(data, trt), # if yes continue with the policy\n",
    "           data[[trt]])      # otherwise do nothing\n",
    "  }\n",
    "}\n",
    "\n",
    "lmtp_tmle(sim_t4, A, \"Y\", time_vary = L, k = 0, \n",
    "          shift = dynamic_mtp, folds = 2, .SL_folds = 2)"
   ]
  },
  {
   "cell_type": "code",
   "execution_count": 7,
   "id": "9f711f7f",
   "metadata": {},
   "outputs": [
    {
     "name": "stderr",
     "output_type": "stream",
     "text": [
      "Loading required namespace: ranger\n",
      "\n",
      "Warning message in predict.lm(object, newdata, se.fit, scale = 1, type = if (type == :\n",
      "\"prediction from a rank-deficient fit may be misleading\"\n",
      "Warning message in predict.lm(object, newdata, se.fit, scale = 1, type = if (type == :\n",
      "\"prediction from a rank-deficient fit may be misleading\"\n",
      "Warning message in predict.lm(object, newdata, se.fit, scale = 1, type = if (type == :\n",
      "\"prediction from a rank-deficient fit may be misleading\"\n",
      "Warning message in predict.lm(object, newdata, se.fit, scale = 1, type = if (type == :\n",
      "\"prediction from a rank-deficient fit may be misleading\"\n",
      "Warning message in predict.lm(object, newdata, se.fit, scale = 1, type = if (type == :\n",
      "\"prediction from a rank-deficient fit may be misleading\"\n",
      "Warning message in predict.lm(object, newdata, se.fit, scale = 1, type = if (type == :\n",
      "\"prediction from a rank-deficient fit may be misleading\"\n",
      "Warning message in predict.lm(object, newdata, se.fit, scale = 1, type = if (type == :\n",
      "\"prediction from a rank-deficient fit may be misleading\"\n",
      "Warning message in predict.lm(object, newdata, se.fit, scale = 1, type = if (type == :\n",
      "\"prediction from a rank-deficient fit may be misleading\"\n",
      "Warning message in predict.lm(object, newdata, se.fit, scale = 1, type = if (type == :\n",
      "\"prediction from a rank-deficient fit may be misleading\"\n",
      "Warning message in predict.lm(object, newdata, se.fit, scale = 1, type = if (type == :\n",
      "\"prediction from a rank-deficient fit may be misleading\"\n",
      "Warning message in predict.lm(object, newdata, se.fit, scale = 1, type = if (type == :\n",
      "\"prediction from a rank-deficient fit may be misleading\"\n",
      "Warning message in predict.lm(object, newdata, se.fit, scale = 1, type = if (type == :\n",
      "\"prediction from a rank-deficient fit may be misleading\"\n",
      "Warning message in predict.lm(object, newdata, se.fit, scale = 1, type = if (type == :\n",
      "\"prediction from a rank-deficient fit may be misleading\"\n",
      "Warning message in predict.lm(object, newdata, se.fit, scale = 1, type = if (type == :\n",
      "\"prediction from a rank-deficient fit may be misleading\"\n",
      "Warning message in predict.lm(object, newdata, se.fit, scale = 1, type = if (type == :\n",
      "\"prediction from a rank-deficient fit may be misleading\"\n",
      "Warning message in predict.lm(object, newdata, se.fit, scale = 1, type = if (type == :\n",
      "\"prediction from a rank-deficient fit may be misleading\"\n",
      "Warning message in predict.lm(object, newdata, se.fit, scale = 1, type = if (type == :\n",
      "\"prediction from a rank-deficient fit may be misleading\"\n",
      "Warning message in predict.lm(object, newdata, se.fit, scale = 1, type = if (type == :\n",
      "\"prediction from a rank-deficient fit may be misleading\"\n",
      "Warning message in predict.lm(object, newdata, se.fit, scale = 1, type = if (type == :\n",
      "\"prediction from a rank-deficient fit may be misleading\"\n",
      "Warning message in predict.lm(object, newdata, se.fit, scale = 1, type = if (type == :\n",
      "\"prediction from a rank-deficient fit may be misleading\"\n",
      "Warning message in predict.lm(object, newdata, se.fit, scale = 1, type = if (type == :\n",
      "\"prediction from a rank-deficient fit may be misleading\"\n",
      "Warning message in predict.lm(object, newdata, se.fit, scale = 1, type = if (type == :\n",
      "\"prediction from a rank-deficient fit may be misleading\"\n",
      "Warning message in predict.lm(object, newdata, se.fit, scale = 1, type = if (type == :\n",
      "\"prediction from a rank-deficient fit may be misleading\"\n",
      "Warning message in predict.lm(object, newdata, se.fit, scale = 1, type = if (type == :\n",
      "\"prediction from a rank-deficient fit may be misleading\"\n",
      "Warning message in predict.lm(object, newdata, se.fit, scale = 1, type = if (type == :\n",
      "\"prediction from a rank-deficient fit may be misleading\"\n",
      "Warning message in predict.lm(object, newdata, se.fit, scale = 1, type = if (type == :\n",
      "\"prediction from a rank-deficient fit may be misleading\"\n",
      "Warning message in predict.lm(object, newdata, se.fit, scale = 1, type = if (type == :\n",
      "\"prediction from a rank-deficient fit may be misleading\"\n",
      "Warning message in predict.lm(object, newdata, se.fit, scale = 1, type = if (type == :\n",
      "\"prediction from a rank-deficient fit may be misleading\"\n",
      "Warning message in predict.lm(object, newdata, se.fit, scale = 1, type = if (type == :\n",
      "\"prediction from a rank-deficient fit may be misleading\"\n",
      "Warning message in predict.lm(object, newdata, se.fit, scale = 1, type = if (type == :\n",
      "\"prediction from a rank-deficient fit may be misleading\"\n",
      "Warning message in predict.lm(object, newdata, se.fit, scale = 1, type = if (type == :\n",
      "\"prediction from a rank-deficient fit may be misleading\"\n",
      "Warning message in predict.lm(object, newdata, se.fit, scale = 1, type = if (type == :\n",
      "\"prediction from a rank-deficient fit may be misleading\"\n",
      "Warning message in predict.lm(object, newdata, se.fit, scale = 1, type = if (type == :\n",
      "\"prediction from a rank-deficient fit may be misleading\"\n",
      "Warning message in predict.lm(object, newdata, se.fit, scale = 1, type = if (type == :\n",
      "\"prediction from a rank-deficient fit may be misleading\"\n",
      "Warning message in predict.lm(object, newdata, se.fit, scale = 1, type = if (type == :\n",
      "\"prediction from a rank-deficient fit may be misleading\"\n",
      "Warning message in predict.lm(object, newdata, se.fit, scale = 1, type = if (type == :\n",
      "\"prediction from a rank-deficient fit may be misleading\"\n",
      "Warning message in predict.lm(object, newdata, se.fit, scale = 1, type = if (type == :\n",
      "\"prediction from a rank-deficient fit may be misleading\"\n",
      "Warning message in predict.lm(object, newdata, se.fit, scale = 1, type = if (type == :\n",
      "\"prediction from a rank-deficient fit may be misleading\"\n",
      "Warning message in predict.lm(object, newdata, se.fit, scale = 1, type = if (type == :\n",
      "\"prediction from a rank-deficient fit may be misleading\"\n",
      "Warning message in predict.lm(object, newdata, se.fit, scale = 1, type = if (type == :\n",
      "\"prediction from a rank-deficient fit may be misleading\"\n",
      "Warning message in predict.lm(object, newdata, se.fit, scale = 1, type = if (type == :\n",
      "\"prediction from a rank-deficient fit may be misleading\"\n",
      "Warning message in predict.lm(object, newdata, se.fit, scale = 1, type = if (type == :\n",
      "\"prediction from a rank-deficient fit may be misleading\"\n",
      "Warning message in predict.lm(object, newdata, se.fit, scale = 1, type = if (type == :\n",
      "\"prediction from a rank-deficient fit may be misleading\"\n",
      "Warning message in predict.lm(object, newdata, se.fit, scale = 1, type = if (type == :\n",
      "\"prediction from a rank-deficient fit may be misleading\"\n",
      "Warning message in predict.lm(object, newdata, se.fit, scale = 1, type = if (type == :\n",
      "\"prediction from a rank-deficient fit may be misleading\"\n",
      "Warning message in predict.lm(object, newdata, se.fit, scale = 1, type = if (type == :\n",
      "\"prediction from a rank-deficient fit may be misleading\"\n",
      "Warning message in predict.lm(object, newdata, se.fit, scale = 1, type = if (type == :\n",
      "\"prediction from a rank-deficient fit may be misleading\"\n",
      "Warning message in predict.lm(object, newdata, se.fit, scale = 1, type = if (type == :\n",
      "\"prediction from a rank-deficient fit may be misleading\"\n",
      "Warning message in predict.lm(object, newdata, se.fit, scale = 1, type = if (type == :\n",
      "\"prediction from a rank-deficient fit may be misleading\"\n",
      "Warning message in predict.lm(object, newdata, se.fit, scale = 1, type = if (type == :\n",
      "\"prediction from a rank-deficient fit may be misleading\"\n",
      "Warning message in predict.lm(object, newdata, se.fit, scale = 1, type = if (type == :\n",
      "\"prediction from a rank-deficient fit may be misleading\"\n",
      "Warning message in predict.lm(object, newdata, se.fit, scale = 1, type = if (type == :\n",
      "\"prediction from a rank-deficient fit may be misleading\"\n",
      "Warning message in predict.lm(object, newdata, se.fit, scale = 1, type = if (type == :\n",
      "\"prediction from a rank-deficient fit may be misleading\"\n",
      "Warning message in predict.lm(object, newdata, se.fit, scale = 1, type = if (type == :\n",
      "\"prediction from a rank-deficient fit may be misleading\"\n",
      "Warning message in predict.lm(object, newdata, se.fit, scale = 1, type = if (type == :\n",
      "\"prediction from a rank-deficient fit may be misleading\"\n",
      "Warning message in predict.lm(object, newdata, se.fit, scale = 1, type = if (type == :\n",
      "\"prediction from a rank-deficient fit may be misleading\"\n",
      "Warning message in predict.lm(object, newdata, se.fit, scale = 1, type = if (type == :\n",
      "\"prediction from a rank-deficient fit may be misleading\"\n"
     ]
    },
    {
     "name": "stderr",
     "output_type": "stream",
     "text": [
      "Warning message in predict.lm(object, newdata, se.fit, scale = 1, type = if (type == :\n",
      "\"prediction from a rank-deficient fit may be misleading\"\n",
      "Warning message in predict.lm(object, newdata, se.fit, scale = 1, type = if (type == :\n",
      "\"prediction from a rank-deficient fit may be misleading\"\n",
      "Warning message in predict.lm(object, newdata, se.fit, scale = 1, type = if (type == :\n",
      "\"prediction from a rank-deficient fit may be misleading\"\n",
      "Warning message in predict.lm(object, newdata, se.fit, scale = 1, type = if (type == :\n",
      "\"prediction from a rank-deficient fit may be misleading\"\n",
      "Warning message in predict.lm(object, newdata, se.fit, scale = 1, type = if (type == :\n",
      "\"prediction from a rank-deficient fit may be misleading\"\n",
      "Warning message in predict.lm(object, newdata, se.fit, scale = 1, type = if (type == :\n",
      "\"prediction from a rank-deficient fit may be misleading\"\n",
      "Warning message in predict.lm(object, newdata, se.fit, scale = 1, type = if (type == :\n",
      "\"prediction from a rank-deficient fit may be misleading\"\n",
      "Warning message in predict.lm(object, newdata, se.fit, scale = 1, type = if (type == :\n",
      "\"prediction from a rank-deficient fit may be misleading\"\n",
      "Warning message in predict.lm(object, newdata, se.fit, scale = 1, type = if (type == :\n",
      "\"prediction from a rank-deficient fit may be misleading\"\n",
      "Warning message in predict.lm(object, newdata, se.fit, scale = 1, type = if (type == :\n",
      "\"prediction from a rank-deficient fit may be misleading\"\n",
      "Warning message in predict.lm(object, newdata, se.fit, scale = 1, type = if (type == :\n",
      "\"prediction from a rank-deficient fit may be misleading\"\n",
      "Warning message in predict.lm(object, newdata, se.fit, scale = 1, type = if (type == :\n",
      "\"prediction from a rank-deficient fit may be misleading\"\n",
      "Warning message in predict.lm(object, newdata, se.fit, scale = 1, type = if (type == :\n",
      "\"prediction from a rank-deficient fit may be misleading\"\n",
      "Warning message in predict.lm(object, newdata, se.fit, scale = 1, type = if (type == :\n",
      "\"prediction from a rank-deficient fit may be misleading\"\n",
      "Warning message in predict.lm(object, newdata, se.fit, scale = 1, type = if (type == :\n",
      "\"prediction from a rank-deficient fit may be misleading\"\n",
      "Warning message in predict.lm(object, newdata, se.fit, scale = 1, type = if (type == :\n",
      "\"prediction from a rank-deficient fit may be misleading\"\n",
      "Warning message in predict.lm(object, newdata, se.fit, scale = 1, type = if (type == :\n",
      "\"prediction from a rank-deficient fit may be misleading\"\n",
      "Warning message in predict.lm(object, newdata, se.fit, scale = 1, type = if (type == :\n",
      "\"prediction from a rank-deficient fit may be misleading\"\n",
      "Warning message in predict.lm(object, newdata, se.fit, scale = 1, type = if (type == :\n",
      "\"prediction from a rank-deficient fit may be misleading\"\n",
      "Warning message in predict.lm(object, newdata, se.fit, scale = 1, type = if (type == :\n",
      "\"prediction from a rank-deficient fit may be misleading\"\n",
      "Warning message in predict.lm(object, newdata, se.fit, scale = 1, type = if (type == :\n",
      "\"prediction from a rank-deficient fit may be misleading\"\n",
      "Warning message in predict.lm(object, newdata, se.fit, scale = 1, type = if (type == :\n",
      "\"prediction from a rank-deficient fit may be misleading\"\n",
      "Warning message in predict.lm(object, newdata, se.fit, scale = 1, type = if (type == :\n",
      "\"prediction from a rank-deficient fit may be misleading\"\n",
      "Warning message in predict.lm(object, newdata, se.fit, scale = 1, type = if (type == :\n",
      "\"prediction from a rank-deficient fit may be misleading\"\n",
      "Warning message in predict.lm(object, newdata, se.fit, scale = 1, type = if (type == :\n",
      "\"prediction from a rank-deficient fit may be misleading\"\n",
      "Warning message in predict.lm(object, newdata, se.fit, scale = 1, type = if (type == :\n",
      "\"prediction from a rank-deficient fit may be misleading\"\n",
      "Warning message in predict.lm(object, newdata, se.fit, scale = 1, type = if (type == :\n",
      "\"prediction from a rank-deficient fit may be misleading\"\n",
      "Warning message in predict.lm(object, newdata, se.fit, scale = 1, type = if (type == :\n",
      "\"prediction from a rank-deficient fit may be misleading\"\n",
      "Warning message in predict.lm(object, newdata, se.fit, scale = 1, type = if (type == :\n",
      "\"prediction from a rank-deficient fit may be misleading\"\n",
      "Warning message in predict.lm(object, newdata, se.fit, scale = 1, type = if (type == :\n",
      "\"prediction from a rank-deficient fit may be misleading\"\n",
      "Warning message in predict.lm(object, newdata, se.fit, scale = 1, type = if (type == :\n",
      "\"prediction from a rank-deficient fit may be misleading\"\n",
      "Warning message in predict.lm(object, newdata, se.fit, scale = 1, type = if (type == :\n",
      "\"prediction from a rank-deficient fit may be misleading\"\n",
      "Warning message in predict.lm(object, newdata, se.fit, scale = 1, type = if (type == :\n",
      "\"prediction from a rank-deficient fit may be misleading\"\n",
      "Warning message in predict.lm(object, newdata, se.fit, scale = 1, type = if (type == :\n",
      "\"prediction from a rank-deficient fit may be misleading\"\n",
      "Warning message in predict.lm(object, newdata, se.fit, scale = 1, type = if (type == :\n",
      "\"prediction from a rank-deficient fit may be misleading\"\n",
      "Warning message in predict.lm(object, newdata, se.fit, scale = 1, type = if (type == :\n",
      "\"prediction from a rank-deficient fit may be misleading\"\n",
      "Warning message in predict.lm(object, newdata, se.fit, scale = 1, type = if (type == :\n",
      "\"prediction from a rank-deficient fit may be misleading\"\n",
      "Warning message in predict.lm(object, newdata, se.fit, scale = 1, type = if (type == :\n",
      "\"prediction from a rank-deficient fit may be misleading\"\n",
      "Warning message in predict.lm(object, newdata, se.fit, scale = 1, type = if (type == :\n",
      "\"prediction from a rank-deficient fit may be misleading\"\n",
      "\u001b[1m\u001b[1mLMTP Estimator\u001b[1m\u001b[22m: TMLE\n",
      "\n",
      "\u001b[1m\u001b[1mTrt. Policy\u001b[1m\u001b[22m: \u001b[34m\u001b[3m(static_binary_on)\u001b[23m\u001b[39m\n",
      "\n",
      "\u001b[1m\u001b[1mPopulation intervention effect\u001b[1m\u001b[22m\n",
      "\n",
      "\u001b[1m\u001b[1mEstimate\u001b[1m\u001b[22m: -0.2834\n",
      "\n",
      "\u001b[1m\u001b[1mStd. error\u001b[1m\u001b[22m: 0.0451\n",
      "\n",
      "\u001b[1m\u001b[1m95% CI\u001b[1m\u001b[22m: (-0.3718, -0.1949)\n",
      "\n"
     ]
    },
    {
     "data": {
      "text/plain": [
       "\n",
       "   \n",
       "                  "
      ]
     },
     "metadata": {},
     "output_type": "display_data"
    }
   ],
   "source": [
    "A <- paste0(\"tx\", 1:3)\n",
    "W <- c(\"gender\", \"age\")\n",
    "L <- list(c(\"use0\"), c(\"use1\"), c(\"use2\"))\n",
    "lrnrs <- c(\"SL.glm\", \"SL.ranger\", \"SL.glm.interaction\")\n",
    "lmtp_tmle(iptwExWide, A, \"outcome\", W, L, shift = static_binary_on, \n",
    "        outcome_type = \"continuous\", learners_trt = lrnrs, \n",
    "        learners_outcome = lrnrs, folds = 2, .SL_folds = 2)"
   ]
  },
  {
   "cell_type": "code",
   "execution_count": 8,
   "id": "ffdfbfa1",
   "metadata": {},
   "outputs": [
    {
     "data": {
      "text/html": [
       "<table class=\"dataframe\">\n",
       "<caption>A data.frame: 6 × 7</caption>\n",
       "<thead>\n",
       "\t<tr><th></th><th scope=col>L1</th><th scope=col>A1</th><th scope=col>C1</th><th scope=col>L2</th><th scope=col>A2</th><th scope=col>C2</th><th scope=col>Y</th></tr>\n",
       "\t<tr><th></th><th scope=col>&lt;int&gt;</th><th scope=col>&lt;dbl&gt;</th><th scope=col>&lt;int&gt;</th><th scope=col>&lt;int&gt;</th><th scope=col>&lt;dbl&gt;</th><th scope=col>&lt;dbl&gt;</th><th scope=col>&lt;int&gt;</th></tr>\n",
       "</thead>\n",
       "<tbody>\n",
       "\t<tr><th scope=row>48</th><td>1</td><td>3.260499</td><td>0</td><td>NA</td><td>NA</td><td>0</td><td>NA</td></tr>\n",
       "\t<tr><th scope=row>58</th><td>1</td><td>1.109737</td><td>0</td><td>NA</td><td>NA</td><td>0</td><td>NA</td></tr>\n",
       "\t<tr><th scope=row>67</th><td>1</td><td>1.376540</td><td>0</td><td>NA</td><td>NA</td><td>0</td><td>NA</td></tr>\n",
       "\t<tr><th scope=row>112</th><td>1</td><td>3.832451</td><td>0</td><td>NA</td><td>NA</td><td>0</td><td>NA</td></tr>\n",
       "\t<tr><th scope=row>114</th><td>1</td><td>1.241776</td><td>0</td><td>NA</td><td>NA</td><td>0</td><td>NA</td></tr>\n",
       "\t<tr><th scope=row>115</th><td>1</td><td>2.390811</td><td>0</td><td>NA</td><td>NA</td><td>0</td><td>NA</td></tr>\n",
       "</tbody>\n",
       "</table>\n"
      ],
      "text/latex": [
       "A data.frame: 6 × 7\n",
       "\\begin{tabular}{r|lllllll}\n",
       "  & L1 & A1 & C1 & L2 & A2 & C2 & Y\\\\\n",
       "  & <int> & <dbl> & <int> & <int> & <dbl> & <dbl> & <int>\\\\\n",
       "\\hline\n",
       "\t48 & 1 & 3.260499 & 0 & NA & NA & 0 & NA\\\\\n",
       "\t58 & 1 & 1.109737 & 0 & NA & NA & 0 & NA\\\\\n",
       "\t67 & 1 & 1.376540 & 0 & NA & NA & 0 & NA\\\\\n",
       "\t112 & 1 & 3.832451 & 0 & NA & NA & 0 & NA\\\\\n",
       "\t114 & 1 & 1.241776 & 0 & NA & NA & 0 & NA\\\\\n",
       "\t115 & 1 & 2.390811 & 0 & NA & NA & 0 & NA\\\\\n",
       "\\end{tabular}\n"
      ],
      "text/markdown": [
       "\n",
       "A data.frame: 6 × 7\n",
       "\n",
       "| <!--/--> | L1 &lt;int&gt; | A1 &lt;dbl&gt; | C1 &lt;int&gt; | L2 &lt;int&gt; | A2 &lt;dbl&gt; | C2 &lt;dbl&gt; | Y &lt;int&gt; |\n",
       "|---|---|---|---|---|---|---|---|\n",
       "| 48 | 1 | 3.260499 | 0 | NA | NA | 0 | NA |\n",
       "| 58 | 1 | 1.109737 | 0 | NA | NA | 0 | NA |\n",
       "| 67 | 1 | 1.376540 | 0 | NA | NA | 0 | NA |\n",
       "| 112 | 1 | 3.832451 | 0 | NA | NA | 0 | NA |\n",
       "| 114 | 1 | 1.241776 | 0 | NA | NA | 0 | NA |\n",
       "| 115 | 1 | 2.390811 | 0 | NA | NA | 0 | NA |\n",
       "\n"
      ],
      "text/plain": [
       "    L1 A1       C1 L2 A2 C2 Y \n",
       "48  1  3.260499 0  NA NA 0  NA\n",
       "58  1  1.109737 0  NA NA 0  NA\n",
       "67  1  1.376540 0  NA NA 0  NA\n",
       "112 1  3.832451 0  NA NA 0  NA\n",
       "114 1  1.241776 0  NA NA 0  NA\n",
       "115 1  2.390811 0  NA NA 0  NA"
      ]
     },
     "metadata": {},
     "output_type": "display_data"
    }
   ],
   "source": [
    "head(sim_cens[sim_cens$C1 == 0, ])"
   ]
  },
  {
   "cell_type": "code",
   "execution_count": 9,
   "id": "aa4f6163",
   "metadata": {},
   "outputs": [
    {
     "name": "stderr",
     "output_type": "stream",
     "text": [
      "\u001b[1m\u001b[1mLMTP Estimator\u001b[1m\u001b[22m: TMLE\n",
      "\n",
      "\u001b[1m\u001b[1mTrt. Policy\u001b[1m\u001b[22m: \u001b[34m\u001b[3m(function(data, trt) data[[trt]] + 0.5)\u001b[23m\u001b[39m\n",
      "\n",
      "\u001b[1m\u001b[1mPopulation intervention effect\u001b[1m\u001b[22m\n",
      "\n",
      "\u001b[1m\u001b[1mEstimate\u001b[1m\u001b[22m: 0.899\n",
      "\n",
      "\u001b[1m\u001b[1mStd. error\u001b[1m\u001b[22m: 0.0095\n",
      "\n",
      "\u001b[1m\u001b[1m95% CI\u001b[1m\u001b[22m: (0.8804, 0.9176)\n",
      "\n"
     ]
    },
    {
     "data": {
      "text/plain": [
       "\n",
       "   \n",
       "                  "
      ]
     },
     "metadata": {},
     "output_type": "display_data"
    }
   ],
   "source": [
    "A <- c(\"A1\", \"A2\")\n",
    "L <- list(c(\"L1\"), c(\"L2\"))\n",
    "C <- c(\"C1\", \"C2\")\n",
    "\n",
    "lmtp_tmle(sim_cens, A, \"Y\", time_vary = L, cens = C,\n",
    "          shift = function(data, trt) data[[trt]] + 0.5, \n",
    "          folds = 2, .SL_folds = 2)"
   ]
  },
  {
   "cell_type": "code",
   "execution_count": 10,
   "id": "bb273949",
   "metadata": {},
   "outputs": [
    {
     "name": "stderr",
     "output_type": "stream",
     "text": [
      "\u001b[1m\u001b[1mLMTP Estimator\u001b[1m\u001b[22m: SDR\n",
      "\n",
      "\u001b[1m\u001b[1mTrt. Policy\u001b[1m\u001b[22m: \u001b[34m\u001b[3m(NULL)\u001b[23m\u001b[39m\n",
      "\n",
      "\u001b[1m\u001b[1mPopulation intervention effect\u001b[1m\u001b[22m\n",
      "\n",
      "\u001b[1m\u001b[1mEstimate\u001b[1m\u001b[22m: 0.7982\n",
      "\n",
      "\u001b[1m\u001b[1mStd. error\u001b[1m\u001b[22m: 0.0129\n",
      "\n",
      "\u001b[1m\u001b[1m95% CI\u001b[1m\u001b[22m: (0.7729, 0.8236)\n",
      "\n"
     ]
    },
    {
     "data": {
      "text/plain": [
       "\n",
       "   \n",
       "                  "
      ]
     },
     "metadata": {},
     "output_type": "display_data"
    }
   ],
   "source": [
    "A <- c(\"A1\", \"A2\")\n",
    "L <- list(c(\"L1\"), c(\"L2\"))\n",
    "C <- c(\"C1\", \"C2\")\n",
    "\n",
    "lmtp_sdr(sim_cens, A, \"Y\", time_vary = L, cens = C, \n",
    "         shift = NULL, folds = 2, .SL_folds = 2)"
   ]
  },
  {
   "cell_type": "code",
   "execution_count": 11,
   "id": "5d231f6a",
   "metadata": {},
   "outputs": [
    {
     "name": "stderr",
     "output_type": "stream",
     "text": [
      "Warning message in predict.lm(object, newdata, se.fit, scale = 1, type = if (type == :\n",
      "\"prediction from a rank-deficient fit may be misleading\"\n",
      "Warning message in predict.lm(object, newdata, se.fit, scale = 1, type = if (type == :\n",
      "\"prediction from a rank-deficient fit may be misleading\"\n",
      "Warning message in predict.lm(object, newdata, se.fit, scale = 1, type = if (type == :\n",
      "\"prediction from a rank-deficient fit may be misleading\"\n",
      "Warning message in predict.lm(object, newdata, se.fit, scale = 1, type = if (type == :\n",
      "\"prediction from a rank-deficient fit may be misleading\"\n",
      "Warning message in predict.lm(object, newdata, se.fit, scale = 1, type = if (type == :\n",
      "\"prediction from a rank-deficient fit may be misleading\"\n",
      "Warning message in predict.lm(object, newdata, se.fit, scale = 1, type = if (type == :\n",
      "\"prediction from a rank-deficient fit may be misleading\"\n",
      "Warning message in predict.lm(object, newdata, se.fit, scale = 1, type = if (type == :\n",
      "\"prediction from a rank-deficient fit may be misleading\"\n",
      "Warning message in predict.lm(object, newdata, se.fit, scale = 1, type = if (type == :\n",
      "\"prediction from a rank-deficient fit may be misleading\"\n",
      "Warning message in predict.lm(object, newdata, se.fit, scale = 1, type = if (type == :\n",
      "\"prediction from a rank-deficient fit may be misleading\"\n",
      "Warning message in predict.lm(object, newdata, se.fit, scale = 1, type = if (type == :\n",
      "\"prediction from a rank-deficient fit may be misleading\"\n",
      "\u001b[1m\u001b[1mLMTP Estimator\u001b[1m\u001b[22m: TMLE\n",
      "\n",
      "\u001b[1m\u001b[1mTrt. Policy\u001b[1m\u001b[22m: \u001b[34m\u001b[3m(static_binary_on)\u001b[23m\u001b[39m\n",
      "\n",
      "\u001b[1m\u001b[1mPopulation intervention effect\u001b[1m\u001b[22m\n",
      "\n",
      "\u001b[1m\u001b[1mEstimate\u001b[1m\u001b[22m: 0.1867\n",
      "\n",
      "\u001b[1m\u001b[1mStd. error\u001b[1m\u001b[22m: 0.0185\n",
      "\n",
      "\u001b[1m\u001b[1m95% CI\u001b[1m\u001b[22m: (0.1504, 0.223)\n",
      "\n"
     ]
    },
    {
     "data": {
      "text/plain": [
       "\n",
       "   \n",
       "                  "
      ]
     },
     "metadata": {},
     "output_type": "display_data"
    }
   ],
   "source": [
    "A <- \"trt\"\n",
    "Y <- paste0(\"Y.\", 1:6)\n",
    "C <- paste0(\"C.\", 0:5)\n",
    "W <- c(\"W1\", \"W2\")\n",
    "\n",
    "lmtp_tmle(sim_point_surv, A, Y, W, cens = C, shift = static_binary_on, \n",
    "          outcome_type = \"survival\", folds = 2, .SL_folds = 2)"
   ]
  },
  {
   "cell_type": "code",
   "execution_count": 12,
   "id": "08f8ab29",
   "metadata": {},
   "outputs": [
    {
     "name": "stderr",
     "output_type": "stream",
     "text": [
      "Warning message:\n",
      "\"glm.fit: fitted probabilities numerically 0 or 1 occurred\"\n",
      "Warning message:\n",
      "\"glm.fit: fitted probabilities numerically 0 or 1 occurred\"\n",
      "Warning message:\n",
      "\"glm.fit: fitted probabilities numerically 0 or 1 occurred\"\n",
      "Warning message:\n",
      "\"glm.fit: fitted probabilities numerically 0 or 1 occurred\"\n",
      "Warning message:\n",
      "\"glm.fit: fitted probabilities numerically 0 or 1 occurred\"\n",
      "Warning message:\n",
      "\"glm.fit: fitted probabilities numerically 0 or 1 occurred\"\n",
      "Warning message:\n",
      "\"glm.fit: fitted probabilities numerically 0 or 1 occurred\"\n",
      "Warning message:\n",
      "\"glm.fit: fitted probabilities numerically 0 or 1 occurred\"\n",
      "Warning message:\n",
      "\"glm.fit: fitted probabilities numerically 0 or 1 occurred\"\n",
      "Warning message:\n",
      "\"glm.fit: fitted probabilities numerically 0 or 1 occurred\"\n",
      "Warning message:\n",
      "\"glm.fit: fitted probabilities numerically 0 or 1 occurred\"\n",
      "Warning message:\n",
      "\"glm.fit: fitted probabilities numerically 0 or 1 occurred\"\n",
      "Warning message:\n",
      "\"glm.fit: algorithm did not converge\"\n",
      "Warning message:\n",
      "\"glm.fit: fitted probabilities numerically 0 or 1 occurred\"\n",
      "\u001b[1m\u001b[1mLMTP Estimator\u001b[1m\u001b[22m: SDR\n",
      "\n",
      "\u001b[1m\u001b[1mTrt. Policy\u001b[1m\u001b[22m: \u001b[34m\u001b[3m(static_binary_on)\u001b[23m\u001b[39m\n",
      "\n",
      "\u001b[1m\u001b[1mPopulation intervention effect\u001b[1m\u001b[22m\n",
      "\n",
      "\u001b[1m\u001b[1mEstimate\u001b[1m\u001b[22m: 0.7347\n",
      "\n",
      "\u001b[1m\u001b[1mStd. error\u001b[1m\u001b[22m: 0.0514\n",
      "\n",
      "\u001b[1m\u001b[1m95% CI\u001b[1m\u001b[22m: (0.6338, 0.8355)\n",
      "\n"
     ]
    },
    {
     "data": {
      "text/plain": [
       "\n",
       "   \n",
       "                  "
      ]
     },
     "metadata": {},
     "output_type": "display_data"
    }
   ],
   "source": [
    "W <- \"L0.c\"\n",
    "L <- list(c(\"L0.a\", \"L0.b\"), c(\"L1.a\", \"L1.b\"))\n",
    "A <- c(\"A0\", \"A1\")\n",
    "C <- c(\"C0\", \"C1\")\n",
    "Y <- c(\"Y1\", \"Y2\")\n",
    "\n",
    "lmtp_sdr(sim_timevary_surv, A, Y, W, L, C, outcome_type = \"survival\", \n",
    "         shift = static_binary_on, folds = 2, .SL_folds = 2)"
   ]
  },
  {
   "cell_type": "code",
   "execution_count": 13,
   "id": "54d1ae2c",
   "metadata": {},
   "outputs": [],
   "source": [
    "A <- c(\"A1\", \"A2\")\n",
    "L <- list(c(\"L1\"), c(\"L2\"))\n",
    "C <- c(\"C1\", \"C2\")\n",
    "\n",
    "fit_shift <- \n",
    "  lmtp_sdr(sim_cens, A, \"Y\", time_vary = L, cens = C, \n",
    "           shift = function(data, trt) data[[trt]] + 0.5, \n",
    "           folds = 2, .SL_folds = 2)\n",
    "\n",
    "fit_noshift <- \n",
    "  lmtp_sdr(sim_cens, A, \"Y\", time_vary = L, cens = C,\n",
    "           shift = NULL, folds = 2, .SL_folds = 2)"
   ]
  },
  {
   "cell_type": "code",
   "execution_count": 14,
   "id": "d5ad106f",
   "metadata": {},
   "outputs": [
    {
     "name": "stderr",
     "output_type": "stream",
     "text": [
      "\u001b[1m\u001b[1mLMTP Contrast\u001b[1m\u001b[22m: additive\n",
      "\n",
      "\u001b[1m\u001b[1mNull hypothesis\u001b[1m\u001b[22m: theta == 0\n",
      "\n"
     ]
    },
    {
     "data": {
      "text/plain": [
       "\n",
       "  \n",
       "  theta shift   ref std.error conf.low conf.high p.value\n",
       "1 0.101 0.899 0.798    0.0057   0.0894     0.112  <0.001"
      ]
     },
     "metadata": {},
     "output_type": "display_data"
    }
   ],
   "source": [
    "lmtp_contrast(fit_shift, ref = fit_noshift, type = \"additive\")"
   ]
  },
  {
   "cell_type": "code",
   "execution_count": 15,
   "id": "94f6cac0",
   "metadata": {},
   "outputs": [
    {
     "name": "stderr",
     "output_type": "stream",
     "text": [
      "\u001b[1m\u001b[1mLMTP Contrast\u001b[1m\u001b[22m: relative risk\n",
      "\n",
      "\u001b[1m\u001b[1mNull hypothesis\u001b[1m\u001b[22m: theta == 1\n",
      "\n"
     ]
    },
    {
     "data": {
      "text/plain": [
       "\n",
       "  \n",
       "  theta shift   ref std.error conf.low conf.high p.value\n",
       "1  1.13 0.899 0.798   0.00772     1.11      1.14  <0.001"
      ]
     },
     "metadata": {},
     "output_type": "display_data"
    }
   ],
   "source": [
    "lmtp_contrast(fit_shift, ref = fit_noshift, type = \"rr\")"
   ]
  },
  {
   "cell_type": "code",
   "execution_count": 16,
   "id": "7e2f035b",
   "metadata": {},
   "outputs": [
    {
     "data": {
      "text/html": [
       "<table class=\"dataframe\">\n",
       "<caption>A tibble: 1 × 5</caption>\n",
       "<thead>\n",
       "\t<tr><th scope=col>estimator</th><th scope=col>estimate</th><th scope=col>std.error</th><th scope=col>conf.low</th><th scope=col>conf.high</th></tr>\n",
       "\t<tr><th scope=col>&lt;chr&gt;</th><th scope=col>&lt;dbl&gt;</th><th scope=col>&lt;dbl&gt;</th><th scope=col>&lt;dbl&gt;</th><th scope=col>&lt;dbl&gt;</th></tr>\n",
       "</thead>\n",
       "<tbody>\n",
       "\t<tr><td>SDR</td><td>0.8985913</td><td>0.009827451</td><td>0.8793298</td><td>0.9178527</td></tr>\n",
       "</tbody>\n",
       "</table>\n"
      ],
      "text/latex": [
       "A tibble: 1 × 5\n",
       "\\begin{tabular}{lllll}\n",
       " estimator & estimate & std.error & conf.low & conf.high\\\\\n",
       " <chr> & <dbl> & <dbl> & <dbl> & <dbl>\\\\\n",
       "\\hline\n",
       "\t SDR & 0.8985913 & 0.009827451 & 0.8793298 & 0.9178527\\\\\n",
       "\\end{tabular}\n"
      ],
      "text/markdown": [
       "\n",
       "A tibble: 1 × 5\n",
       "\n",
       "| estimator &lt;chr&gt; | estimate &lt;dbl&gt; | std.error &lt;dbl&gt; | conf.low &lt;dbl&gt; | conf.high &lt;dbl&gt; |\n",
       "|---|---|---|---|---|\n",
       "| SDR | 0.8985913 | 0.009827451 | 0.8793298 | 0.9178527 |\n",
       "\n"
      ],
      "text/plain": [
       "  estimator estimate  std.error   conf.low  conf.high\n",
       "1 SDR       0.8985913 0.009827451 0.8793298 0.9178527"
      ]
     },
     "metadata": {},
     "output_type": "display_data"
    }
   ],
   "source": [
    "tidy(fit_shift)"
   ]
  },
  {
   "cell_type": "code",
   "execution_count": null,
   "id": "2d42ebed",
   "metadata": {},
   "outputs": [],
   "source": []
  }
 ],
 "metadata": {
  "kernelspec": {
   "display_name": "R",
   "language": "R",
   "name": "ir"
  },
  "language_info": {
   "codemirror_mode": "r",
   "file_extension": ".r",
   "mimetype": "text/x-r-source",
   "name": "R",
   "pygments_lexer": "r",
   "version": "4.1.0"
  },
  "toc": {
   "base_numbering": 1,
   "nav_menu": {},
   "number_sections": true,
   "sideBar": true,
   "skip_h1_title": false,
   "title_cell": "Table of Contents",
   "title_sidebar": "Contents",
   "toc_cell": false,
   "toc_position": {},
   "toc_section_display": true,
   "toc_window_display": false
  },
  "varInspector": {
   "cols": {
    "lenName": 16,
    "lenType": 16,
    "lenVar": 40
   },
   "kernels_config": {
    "python": {
     "delete_cmd_postfix": "",
     "delete_cmd_prefix": "del ",
     "library": "var_list.py",
     "varRefreshCmd": "print(var_dic_list())"
    },
    "r": {
     "delete_cmd_postfix": ") ",
     "delete_cmd_prefix": "rm(",
     "library": "var_list.r",
     "varRefreshCmd": "cat(var_dic_list()) "
    }
   },
   "types_to_exclude": [
    "module",
    "function",
    "builtin_function_or_method",
    "instance",
    "_Feature"
   ],
   "window_display": false
  }
 },
 "nbformat": 4,
 "nbformat_minor": 5
}
