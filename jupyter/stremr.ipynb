{
 "cells": [
  {
   "cell_type": "code",
   "execution_count": null,
   "id": "a5fa1d37",
   "metadata": {},
   "outputs": [],
   "source": [
    "library(magrittr)\n",
    "library(data.table)\n",
    "library(stremr)"
   ]
  },
  {
   "cell_type": "code",
   "execution_count": null,
   "id": "c9bafb48",
   "metadata": {},
   "outputs": [],
   "source": [
    "data(OdataNoCENS)\n",
    "datDT <- as.data.table(OdataNoCENS, key = c(\"ID\", \"t\"))"
   ]
  },
  {
   "cell_type": "code",
   "execution_count": null,
   "id": "72665a59",
   "metadata": {},
   "outputs": [],
   "source": [
    "head(datDT)"
   ]
  },
  {
   "cell_type": "code",
   "execution_count": null,
   "id": "d6c77ce3",
   "metadata": {},
   "outputs": [],
   "source": [
    "summary(datDT)"
   ]
  },
  {
   "cell_type": "code",
   "execution_count": null,
   "id": "5228a5aa",
   "metadata": {},
   "outputs": [],
   "source": [
    "datDT[, `:=`((\"N.tminus1\"), shift(get(\"N\"), n = 1L, type = \"lag\", fill = 1L)), by = ID]\n",
    "datDT[, `:=`((\"TI.tminus1\"), shift(get(\"TI\"), n = 1L, type = \"lag\", fill = 1L)), by = ID]"
   ]
  },
  {
   "cell_type": "code",
   "execution_count": null,
   "id": "c01897aa",
   "metadata": {},
   "outputs": [],
   "source": [
    "datDT[, `:=`((\"TI.set1\"), 1L)]\n",
    "datDT[, `:=`((\"TI.set0\"), 0L)]"
   ]
  },
  {
   "cell_type": "code",
   "execution_count": null,
   "id": "9acc77ef",
   "metadata": {},
   "outputs": [],
   "source": [
    "OData <- importData(datDT, ID = \"ID\", t = \"t\", covars = c(\"highA1c\", \"lastNat1\",\n",
    "    \"N.tminus1\"), CENS = \"C\", TRT = \"TI\", OUTCOME = \"Y.tplus1\")"
   ]
  },
  {
   "cell_type": "code",
   "execution_count": null,
   "id": "0cefb472",
   "metadata": {},
   "outputs": [],
   "source": [
    "get_data(OData)[, `:=`((\"TI.set0\"), 1L)]\n",
    "get_data(OData)[, `:=`((\"TI.set0\"), 0L)]"
   ]
  },
  {
   "cell_type": "code",
   "execution_count": null,
   "id": "1b0f7e27",
   "metadata": {},
   "outputs": [],
   "source": [
    "get_data(OData)"
   ]
  },
  {
   "cell_type": "code",
   "execution_count": null,
   "id": "2a04cde8",
   "metadata": {},
   "outputs": [],
   "source": [
    "gform_CENS <- \"C ~ highA1c + lastNat1\"\n",
    "gform_TRT <- \"TI ~ CVD + highA1c + N.tminus1\""
   ]
  },
  {
   "cell_type": "code",
   "execution_count": null,
   "id": "e210ade5",
   "metadata": {},
   "outputs": [],
   "source": [
    "stratify_CENS <- list(C = c(\"t < 16\", \"t == 16\"))"
   ]
  },
  {
   "cell_type": "code",
   "execution_count": null,
   "id": "262db93c",
   "metadata": {},
   "outputs": [],
   "source": [
    "OData <- fitPropensity(OData, gform_CENS = gform_CENS, gform_TRT = gform_TRT, stratify_CENS = stratify_CENS)"
   ]
  },
  {
   "cell_type": "code",
   "execution_count": null,
   "id": "944ed4e3",
   "metadata": {},
   "outputs": [],
   "source": [
    "AKME.St.1 <- getIPWeights(OData, intervened_TRT = \"TI.set1\") %>%\n",
    "    survNPMSM(OData) %$%\n",
    "    estimates"
   ]
  },
  {
   "cell_type": "code",
   "execution_count": null,
   "id": "f1ce037b",
   "metadata": {},
   "outputs": [],
   "source": [
    "head(AKME.St.1[], 2)"
   ]
  },
  {
   "cell_type": "code",
   "execution_count": null,
   "id": "ac5d79b2",
   "metadata": {},
   "outputs": [],
   "source": [
    "IPW.St.1 <- getIPWeights(OData, intervened_TRT = \"TI.set1\") %>%\n",
    "    directIPW(OData) %$%\n",
    "    estimates"
   ]
  },
  {
   "cell_type": "code",
   "execution_count": null,
   "id": "c79e7a18",
   "metadata": {},
   "outputs": [],
   "source": [
    "head(IPW.St.1[], 2)"
   ]
  },
  {
   "cell_type": "code",
   "execution_count": null,
   "id": "fb1f2d07",
   "metadata": {},
   "outputs": [],
   "source": [
    "wts.DT.1 <- getIPWeights(OData = OData, intervened_TRT = \"TI.set1\", rule_name = \"TI1\")\n",
    "wts.DT.0 <- getIPWeights(OData = OData, intervened_TRT = \"TI.set0\", rule_name = \"TI0\")\n",
    "survMSM_res <- survMSM(list(wts.DT.1, wts.DT.0),\n",
    "                       OData, tbreaks = c(1:8, 12, 16) - 1, )"
   ]
  },
  {
   "cell_type": "code",
   "execution_count": null,
   "id": "a1b011d6",
   "metadata": {
    "scrolled": true
   },
   "outputs": [],
   "source": [
    "head(survMSM_res[[\"TI0\"]][[\"estimates\"]],2)"
   ]
  },
  {
   "cell_type": "code",
   "execution_count": null,
   "id": "ddb14d4b",
   "metadata": {},
   "outputs": [],
   "source": [
    "head(survMSM_res[[\"TI1\"]][[\"estimates\"]],2)"
   ]
  },
  {
   "cell_type": "code",
   "execution_count": null,
   "id": "3649e2eb",
   "metadata": {},
   "outputs": [],
   "source": [
    "tvals <- c(0:10)\n",
    "Qforms <- rep.int(\"Qkplus1 ~ CVD + highA1c + N + lastNat1 + TI + TI.tminus1\",\n",
    "                  (max(tvals) + 1))"
   ]
  },
  {
   "cell_type": "code",
   "execution_count": null,
   "id": "71e7b6ef",
   "metadata": {},
   "outputs": [],
   "source": [
    "gcomp_est <- fit_GCOMP(OData, tvals = tvals, intervened_TRT = \"TI.set1\", Qforms = Qforms)"
   ]
  },
  {
   "cell_type": "code",
   "execution_count": null,
   "id": "a85f5f27",
   "metadata": {},
   "outputs": [],
   "source": [
    "head(gcomp_est$estimates[], 2)"
   ]
  },
  {
   "cell_type": "code",
   "execution_count": null,
   "id": "4299ad82",
   "metadata": {},
   "outputs": [],
   "source": [
    "tmle_est <- fit_TMLE(OData, tvals = tvals, intervened_TRT = \"TI.set1\", Qforms = Qforms)"
   ]
  },
  {
   "cell_type": "code",
   "execution_count": null,
   "id": "c053eebd",
   "metadata": {},
   "outputs": [],
   "source": [
    "head(tmle_est$estimates[], 2)"
   ]
  },
  {
   "cell_type": "code",
   "execution_count": null,
   "id": "2015b4db",
   "metadata": {},
   "outputs": [],
   "source": [
    "library(\"sl3\")\n",
    "lrn_xgb <- Lrnr_xgboost$new(nrounds = 5)\n",
    "lrn_glm <- Lrnr_glm_fast$new()\n",
    "lrn_glm2 <- Lrnr_glm_fast$new(covariates = c(\"CVD\"))\n",
    "lrn_glmnet <- Lrnr_glmnet$new(nlambda = 5, family = \"binomial\")\n",
    "## Stack the above candidates:\n",
    "lrn_stack <- Stack$new(lrn_xgb, lrn_glm, lrn_glm2, lrn_glmnet)"
   ]
  },
  {
   "cell_type": "code",
   "execution_count": null,
   "id": "3fe21190",
   "metadata": {},
   "outputs": [],
   "source": [
    "lrn_sl <- Lrnr_sl$new(learners = lrn_stack, metalearner = Lrnr_solnp$new())"
   ]
  },
  {
   "cell_type": "code",
   "execution_count": null,
   "id": "65d1c681",
   "metadata": {},
   "outputs": [],
   "source": [
    "OData <- fitPropensity(OData,\n",
    "                       gform_CENS = gform_CENS,\n",
    "                       gform_TRT = gform_TRT,\n",
    "                       models_TRT = lrn_sl,\n",
    "                       stratify_CENS = stratify_CENS)"
   ]
  },
  {
   "cell_type": "code",
   "execution_count": null,
   "id": "4fad0c1a",
   "metadata": {},
   "outputs": [],
   "source": [
    "tmle_est <- fit_TMLE(OData, tvals = tvals, intervened_TRT = \"TI.set1\", Qforms = Qforms)\n",
    "head(tmle_est$estimates[], 2)"
   ]
  },
  {
   "cell_type": "code",
   "execution_count": null,
   "id": "2412d6b0",
   "metadata": {},
   "outputs": [],
   "source": [
    "AKME.St.1 <- getIPWeights(OData, intervened_TRT = \"TI.set1\") %>%\n",
    "             survNPMSM(OData) %$%\n",
    "             estimates"
   ]
  },
  {
   "cell_type": "code",
   "execution_count": null,
   "id": "96ed2911",
   "metadata": {},
   "outputs": [],
   "source": [
    "head(AKME.St.1[], 2)"
   ]
  },
  {
   "cell_type": "code",
   "execution_count": null,
   "id": "05b7f7fd",
   "metadata": {},
   "outputs": [],
   "source": []
  }
 ],
 "metadata": {
  "kernelspec": {
   "display_name": "R",
   "language": "R",
   "name": "ir"
  },
  "language_info": {
   "codemirror_mode": "r",
   "file_extension": ".r",
   "mimetype": "text/x-r-source",
   "name": "R",
   "pygments_lexer": "r",
   "version": "4.1.1"
  },
  "toc": {
   "base_numbering": 1,
   "nav_menu": {},
   "number_sections": true,
   "sideBar": true,
   "skip_h1_title": false,
   "title_cell": "Table of Contents",
   "title_sidebar": "Contents",
   "toc_cell": false,
   "toc_position": {},
   "toc_section_display": true,
   "toc_window_display": false
  },
  "varInspector": {
   "cols": {
    "lenName": 16,
    "lenType": 16,
    "lenVar": 40
   },
   "kernels_config": {
    "python": {
     "delete_cmd_postfix": "",
     "delete_cmd_prefix": "del ",
     "library": "var_list.py",
     "varRefreshCmd": "print(var_dic_list())"
    },
    "r": {
     "delete_cmd_postfix": ") ",
     "delete_cmd_prefix": "rm(",
     "library": "var_list.r",
     "varRefreshCmd": "cat(var_dic_list()) "
    }
   },
   "types_to_exclude": [
    "module",
    "function",
    "builtin_function_or_method",
    "instance",
    "_Feature"
   ],
   "window_display": false
  }
 },
 "nbformat": 4,
 "nbformat_minor": 5
}
