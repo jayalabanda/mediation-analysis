{
 "cells": [
  {
   "cell_type": "code",
   "execution_count": null,
   "id": "63bdc72b",
   "metadata": {},
   "outputs": [],
   "source": [
    "from causalinference import CausalModel\n",
    "from causalinference.utils import random_data\n",
    "\n",
    "Y, D, X = random_data()\n",
    "# print(Y)\n",
    "# print(D)\n",
    "# print(X)\n",
    "causal = CausalModel(Y, D, X)"
   ]
  },
  {
   "cell_type": "code",
   "execution_count": null,
   "id": "7f1ff91d",
   "metadata": {},
   "outputs": [],
   "source": [
    "print(causal.summary_stats)"
   ]
  },
  {
   "cell_type": "code",
   "execution_count": null,
   "id": "2392959d",
   "metadata": {},
   "outputs": [],
   "source": [
    "causal.summary_stats['X_t_mean']"
   ]
  },
  {
   "cell_type": "code",
   "execution_count": null,
   "id": "729eee74",
   "metadata": {},
   "outputs": [],
   "source": [
    "causal.summary_stats.keys()"
   ]
  },
  {
   "cell_type": "code",
   "execution_count": null,
   "id": "0fad3526",
   "metadata": {},
   "outputs": [],
   "source": [
    "causal.est_via_ols()\n",
    "print(causal.estimates)"
   ]
  },
  {
   "cell_type": "markdown",
   "id": "c82e6f81",
   "metadata": {},
   "source": [
    "- ATE: average treatment effect\n",
    "- ATC: average treatment effect for controls\n",
    "- ATT: average treatment effect for treated\n",
    "\n",
    "Constant treatment effect: $\\textit{adj=1}$ in $\\texttt{est_via_ols}$."
   ]
  },
  {
   "cell_type": "code",
   "execution_count": null,
   "id": "d8a41e21",
   "metadata": {},
   "outputs": [],
   "source": [
    "causal.est_propensity_s()\n",
    "print(causal.propensity)"
   ]
  },
  {
   "cell_type": "code",
   "execution_count": null,
   "id": "792761e3",
   "metadata": {},
   "outputs": [],
   "source": [
    "causal.propensity.keys()"
   ]
  },
  {
   "cell_type": "code",
   "execution_count": null,
   "id": "a1926ad1",
   "metadata": {},
   "outputs": [],
   "source": [
    "causal.cutoff"
   ]
  },
  {
   "cell_type": "code",
   "execution_count": null,
   "id": "95d419d1",
   "metadata": {},
   "outputs": [],
   "source": [
    "causal.trim_s()\n",
    "causal.cutoff"
   ]
  },
  {
   "cell_type": "code",
   "execution_count": null,
   "id": "d6e8b11c",
   "metadata": {},
   "outputs": [],
   "source": [
    "print(causal.summary_stats)"
   ]
  },
  {
   "cell_type": "code",
   "execution_count": null,
   "id": "576cd1e1",
   "metadata": {},
   "outputs": [],
   "source": [
    "causal.stratify_s()\n",
    "print(causal.strata)"
   ]
  },
  {
   "cell_type": "code",
   "execution_count": null,
   "id": "6ffa4b47",
   "metadata": {},
   "outputs": [],
   "source": [
    "for stratum in causal.strata:\n",
    "    stratum.est_via_ols(adj=1)"
   ]
  },
  {
   "cell_type": "code",
   "execution_count": null,
   "id": "a1abcaca",
   "metadata": {},
   "outputs": [],
   "source": [
    "[stratum.estimates['ols']['ate'] for stratum in causal.strata]"
   ]
  },
  {
   "cell_type": "code",
   "execution_count": null,
   "id": "ec0e523e",
   "metadata": {},
   "outputs": [],
   "source": [
    "causal.est_via_ols()\n",
    "causal.est_via_weighting()\n",
    "causal.est_via_blocking()\n",
    "causal.est_via_matching(bias_adj=True)\n",
    "print(causal.estimates)"
   ]
  },
  {
   "cell_type": "code",
   "execution_count": null,
   "id": "da0106e0",
   "metadata": {},
   "outputs": [],
   "source": [
    "from pyprocessmacro import Process\n",
    "import pandas as pd\n",
    "\n",
    "df = pd.read_csv(\"./obsdat.csv\")\n",
    "df.head()"
   ]
  },
  {
   "cell_type": "code",
   "execution_count": null,
   "id": "1e07e278",
   "metadata": {},
   "outputs": [],
   "source": [
    "p = Process(data=df, model=13, x=\"a\", y=\"y\", w=\"w1\", z=\"z\", m=\"m\", logit=True)\n",
    "p.summary()"
   ]
  },
  {
   "cell_type": "code",
   "execution_count": null,
   "id": "acc0c79a",
   "metadata": {},
   "outputs": [],
   "source": [
    "ind_model = p.indirect_model"
   ]
  },
  {
   "cell_type": "code",
   "execution_count": null,
   "id": "7e203f46",
   "metadata": {},
   "outputs": [],
   "source": [
    "ind_model.coeff_summary()"
   ]
  },
  {
   "cell_type": "code",
   "execution_count": null,
   "id": "0ba34b1d",
   "metadata": {},
   "outputs": [],
   "source": []
  }
 ],
 "metadata": {
  "kernelspec": {
   "display_name": "Python 3",
   "language": "python",
   "name": "python3"
  },
  "language_info": {
   "codemirror_mode": {
    "name": "ipython",
    "version": 3
   },
   "file_extension": ".py",
   "mimetype": "text/x-python",
   "name": "python",
   "nbconvert_exporter": "python",
   "pygments_lexer": "ipython3",
   "version": "3.8.10"
  },
  "toc": {
   "base_numbering": 1,
   "nav_menu": {},
   "number_sections": true,
   "sideBar": true,
   "skip_h1_title": false,
   "title_cell": "Table of Contents",
   "title_sidebar": "Contents",
   "toc_cell": false,
   "toc_position": {},
   "toc_section_display": true,
   "toc_window_display": false
  },
  "varInspector": {
   "cols": {
    "lenName": 16,
    "lenType": 16,
    "lenVar": 40
   },
   "kernels_config": {
    "python": {
     "delete_cmd_postfix": "",
     "delete_cmd_prefix": "del ",
     "library": "var_list.py",
     "varRefreshCmd": "print(var_dic_list())"
    },
    "r": {
     "delete_cmd_postfix": ") ",
     "delete_cmd_prefix": "rm(",
     "library": "var_list.r",
     "varRefreshCmd": "cat(var_dic_list()) "
    }
   },
   "types_to_exclude": [
    "module",
    "function",
    "builtin_function_or_method",
    "instance",
    "_Feature"
   ],
   "window_display": false
  }
 },
 "nbformat": 4,
 "nbformat_minor": 5
}
