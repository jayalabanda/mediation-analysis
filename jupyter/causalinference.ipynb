{
 "cells": [
  {
   "cell_type": "code",
   "execution_count": 1,
   "id": "63bdc72b",
   "metadata": {},
   "outputs": [],
   "source": [
    "from causalinference import CausalModel\n",
    "from causalinference.utils import random_data\n",
    "\n",
    "Y, D, X = random_data()\n",
    "# print(Y)\n",
    "# print(D)\n",
    "# print(X)\n",
    "causal = CausalModel(Y, D, X)"
   ]
  },
  {
   "cell_type": "code",
   "execution_count": 2,
   "id": "7f1ff91d",
   "metadata": {},
   "outputs": [
    {
     "name": "stdout",
     "output_type": "stream",
     "text": [
      "\n",
      "Summary Statistics\n",
      "\n",
      "                      Controls (N_c=2479)        Treated (N_t=2521)             \n",
      "       Variable         Mean         S.d.         Mean         S.d.     Raw-diff\n",
      "--------------------------------------------------------------------------------\n",
      "              Y       -1.006        1.742        4.891        2.996        5.897\n",
      "\n",
      "                      Controls (N_c=2479)        Treated (N_t=2521)             \n",
      "       Variable         Mean         S.d.         Mean         S.d.     Nor-diff\n",
      "--------------------------------------------------------------------------------\n",
      "             X0       -0.332        0.976        0.338        0.960        0.692\n",
      "             X1       -0.323        0.932        0.322        0.947        0.687\n",
      "             X2       -0.340        0.925        0.296        0.949        0.679\n",
      "\n"
     ]
    }
   ],
   "source": [
    "print(causal.summary_stats)"
   ]
  },
  {
   "cell_type": "code",
   "execution_count": 3,
   "id": "2392959d",
   "metadata": {},
   "outputs": [
    {
     "data": {
      "text/plain": [
       "array([0.33848228, 0.32206083, 0.29639706])"
      ]
     },
     "execution_count": 3,
     "metadata": {},
     "output_type": "execute_result"
    }
   ],
   "source": [
    "causal.summary_stats['X_t_mean']"
   ]
  },
  {
   "cell_type": "code",
   "execution_count": 4,
   "id": "729eee74",
   "metadata": {},
   "outputs": [
    {
     "data": {
      "text/plain": [
       "dict_keys(['N', 'K', 'N_c', 'N_t', 'Y_c_mean', 'Y_t_mean', 'Y_c_sd', 'Y_t_sd', 'rdiff', 'X_c_mean', 'X_t_mean', 'X_c_sd', 'X_t_sd', 'ndiff'])"
      ]
     },
     "execution_count": 4,
     "metadata": {},
     "output_type": "execute_result"
    }
   ],
   "source": [
    "causal.summary_stats.keys()"
   ]
  },
  {
   "cell_type": "code",
   "execution_count": 5,
   "id": "0fad3526",
   "metadata": {},
   "outputs": [
    {
     "name": "stdout",
     "output_type": "stream",
     "text": [
      "\n",
      "Treatment Effect Estimates: OLS\n",
      "\n",
      "                     Est.       S.e.          z      P>|z|      [95% Conf. int.]\n",
      "--------------------------------------------------------------------------------\n",
      "           ATE      2.974      0.034     86.755      0.000      2.907      3.042\n",
      "           ATC      2.003      0.040     50.238      0.000      1.925      2.081\n",
      "           ATT      3.930      0.039     99.809      0.000      3.852      4.007\n",
      "\n"
     ]
    },
    {
     "name": "stderr",
     "output_type": "stream",
     "text": [
      "C:\\Users\\luis_\\anaconda3\\lib\\site-packages\\causalinference\\estimators\\ols.py:21: FutureWarning: `rcond` parameter will change to the default of machine precision times ``max(M, N)`` where M and N are the input matrix dimensions.\n",
      "To use the future default and silence this warning we advise to pass `rcond=None`, to keep using the old, explicitly pass `rcond=-1`.\n",
      "  olscoef = np.linalg.lstsq(Z, Y)[0]\n"
     ]
    }
   ],
   "source": [
    "causal.est_via_ols()\n",
    "print(causal.estimates)"
   ]
  },
  {
   "cell_type": "markdown",
   "id": "c82e6f81",
   "metadata": {},
   "source": [
    "- ATE: average treatment effect\n",
    "- ATC: average treatment effect for controls\n",
    "- ATT: average treatment effect for treated\n",
    "\n",
    "Constant treatment effect: $\\textit{adj=1}$ in $\\texttt{est_via_ols}$."
   ]
  },
  {
   "cell_type": "code",
   "execution_count": 6,
   "id": "d8a41e21",
   "metadata": {},
   "outputs": [
    {
     "name": "stdout",
     "output_type": "stream",
     "text": [
      "\n",
      "Estimated Parameters of Propensity Score\n",
      "\n",
      "                    Coef.       S.e.          z      P>|z|      [95% Conf. int.]\n",
      "--------------------------------------------------------------------------------\n",
      "     Intercept      0.055      0.036      1.545      0.122     -0.015      0.126\n",
      "            X0      1.019      0.041     24.948      0.000      0.939      1.100\n",
      "            X2      1.015      0.041     24.496      0.000      0.934      1.096\n",
      "            X1      1.001      0.041     24.226      0.000      0.920      1.082\n",
      "         X0*X1      0.106      0.040      2.630      0.009      0.027      0.185\n",
      "\n"
     ]
    }
   ],
   "source": [
    "causal.est_propensity_s()\n",
    "print(causal.propensity)"
   ]
  },
  {
   "cell_type": "code",
   "execution_count": 7,
   "id": "792761e3",
   "metadata": {},
   "outputs": [
    {
     "data": {
      "text/plain": [
       "dict_keys(['lin', 'qua', 'coef', 'loglike', 'fitted', 'se'])"
      ]
     },
     "execution_count": 7,
     "metadata": {},
     "output_type": "execute_result"
    }
   ],
   "source": [
    "causal.propensity.keys()"
   ]
  },
  {
   "cell_type": "code",
   "execution_count": 8,
   "id": "a1926ad1",
   "metadata": {},
   "outputs": [
    {
     "data": {
      "text/plain": [
       "0.1"
      ]
     },
     "execution_count": 8,
     "metadata": {},
     "output_type": "execute_result"
    }
   ],
   "source": [
    "causal.cutoff"
   ]
  },
  {
   "cell_type": "code",
   "execution_count": 9,
   "id": "95d419d1",
   "metadata": {},
   "outputs": [
    {
     "data": {
      "text/plain": [
       "0.09867449862777766"
      ]
     },
     "execution_count": 9,
     "metadata": {},
     "output_type": "execute_result"
    }
   ],
   "source": [
    "causal.trim_s()\n",
    "causal.cutoff"
   ]
  },
  {
   "cell_type": "code",
   "execution_count": 10,
   "id": "d6e8b11c",
   "metadata": {},
   "outputs": [
    {
     "name": "stdout",
     "output_type": "stream",
     "text": [
      "\n",
      "Summary Statistics\n",
      "\n",
      "                      Controls (N_c=1998)        Treated (N_t=1997)             \n",
      "       Variable         Mean         S.d.         Mean         S.d.     Raw-diff\n",
      "--------------------------------------------------------------------------------\n",
      "              Y       -0.560        1.418        4.004        2.199        4.564\n",
      "\n",
      "                      Controls (N_c=1998)        Treated (N_t=1997)             \n",
      "       Variable         Mean         S.d.         Mean         S.d.     Nor-diff\n",
      "--------------------------------------------------------------------------------\n",
      "             X0       -0.176        0.914        0.162        0.893        0.374\n",
      "             X1       -0.194        0.890        0.159        0.881        0.398\n",
      "             X2       -0.187        0.865        0.187        0.908        0.421\n",
      "\n"
     ]
    }
   ],
   "source": [
    "print(causal.summary_stats)"
   ]
  },
  {
   "cell_type": "code",
   "execution_count": 11,
   "id": "576cd1e1",
   "metadata": {},
   "outputs": [
    {
     "name": "stdout",
     "output_type": "stream",
     "text": [
      "\n",
      "Stratification Summary\n",
      "\n",
      "              Propensity Score         Sample Size     Ave. Propensity   Outcome\n",
      "   Stratum      Min.      Max.  Controls   Treated  Controls   Treated  Raw-diff\n",
      "--------------------------------------------------------------------------------\n",
      "         1     0.099     0.145       230        21     0.123     0.123     0.945\n",
      "         2     0.145     0.191       202        48     0.167     0.170     1.641\n",
      "         3     0.191     0.291       387       112     0.239     0.244     1.960\n",
      "         4     0.292     0.343       174        76     0.317     0.318     2.307\n",
      "         5     0.343     0.393       137       112     0.369     0.369     2.376\n",
      "         6     0.393     0.497       258       241     0.444     0.448     2.657\n",
      "         7     0.497     0.614       234       266     0.553     0.556     3.259\n",
      "         8     0.614     0.711       189       310     0.660     0.664     3.683\n",
      "         9     0.711     0.812       121       378     0.760     0.765     4.171\n",
      "        10     0.812     0.901        66       433     0.861     0.858     4.654\n",
      "\n"
     ]
    }
   ],
   "source": [
    "causal.stratify_s()\n",
    "print(causal.strata)"
   ]
  },
  {
   "cell_type": "code",
   "execution_count": 12,
   "id": "6ffa4b47",
   "metadata": {},
   "outputs": [],
   "source": [
    "for stratum in causal.strata:\n",
    "    stratum.est_via_ols(adj=1)"
   ]
  },
  {
   "cell_type": "code",
   "execution_count": 13,
   "id": "a1abcaca",
   "metadata": {},
   "outputs": [
    {
     "data": {
      "text/plain": [
       "[0.9111776691437574,\n",
       " 1.6242018223515893,\n",
       " 1.9124201309460178,\n",
       " 2.2709272761076678,\n",
       " 2.3523458243615205,\n",
       " 2.6524764954649953,\n",
       " 3.245230687556098,\n",
       " 3.636744921531517,\n",
       " 4.126494784437615,\n",
       " 4.7199030098136285]"
      ]
     },
     "execution_count": 13,
     "metadata": {},
     "output_type": "execute_result"
    }
   ],
   "source": [
    "[stratum.estimates['ols']['ate'] for stratum in causal.strata]"
   ]
  },
  {
   "cell_type": "code",
   "execution_count": 14,
   "id": "ec0e523e",
   "metadata": {},
   "outputs": [
    {
     "name": "stderr",
     "output_type": "stream",
     "text": [
      "C:\\Users\\luis_\\anaconda3\\lib\\site-packages\\causalinference\\estimators\\weighting.py:23: FutureWarning: `rcond` parameter will change to the default of machine precision times ``max(M, N)`` where M and N are the input matrix dimensions.\n",
      "To use the future default and silence this warning we advise to pass `rcond=None`, to keep using the old, explicitly pass `rcond=-1`.\n",
      "  wlscoef = np.linalg.lstsq(Z_w, Y_w)[0]\n"
     ]
    },
    {
     "name": "stdout",
     "output_type": "stream",
     "text": [
      "\n",
      "Treatment Effect Estimates: OLS\n",
      "\n",
      "                     Est.       S.e.          z      P>|z|      [95% Conf. int.]\n",
      "--------------------------------------------------------------------------------\n",
      "           ATE      2.973      0.035     84.274      0.000      2.904      3.042\n",
      "           ATC      2.445      0.039     62.649      0.000      2.368      2.521\n",
      "           ATT      3.501      0.039     89.940      0.000      3.425      3.577\n",
      "\n",
      "Treatment Effect Estimates: Weighting\n",
      "\n",
      "                     Est.       S.e.          z      P>|z|      [95% Conf. int.]\n",
      "--------------------------------------------------------------------------------\n",
      "           ATE      2.994      0.041     72.937      0.000      2.914      3.075\n",
      "\n",
      "Treatment Effect Estimates: Blocking\n",
      "\n",
      "                     Est.       S.e.          z      P>|z|      [95% Conf. int.]\n",
      "--------------------------------------------------------------------------------\n",
      "           ATE      2.983      0.040     75.167      0.000      2.905      3.061\n",
      "           ATC      2.471      0.050     49.842      0.000      2.374      2.568\n",
      "           ATT      3.496      0.043     81.991      0.000      3.412      3.579\n",
      "\n",
      "Treatment Effect Estimates: Matching\n",
      "\n",
      "                     Est.       S.e.          z      P>|z|      [95% Conf. int.]\n",
      "--------------------------------------------------------------------------------\n",
      "           ATE      2.970      0.071     41.932      0.000      2.831      3.109\n",
      "           ATC      2.469      0.086     28.773      0.000      2.301      2.637\n",
      "           ATT      3.471      0.083     41.860      0.000      3.309      3.634\n",
      "\n"
     ]
    },
    {
     "name": "stderr",
     "output_type": "stream",
     "text": [
      "C:\\Users\\luis_\\anaconda3\\lib\\site-packages\\causalinference\\estimators\\matching.py:100: FutureWarning: `rcond` parameter will change to the default of machine precision times ``max(M, N)`` where M and N are the input matrix dimensions.\n",
      "To use the future default and silence this warning we advise to pass `rcond=None`, to keep using the old, explicitly pass `rcond=-1`.\n",
      "  return np.linalg.lstsq(X, Y)[0][1:]  # don't need intercept coef\n"
     ]
    }
   ],
   "source": [
    "causal.est_via_ols()\n",
    "causal.est_via_weighting()\n",
    "causal.est_via_blocking()\n",
    "causal.est_via_matching(bias_adj=True)\n",
    "print(causal.estimates)"
   ]
  },
  {
   "cell_type": "code",
   "execution_count": 1,
   "id": "da0106e0",
   "metadata": {},
   "outputs": [
    {
     "data": {
      "text/html": [
       "<div>\n",
       "<style scoped>\n",
       "    .dataframe tbody tr th:only-of-type {\n",
       "        vertical-align: middle;\n",
       "    }\n",
       "\n",
       "    .dataframe tbody tr th {\n",
       "        vertical-align: top;\n",
       "    }\n",
       "\n",
       "    .dataframe thead th {\n",
       "        text-align: right;\n",
       "    }\n",
       "</style>\n",
       "<table border=\"1\" class=\"dataframe\">\n",
       "  <thead>\n",
       "    <tr style=\"text-align: right;\">\n",
       "      <th></th>\n",
       "      <th>Unnamed: 0</th>\n",
       "      <th>w1</th>\n",
       "      <th>a</th>\n",
       "      <th>z</th>\n",
       "      <th>m</th>\n",
       "      <th>y</th>\n",
       "      <th>svywt</th>\n",
       "      <th>radid_person</th>\n",
       "    </tr>\n",
       "  </thead>\n",
       "  <tbody>\n",
       "    <tr>\n",
       "      <th>0</th>\n",
       "      <td>2</td>\n",
       "      <td>1</td>\n",
       "      <td>1</td>\n",
       "      <td>1</td>\n",
       "      <td>1</td>\n",
       "      <td>1</td>\n",
       "      <td>0.672157</td>\n",
       "      <td>2</td>\n",
       "    </tr>\n",
       "    <tr>\n",
       "      <th>1</th>\n",
       "      <td>4</td>\n",
       "      <td>1</td>\n",
       "      <td>0</td>\n",
       "      <td>0</td>\n",
       "      <td>1</td>\n",
       "      <td>1</td>\n",
       "      <td>0.964990</td>\n",
       "      <td>4</td>\n",
       "    </tr>\n",
       "    <tr>\n",
       "      <th>2</th>\n",
       "      <td>10</td>\n",
       "      <td>1</td>\n",
       "      <td>0</td>\n",
       "      <td>0</td>\n",
       "      <td>0</td>\n",
       "      <td>0</td>\n",
       "      <td>0.672157</td>\n",
       "      <td>10</td>\n",
       "    </tr>\n",
       "    <tr>\n",
       "      <th>3</th>\n",
       "      <td>11</td>\n",
       "      <td>0</td>\n",
       "      <td>1</td>\n",
       "      <td>1</td>\n",
       "      <td>1</td>\n",
       "      <td>1</td>\n",
       "      <td>0.964990</td>\n",
       "      <td>11</td>\n",
       "    </tr>\n",
       "    <tr>\n",
       "      <th>4</th>\n",
       "      <td>12</td>\n",
       "      <td>1</td>\n",
       "      <td>1</td>\n",
       "      <td>0</td>\n",
       "      <td>0</td>\n",
       "      <td>1</td>\n",
       "      <td>0.672157</td>\n",
       "      <td>12</td>\n",
       "    </tr>\n",
       "  </tbody>\n",
       "</table>\n",
       "</div>"
      ],
      "text/plain": [
       "   Unnamed: 0  w1  a  z  m  y     svywt  radid_person\n",
       "0           2   1  1  1  1  1  0.672157             2\n",
       "1           4   1  0  0  1  1  0.964990             4\n",
       "2          10   1  0  0  0  0  0.672157            10\n",
       "3          11   0  1  1  1  1  0.964990            11\n",
       "4          12   1  1  0  0  1  0.672157            12"
      ]
     },
     "execution_count": 1,
     "metadata": {},
     "output_type": "execute_result"
    }
   ],
   "source": [
    "from pyprocessmacro import Process\n",
    "import pandas as pd\n",
    "\n",
    "df = pd.read_csv(\"./obsdat.csv\")\n",
    "df.head()"
   ]
  },
  {
   "cell_type": "code",
   "execution_count": 3,
   "id": "1e07e278",
   "metadata": {},
   "outputs": [
    {
     "name": "stderr",
     "output_type": "stream",
     "text": [
      "C:\\Users\\luis_\\AppData\\Roaming\\Python\\Python38\\site-packages\\ipykernel\\ipkernel.py:283: DeprecationWarning: `should_run_async` will not call `transform_cell` automatically in the future. Please pass the result to `transformed_cell` argument and any exception that happen during thetransform in `preprocessing_exc_tuple` in IPython 7.17 and above.\n",
      "  and should_run_async(code)\n",
      "C:\\Users\\luis_\\anaconda3\\lib\\site-packages\\pyprocessmacro\\models.py:413: RuntimeWarning: invalid value encountered in double_scalars\n",
      "  coxsnell = 1 - (lnull / lmodel) ** (2 / self._n_obs)\n"
     ]
    },
    {
     "name": "stdout",
     "output_type": "stream",
     "text": [
      "Process successfully initialized.\n",
      "Based on the Process Macro by Andrew F. Hayes, Ph.D. (www.afhayes.com)\n",
      "\n",
      "\n",
      "****************************** SPECIFICATION ****************************\n",
      "\n",
      "Model = 13\n",
      "\n",
      "Variables:\n",
      "    Cons = Cons\n",
      "    x = a\n",
      "    y = y\n",
      "    w = w1\n",
      "    z = z\n",
      "    m1 = m\n",
      "\n",
      "Sample size:\n",
      "57727\n",
      "\n",
      "Bootstrapping information for indirect effects:\n",
      "Final number of bootstrap samples: 5000\n",
      "Number of samples discarded due to convergence issues: 0\n",
      "\n",
      "***************************** OUTCOME MODELS ****************************\n",
      "\n",
      "\n",
      "**************************************************************************\n",
      "Outcome = y \n",
      "Logistic Regression Summary\n",
      "\n",
      "       -2LL  Model LL  p-value  McFadden  Cox-Snell  Nagelkerke      n\n",
      " 59357.5242 7171.6072   0.0000    0.1078        NaN         NaN  57727\n",
      "\n",
      "Coefficients\n",
      "\n",
      "       coeff     se       Z      p    LLCI    ULCI\n",
      "Cons  0.4133 0.0251 16.4446 0.0000  0.3641  0.4626\n",
      "a     0.3036 0.0371  8.1860 0.0000  0.2309  0.3763\n",
      "w1   -0.2415 0.0291 -8.2855 0.0000 -0.2986 -0.1844\n",
      "a*w1 -0.0006 0.0443 -0.0126 0.9899 -0.0873  0.0862\n",
      "m     1.6175 0.0224 72.3223 0.0000  1.5737  1.6614\n",
      "\n",
      "-------------------------------------------------------------------------\n",
      "\n",
      "Outcome = m \n",
      "OLS Regression Summary\n",
      "\n",
      "     R²  Adj. R²    MSE         F  df1    df2  p-value\n",
      " 0.2768   0.2767 0.1808 3155.6171    7  57719   0.0000\n",
      "\n",
      "Coefficients\n",
      "\n",
      "         coeff     se       t      p    LLCI    ULCI\n",
      "Cons    0.2474 0.0060 41.1860 0.0000  0.2356  0.2591\n",
      "a      -0.0041 0.0113 -0.3666 0.7139 -0.0262  0.0179\n",
      "w1     -0.0517 0.0071 -7.2857 0.0000 -0.0656 -0.0378\n",
      "z       0.5218 0.0085 61.6085 0.0000  0.5052  0.5384\n",
      "a*w1   -0.0025 0.0130 -0.1941 0.8461 -0.0280  0.0230\n",
      "a*z     0.0026 0.0136  0.1898 0.8495 -0.0241  0.0292\n",
      "w1*z   -0.0062 0.0107 -0.5747 0.5655 -0.0272  0.0148\n",
      "a*w1*z  0.0009 0.0165  0.0524 0.9582 -0.0314  0.0331\n",
      "\n",
      "-------------------------------------------------------------------------\n",
      "\n",
      "\n",
      "********************** DIRECT AND INDIRECT EFFECTS **********************\n",
      "\n",
      "Conditional direct effect(s) of a on y at values of the moderator(s):\n",
      "\n",
      "     w1  Effect     SE       Z      p   LLCI   ULCI\n",
      " 0.0000  0.3036 0.0371  8.1860 0.0000 0.2309 0.3763\n",
      " 1.0000  0.3031 0.0244 12.4361 0.0000 0.2553 0.3508\n",
      "\n",
      "Conditional indirect effect(s) of a on y at values of the moderator(s):\n",
      "\n",
      " Mediator  w1  z  Effect  Boot SE  BootLLCI  BootULCI\n",
      "        m   0  0 -0.0067   0.0183   -0.0415    0.0297\n",
      "        m   0  1 -0.0025   0.0123   -0.0268    0.0211\n",
      "        m   1  0 -0.0108   0.0097   -0.0298    0.0078\n",
      "        m   1  1 -0.0052   0.0115   -0.0270    0.0182\n",
      "\n",
      "**************** INDEX OF MODERATED MODERATED MEDIATION ******************\n",
      "\n",
      " Mediator  Index  Boot SE  BootLLCI  BootULCI\n",
      "        m 0.0014   0.0268   -0.0490    0.0568\n",
      "\n",
      "**************** INDEX OF CONDITIONAL MODERATED MEDIATION ******************\n",
      "\n",
      " Focal Mod Mediator  Other Mod At   Index  Boot SE  BootLLCI  BootULCI\n",
      "         z        m             0  0.0042   0.0221   -0.0404    0.0461\n",
      "         z        m             1  0.0056   0.0151   -0.0235    0.0367\n",
      "        w1        m             0 -0.0041   0.0207   -0.0448    0.0358\n",
      "        w1        m             1 -0.0027   0.0170   -0.0347    0.0316\n",
      "\n",
      "\n"
     ]
    }
   ],
   "source": [
    "p = Process(data=df, model=13, x=\"a\", y=\"y\", w=\"w1\", z=\"z\", m=\"m\", logit=True)\n",
    "p.summary()"
   ]
  },
  {
   "cell_type": "code",
   "execution_count": 5,
   "id": "acc0c79a",
   "metadata": {},
   "outputs": [
    {
     "name": "stderr",
     "output_type": "stream",
     "text": [
      "C:\\Users\\luis_\\AppData\\Roaming\\Python\\Python38\\site-packages\\ipykernel\\ipkernel.py:283: DeprecationWarning: `should_run_async` will not call `transform_cell` automatically in the future. Please pass the result to `transformed_cell` argument and any exception that happen during thetransform in `preprocessing_exc_tuple` in IPython 7.17 and above.\n",
      "  and should_run_async(code)\n"
     ]
    }
   ],
   "source": [
    "ind_model = p.indirect_model"
   ]
  },
  {
   "cell_type": "code",
   "execution_count": 6,
   "id": "7e203f46",
   "metadata": {},
   "outputs": [
    {
     "name": "stderr",
     "output_type": "stream",
     "text": [
      "C:\\Users\\luis_\\AppData\\Roaming\\Python\\Python38\\site-packages\\ipykernel\\ipkernel.py:283: DeprecationWarning: `should_run_async` will not call `transform_cell` automatically in the future. Please pass the result to `transformed_cell` argument and any exception that happen during thetransform in `preprocessing_exc_tuple` in IPython 7.17 and above.\n",
      "  and should_run_async(code)\n"
     ]
    },
    {
     "data": {
      "text/html": [
       "<div>\n",
       "<style scoped>\n",
       "    .dataframe tbody tr th:only-of-type {\n",
       "        vertical-align: middle;\n",
       "    }\n",
       "\n",
       "    .dataframe tbody tr th {\n",
       "        vertical-align: top;\n",
       "    }\n",
       "\n",
       "    .dataframe thead th {\n",
       "        text-align: right;\n",
       "    }\n",
       "</style>\n",
       "<table border=\"1\" class=\"dataframe\">\n",
       "  <thead>\n",
       "    <tr style=\"text-align: right;\">\n",
       "      <th></th>\n",
       "      <th>Mediator</th>\n",
       "      <th>w1</th>\n",
       "      <th>z</th>\n",
       "      <th>Effect</th>\n",
       "      <th>Boot SE</th>\n",
       "      <th>BootLLCI</th>\n",
       "      <th>BootULCI</th>\n",
       "    </tr>\n",
       "  </thead>\n",
       "  <tbody>\n",
       "    <tr>\n",
       "      <th></th>\n",
       "      <td>m</td>\n",
       "      <td>0</td>\n",
       "      <td>0</td>\n",
       "      <td>-0.006676</td>\n",
       "      <td>0.018348</td>\n",
       "      <td>-0.041534</td>\n",
       "      <td>0.029749</td>\n",
       "    </tr>\n",
       "    <tr>\n",
       "      <th></th>\n",
       "      <td>m</td>\n",
       "      <td>0</td>\n",
       "      <td>1</td>\n",
       "      <td>-0.002499</td>\n",
       "      <td>0.012326</td>\n",
       "      <td>-0.026823</td>\n",
       "      <td>0.021072</td>\n",
       "    </tr>\n",
       "    <tr>\n",
       "      <th></th>\n",
       "      <td>m</td>\n",
       "      <td>1</td>\n",
       "      <td>0</td>\n",
       "      <td>-0.010762</td>\n",
       "      <td>0.009678</td>\n",
       "      <td>-0.029752</td>\n",
       "      <td>0.007766</td>\n",
       "    </tr>\n",
       "    <tr>\n",
       "      <th></th>\n",
       "      <td>m</td>\n",
       "      <td>1</td>\n",
       "      <td>1</td>\n",
       "      <td>-0.005191</td>\n",
       "      <td>0.011505</td>\n",
       "      <td>-0.026987</td>\n",
       "      <td>0.018216</td>\n",
       "    </tr>\n",
       "  </tbody>\n",
       "</table>\n",
       "</div>"
      ],
      "text/plain": [
       " Mediator  w1  z    Effect   Boot SE  BootLLCI  BootULCI\n",
       "        m   0  0 -0.006676  0.018348 -0.041534  0.029749\n",
       "        m   0  1 -0.002499  0.012326 -0.026823  0.021072\n",
       "        m   1  0 -0.010762  0.009678 -0.029752  0.007766\n",
       "        m   1  1 -0.005191  0.011505 -0.026987  0.018216"
      ]
     },
     "execution_count": 6,
     "metadata": {},
     "output_type": "execute_result"
    }
   ],
   "source": [
    "ind_model.coeff_summary()"
   ]
  },
  {
   "cell_type": "code",
   "execution_count": null,
   "id": "0ba34b1d",
   "metadata": {},
   "outputs": [],
   "source": []
  }
 ],
 "metadata": {
  "kernelspec": {
   "display_name": "Python 3",
   "language": "python",
   "name": "python3"
  },
  "language_info": {
   "codemirror_mode": {
    "name": "ipython",
    "version": 3
   },
   "file_extension": ".py",
   "mimetype": "text/x-python",
   "name": "python",
   "nbconvert_exporter": "python",
   "pygments_lexer": "ipython3",
   "version": "3.8.10"
  },
  "toc": {
   "base_numbering": 1,
   "nav_menu": {},
   "number_sections": true,
   "sideBar": true,
   "skip_h1_title": false,
   "title_cell": "Table of Contents",
   "title_sidebar": "Contents",
   "toc_cell": false,
   "toc_position": {},
   "toc_section_display": true,
   "toc_window_display": false
  },
  "varInspector": {
   "cols": {
    "lenName": 16,
    "lenType": 16,
    "lenVar": 40
   },
   "kernels_config": {
    "python": {
     "delete_cmd_postfix": "",
     "delete_cmd_prefix": "del ",
     "library": "var_list.py",
     "varRefreshCmd": "print(var_dic_list())"
    },
    "r": {
     "delete_cmd_postfix": ") ",
     "delete_cmd_prefix": "rm(",
     "library": "var_list.r",
     "varRefreshCmd": "cat(var_dic_list()) "
    }
   },
   "types_to_exclude": [
    "module",
    "function",
    "builtin_function_or_method",
    "instance",
    "_Feature"
   ],
   "window_display": false
  }
 },
 "nbformat": 4,
 "nbformat_minor": 5
}
