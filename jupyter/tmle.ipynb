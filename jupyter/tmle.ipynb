{
 "cells": [
  {
   "cell_type": "code",
   "execution_count": 1,
   "id": "408aed61",
   "metadata": {},
   "outputs": [
    {
     "name": "stderr",
     "output_type": "stream",
     "text": [
      "Loading required package: glmnet\n",
      "\n",
      "Loading required package: Matrix\n",
      "\n",
      "Loaded glmnet 4.1-1\n",
      "\n",
      "Loading required package: SuperLearner\n",
      "\n",
      "Loading required package: nnls\n",
      "\n",
      "Loading required package: gam\n",
      "\n",
      "Loading required package: splines\n",
      "\n",
      "Loading required package: foreach\n",
      "\n",
      "Loaded gam 1.20\n",
      "\n",
      "\n",
      "Super Learner\n",
      "\n",
      "Version: 2.0-28\n",
      "\n",
      "Package created on 2021-05-04\n",
      "\n",
      "\n",
      "Welcome to the tmle package, version 1.5.0-1\n",
      "\n",
      "Major changes since v1.3.x. Use tmleNews() to see details on changes and bug fixes\n",
      "\n"
     ]
    }
   ],
   "source": [
    "library(tmle)"
   ]
  },
  {
   "cell_type": "code",
   "execution_count": 2,
   "id": "eac247d1",
   "metadata": {},
   "outputs": [],
   "source": [
    "set.seed(1)\n",
    "n <- 250\n",
    "W <- matrix(rnorm(n * 3), ncol = 3)\n",
    "A <- rbinom(n, 1, 1/(1 + exp(-(0.2 * W[, 1] - 0.1 * W[, 2] + 0.4 * W[, 3]))))\n",
    "Y <- A + 2 * W[, 1] + W[, 3] + W[, 2]^2 + rnorm(n)"
   ]
  },
  {
   "cell_type": "code",
   "execution_count": 3,
   "id": "d688fadb",
   "metadata": {},
   "outputs": [
    {
     "name": "stderr",
     "output_type": "stream",
     "text": [
      "Loading required namespace: dbarts\n",
      "\n"
     ]
    },
    {
     "data": {
      "text/plain": [
       " Initial estimation of Q\n",
       "\t Procedure: cv-SuperLearner, ensemble\n",
       "\t Model:\n",
       "\t\t Y ~  SL.glm_All + tmle.SL.dbarts2_All + SL.glmnet_All\n",
       "\n",
       "\t Coefficients: \n",
       "\t      SL.glm_All    0 \n",
       "\t tmle.SL.dbarts2_All    1 \n",
       "\t   SL.glmnet_All    0 \n",
       "\n",
       "\t Cross-validated R squared :  0.8351 \n",
       "\n",
       " Estimation of g (treatment mechanism)\n",
       "\t Procedure: SuperLearner, ensemble\t Empirical AUC = 0.6363 \n",
       "\n",
       "\t Model:\n",
       "\t\t A ~  SL.glm_All + tmle.SL.dbarts.k.5_All + SL.gam_All \n",
       "\n",
       "\t Coefficients: \n",
       "\t      SL.glm_All    0.6068355 \n",
       "\t tmle.SL.dbarts.k.5_All    0 \n",
       "\t      SL.gam_All    0.3931645 \n",
       "\n",
       " Estimation of g.Z (intermediate variable assignment mechanism)\n",
       "\t Procedure: No intermediate variable \n",
       "\n",
       " Estimation of g.Delta (missingness mechanism)\n",
       "\t Procedure: No missingness, ensemble\n",
       "\n",
       " Bounds on g: (0.0573, 1) \n",
       "\n",
       " Bounds on g for ATT/ATE: (0.0573, 0.9427) \n",
       "\n",
       " Additive Effect\n",
       "   Parameter Estimate:  0.8465\n",
       "   Estimated Variance:  0.028615\n",
       "              p-value:  5.6094e-07\n",
       "    95% Conf Interval: (0.51495, 1.1781) \n",
       "\n",
       " Additive Effect among the Treated\n",
       "   Parameter Estimate:  0.79801\n",
       "   Estimated Variance:  0.029045\n",
       "              p-value:  2.8352e-06\n",
       "    95% Conf Interval: (0.46397, 1.132) \n",
       "\n",
       " Additive Effect among the Controls\n",
       "   Parameter Estimate:  0.8898\n",
       "   Estimated Variance:  0.032963\n",
       "              p-value:  9.5386e-07\n",
       "    95% Conf Interval: (0.53395, 1.2457) "
      ]
     },
     "metadata": {},
     "output_type": "display_data"
    }
   ],
   "source": [
    "result1 <- tmle(Y, A, W)\n",
    "summary(result1)"
   ]
  },
  {
   "cell_type": "code",
   "execution_count": 4,
   "id": "3c125a45",
   "metadata": {},
   "outputs": [],
   "source": [
    "n <- 250\n",
    "W <- matrix(rnorm(n * 3), ncol = 3)\n",
    "colnames(W) <- paste(\"W\", 1:3, sep = \"\")\n",
    "A <- rbinom(n, 1, plogis(0.6 * W[, 1] + 0.4 * W[, 2] + 0.5 * W[, 3]))\n",
    "Y <- rbinom(n, 1, plogis(A + 0.2 * W[, 1] + 0.1 * W[, 2] + 0.2 * W[, 3]^2))"
   ]
  },
  {
   "cell_type": "code",
   "execution_count": 5,
   "id": "c3ae1ce5",
   "metadata": {},
   "outputs": [
    {
     "data": {
      "text/plain": [
       " Initial estimation of Q\n",
       "\t Procedure: cv-glm, user-supplied model\n",
       "\t Cross-validated pseudo R squared :  0.0417 \n",
       "\n",
       " Estimation of g (treatment mechanism)\n",
       "\t Procedure: user-supplied regression formula, ensemble\t Empirical AUC = 0.7515 \n",
       "\n",
       "\t Model:\n",
       "\t\t A ~  (Intercept) + W1 + W2 + W3 \n",
       "\n",
       "\t Coefficients: \n",
       "\t     (Intercept)   -0.1125226 \n",
       "\t              W1    0.6760319 \n",
       "\t              W2    0.4934346 \n",
       "\t              W3    0.6834868 \n",
       "\n",
       " Estimation of g.Z (intermediate variable assignment mechanism)\n",
       "\t Procedure: No intermediate variable \n",
       "\n",
       " Estimation of g.Delta (missingness mechanism)\n",
       "\t Procedure: No missingness, ensemble\n",
       "\n",
       " Bounds on g: (0.0573, 1) \n",
       "\n",
       " Bounds on g for ATT/ATE: (0.0573, 0.9427) \n",
       "\n",
       " Additive Effect\n",
       "   Parameter Estimate:  0.2767\n",
       "   Estimated Variance:  0.0051925\n",
       "              p-value:  0.0001231\n",
       "    95% Conf Interval: (0.13546, 0.41793) \n",
       "\n",
       " Additive Effect among the Treated\n",
       "   Parameter Estimate:  0.26757\n",
       "   Estimated Variance:  0.006075\n",
       "              p-value:  0.00059723\n",
       "    95% Conf Interval: (0.1148, 0.42033) \n",
       "\n",
       " Additive Effect among the Controls\n",
       "   Parameter Estimate:  0.26618\n",
       "   Estimated Variance:  0.0049746\n",
       "              p-value:  0.00016064\n",
       "    95% Conf Interval: (0.12794, 0.40442) \n",
       "\n",
       " Relative Risk\n",
       "   Parameter Estimate:  1.5533\n",
       "              p-value:  0.00037586\n",
       "    95% Conf Interval: (1.2186, 1.9799) \n",
       "\n",
       "              log(RR):  0.44036\n",
       "    variance(log(RR)):  0.015331 \n",
       "\n",
       " Odds Ratio\n",
       "   Parameter Estimate:  3.4789\n",
       "              p-value:  0.00037765\n",
       "    95% Conf Interval: (1.7496, 6.9174) \n",
       "\n",
       "              log(OR):  1.2467\n",
       "    variance(log(OR)):  0.12297 "
      ]
     },
     "metadata": {},
     "output_type": "display_data"
    }
   ],
   "source": [
    "result2 <- tmle(Y, A, W, family = \"binomial\", Qform = Y ~ A + W1 + W2 + W3, gform = A ~\n",
    "    W1 + W2 + W3)\n",
    "summary(result2)"
   ]
  },
  {
   "cell_type": "code",
   "execution_count": 6,
   "id": "bcb46aef",
   "metadata": {},
   "outputs": [],
   "source": [
    "Y <- W[, 1] + W[, 2]^2 + rnorm(n)\n",
    "Delta <- rbinom(n, 1, 1/(1 + exp(-(1.7 - 1 * W[, 1]))))"
   ]
  },
  {
   "cell_type": "code",
   "execution_count": 7,
   "id": "0d481652",
   "metadata": {},
   "outputs": [],
   "source": [
    "# result3 <- tmle(Y, A = NULL, W, Delta = Delta, Qform = \"Y~A+W1+W2+W3\")\n",
    "# print(result3)"
   ]
  },
  {
   "cell_type": "code",
   "execution_count": 8,
   "id": "28914d34",
   "metadata": {},
   "outputs": [],
   "source": [
    "A <- rbinom(n, 1, 0.5)\n",
    "Z <- rbinom(n, 1, plogis(0.5 * A + 0.1 * W[, 1]))\n",
    "Y <- 1 + A + 10 * Z + W[, 1] + rnorm(n)"
   ]
  },
  {
   "cell_type": "code",
   "execution_count": 9,
   "id": "aac273f6",
   "metadata": {},
   "outputs": [
    {
     "name": "stdout",
     "output_type": "stream",
     "text": [
      "Controlled Direct Effect\n",
      "           ----- Z = 0 -----\n",
      " Additive Effect\n",
      "   Parameter Estimate:  1.2868\n",
      "   Estimated Variance:  0.034427\n",
      "              p-value:  4.0558e-12\n",
      "    95% Conf Interval: (0.92313, 1.6505) \n",
      "\n",
      "           ----- Z = 1 -----\n",
      " Additive Effect\n",
      "   Parameter Estimate:  0.85656\n",
      "   Estimated Variance:  0.036668\n",
      "              p-value:  7.7083e-06\n",
      "    95% Conf Interval: (0.48124, 1.2319) \n",
      " Additive Effect\n",
      "   Parameter Estimate:  1.9721\n",
      "   Estimated Variance:  0.38986\n",
      "              p-value:  0.0015858\n",
      "    95% Conf Interval: (0.74833, 3.1959) \n",
      "\n",
      " Additive Effect among the Treated\n",
      "   Parameter Estimate:  2.0087\n",
      "   Estimated Variance:  0.38971\n",
      "              p-value:  0.0012926\n",
      "    95% Conf Interval: (0.78509, 3.2322) \n",
      "\n",
      " Additive Effect among the Controls\n",
      "   Parameter Estimate:  1.9363\n",
      "   Estimated Variance:  0.39127\n",
      "              p-value:  0.0019644\n",
      "    95% Conf Interval: (0.71031, 3.1623) \n"
     ]
    }
   ],
   "source": [
    "CDE <- tmle(Y, A, W, Z, gform = \"A~1\", g.Zform = \"Z ~ A + W1\")\n",
    "print(CDE)\n",
    "total.effect <- tmle(Y, A, W, gform = \"A~1\")\n",
    "print(total.effect)"
   ]
  },
  {
   "cell_type": "code",
   "execution_count": null,
   "id": "be4cb1a7",
   "metadata": {},
   "outputs": [],
   "source": []
  }
 ],
 "metadata": {
  "kernelspec": {
   "display_name": "R",
   "language": "R",
   "name": "ir"
  },
  "language_info": {
   "codemirror_mode": "r",
   "file_extension": ".r",
   "mimetype": "text/x-r-source",
   "name": "R",
   "pygments_lexer": "r",
   "version": "4.1.0"
  },
  "toc": {
   "base_numbering": 1,
   "nav_menu": {},
   "number_sections": true,
   "sideBar": true,
   "skip_h1_title": false,
   "title_cell": "Table of Contents",
   "title_sidebar": "Contents",
   "toc_cell": false,
   "toc_position": {},
   "toc_section_display": true,
   "toc_window_display": false
  },
  "varInspector": {
   "cols": {
    "lenName": 16,
    "lenType": 16,
    "lenVar": 40
   },
   "kernels_config": {
    "python": {
     "delete_cmd_postfix": "",
     "delete_cmd_prefix": "del ",
     "library": "var_list.py",
     "varRefreshCmd": "print(var_dic_list())"
    },
    "r": {
     "delete_cmd_postfix": ") ",
     "delete_cmd_prefix": "rm(",
     "library": "var_list.r",
     "varRefreshCmd": "cat(var_dic_list()) "
    }
   },
   "types_to_exclude": [
    "module",
    "function",
    "builtin_function_or_method",
    "instance",
    "_Feature"
   ],
   "window_display": false
  }
 },
 "nbformat": 4,
 "nbformat_minor": 5
}
