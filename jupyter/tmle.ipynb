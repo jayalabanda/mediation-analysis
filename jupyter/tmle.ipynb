{
 "cells": [
  {
   "cell_type": "code",
   "execution_count": null,
   "id": "408aed61",
   "metadata": {},
   "outputs": [],
   "source": [
    "library(tmle)"
   ]
  },
  {
   "cell_type": "code",
   "execution_count": null,
   "id": "eac247d1",
   "metadata": {},
   "outputs": [],
   "source": [
    "set.seed(1)\n",
    "n <- 250\n",
    "W <- matrix(rnorm(n * 3), ncol = 3)\n",
    "A <- rbinom(n, 1, 1/(1 + exp(-(0.2 * W[, 1] - 0.1 * W[, 2] + 0.4 * W[, 3]))))\n",
    "Y <- A + 2 * W[, 1] + W[, 3] + W[, 2]^2 + rnorm(n)"
   ]
  },
  {
   "cell_type": "code",
   "execution_count": null,
   "id": "d688fadb",
   "metadata": {},
   "outputs": [],
   "source": [
    "result1 <- tmle(Y, A, W)\n",
    "summary(result1)"
   ]
  },
  {
   "cell_type": "code",
   "execution_count": null,
   "id": "3c125a45",
   "metadata": {},
   "outputs": [],
   "source": [
    "n <- 250\n",
    "W <- matrix(rnorm(n * 3), ncol = 3)\n",
    "colnames(W) <- paste(\"W\", 1:3, sep = \"\")\n",
    "A <- rbinom(n, 1, plogis(0.6 * W[, 1] + 0.4 * W[, 2] + 0.5 * W[, 3]))\n",
    "Y <- rbinom(n, 1, plogis(A + 0.2 * W[, 1] + 0.1 * W[, 2] + 0.2 * W[, 3]^2))"
   ]
  },
  {
   "cell_type": "code",
   "execution_count": null,
   "id": "c3ae1ce5",
   "metadata": {},
   "outputs": [],
   "source": [
    "result2 <- tmle(Y, A, W, family = \"binomial\", Qform = Y ~ A + W1 + W2 + W3, gform = A ~\n",
    "    W1 + W2 + W3)\n",
    "summary(result2)"
   ]
  },
  {
   "cell_type": "code",
   "execution_count": null,
   "id": "bcb46aef",
   "metadata": {},
   "outputs": [],
   "source": [
    "Y <- W[, 1] + W[, 2]^2 + rnorm(n)\n",
    "Delta <- rbinom(n, 1, 1/(1 + exp(-(1.7 - 1 * W[, 1]))))"
   ]
  },
  {
   "cell_type": "code",
   "execution_count": null,
   "id": "0d481652",
   "metadata": {},
   "outputs": [],
   "source": [
    "# result3 <- tmle(Y, A = NULL, W, Delta = Delta, Qform = \"Y~A+W1+W2+W3\")\n",
    "# print(result3)"
   ]
  },
  {
   "cell_type": "code",
   "execution_count": null,
   "id": "28914d34",
   "metadata": {},
   "outputs": [],
   "source": [
    "A <- rbinom(n, 1, 0.5)\n",
    "Z <- rbinom(n, 1, plogis(0.5 * A + 0.1 * W[, 1]))\n",
    "Y <- 1 + A + 10 * Z + W[, 1] + rnorm(n)"
   ]
  },
  {
   "cell_type": "code",
   "execution_count": null,
   "id": "aac273f6",
   "metadata": {},
   "outputs": [],
   "source": [
    "CDE <- tmle(Y, A, W, Z, gform = \"A~1\", g.Zform = \"Z ~ A + W1\")\n",
    "print(CDE)\n",
    "total.effect <- tmle(Y, A, W, gform = \"A~1\")\n",
    "print(total.effect)"
   ]
  },
  {
   "cell_type": "code",
   "execution_count": null,
   "id": "be4cb1a7",
   "metadata": {},
   "outputs": [],
   "source": []
  }
 ],
 "metadata": {
  "kernelspec": {
   "display_name": "R",
   "language": "R",
   "name": "ir"
  },
  "language_info": {
   "codemirror_mode": "r",
   "file_extension": ".r",
   "mimetype": "text/x-r-source",
   "name": "R",
   "pygments_lexer": "r",
   "version": "4.1.1"
  },
  "toc": {
   "base_numbering": 1,
   "nav_menu": {},
   "number_sections": true,
   "sideBar": true,
   "skip_h1_title": false,
   "title_cell": "Table of Contents",
   "title_sidebar": "Contents",
   "toc_cell": false,
   "toc_position": {},
   "toc_section_display": true,
   "toc_window_display": false
  },
  "varInspector": {
   "cols": {
    "lenName": 16,
    "lenType": 16,
    "lenVar": 40
   },
   "kernels_config": {
    "python": {
     "delete_cmd_postfix": "",
     "delete_cmd_prefix": "del ",
     "library": "var_list.py",
     "varRefreshCmd": "print(var_dic_list())"
    },
    "r": {
     "delete_cmd_postfix": ") ",
     "delete_cmd_prefix": "rm(",
     "library": "var_list.r",
     "varRefreshCmd": "cat(var_dic_list()) "
    }
   },
   "types_to_exclude": [
    "module",
    "function",
    "builtin_function_or_method",
    "instance",
    "_Feature"
   ],
   "window_display": false
  }
 },
 "nbformat": 4,
 "nbformat_minor": 5
}
