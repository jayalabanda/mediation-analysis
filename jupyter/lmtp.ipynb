{
 "cells": [
  {
   "cell_type": "code",
   "execution_count": null,
   "id": "6cff5bd7",
   "metadata": {},
   "outputs": [],
   "source": [
    "library(lmtp)"
   ]
  },
  {
   "cell_type": "code",
   "execution_count": null,
   "id": "f8fc48dd",
   "metadata": {},
   "outputs": [],
   "source": [
    "set.seed(56)\n",
    "\n",
    "n <- 1000\n",
    "W <- rnorm(n, 10, 5)\n",
    "A <- 23 + 5 * W + rnorm(n)\n",
    "Y <- 7.2 * A + 3 * W + rnorm(n)"
   ]
  },
  {
   "cell_type": "code",
   "execution_count": null,
   "id": "ac2b04c8",
   "metadata": {},
   "outputs": [],
   "source": [
    "ex1_dat <- data.frame(W, A, Y)\n",
    "d <- function(data, x) data[[x]] - 5\n",
    "psi1.1 <- lmtp_tmle(ex1_dat, \"A\", \"Y\", \"W\", shift = d,\n",
    "                    outcome_type = \"continuous\", folds = 2)\n",
    "psi1.1"
   ]
  },
  {
   "cell_type": "code",
   "execution_count": null,
   "id": "62343c49",
   "metadata": {},
   "outputs": [],
   "source": [
    "d <- function(data, x) (data[[x]] > 80) * (data[[x]] - 15) + (data[[x]] <= 80) * data[[x]]\n",
    "psi1.2 <- lmtp_tmle(ex1_dat, \"A\", \"Y\", \"W\", shift = d,\n",
    "                   outcome_type = \"continuous\", folds = 2)\n",
    "psi1.2"
   ]
  },
  {
   "cell_type": "code",
   "execution_count": null,
   "id": "44c66aeb",
   "metadata": {},
   "outputs": [],
   "source": [
    "head(sim_t4)"
   ]
  },
  {
   "cell_type": "code",
   "execution_count": null,
   "id": "7b0b5deb",
   "metadata": {},
   "outputs": [],
   "source": [
    "a <- c(\"A_1\", \"A_2\", \"A_3\", \"A_4\")\n",
    "tv <- list(c(\"L_1\"), c(\"L_2\"), c(\"L_3\"), c(\"L_4\"))\n",
    "d <- function(data, trt) {\n",
    "    a <- data[[trt]]\n",
    "    (a - 1) * (a - 1 >= 1) + a * (a - 1 < 1)\n",
    "}\n",
    "\n",
    "progressr::with_progress({\n",
    "    psi2.1 <- lmtp_tmle(sim_t4, a, \"Y\", time_vary = tv,\n",
    "                        shift = d, folds = 2)\n",
    "})\n",
    "psi2.1"
   ]
  },
  {
   "cell_type": "code",
   "execution_count": null,
   "id": "0b787a7c",
   "metadata": {},
   "outputs": [],
   "source": [
    "progressr::with_progress({\n",
    "    psi2.2 <- lmtp_tmle(sim_t4, a, \"Y\", time_vary = tv,\n",
    "                       shift = d, folds = 2, k = 0)\n",
    "})\n",
    "psi2.2"
   ]
  },
  {
   "cell_type": "code",
   "execution_count": null,
   "id": "2d106a49",
   "metadata": {},
   "outputs": [],
   "source": [
    "a <- c(\"A_1\", \"A_2\", \"A_3\", \"A_4\")\n",
    "time_varying <- list(c(\"L_1\"), c(\"L_2\"), c(\"L_3\"), c(\"L_4\"))\n",
    "shift <- function(data, trt) {\n",
    "    (data[[trt]] - 1) * (data[[trt]] - 1 >= 1) + data[[trt]] * (data[[trt]] - 1 < 1)\n",
    "}\n",
    "dynamic_mtp <- function(data, trt) {\n",
    "    if (trt == \"A_1\") {\n",
    "        shift(data, trt)\n",
    "    } else {\n",
    "        ifelse(data[[sub(\"A\", \"L\", trt)]] == 1,\n",
    "               shift(data, trt),\n",
    "               data[[trt]])\n",
    "    }\n",
    "}\n",
    "psi2.3 <- lmtp_tmle(sim_t4, a, \"Y\", time_vary = time_varying,\n",
    "                    k = 0, shift = dynamic_mtp, folds = 2)\n",
    "psi2.3"
   ]
  },
  {
   "cell_type": "code",
   "execution_count": null,
   "id": "49fddab4",
   "metadata": {},
   "outputs": [],
   "source": [
    "for (i in a) {\n",
    "    sim_t4[[i]] <- factor(sim_t4[[i]], levels = 0:5, ordered = TRUE)\n",
    "}\n",
    "\n",
    "d <- function(data, trt) {\n",
    "    out <- list()\n",
    "    a <- data[[trt]]\n",
    "    for (i in 1:length(a)) {\n",
    "        if (as.character(a[i]) %in% c(\"0\", \"1\")) {\n",
    "            out[[i]] <- as.character(a[i])\n",
    "        } else {\n",
    "            out[[i]] <- as.numeric(as.character(a[i])) - 1\n",
    "        }\n",
    "    }\n",
    "    factor(unlist(out), levels = 0:5, ordered = TRUE)\n",
    "}\n",
    "\n",
    "progressr::with_progress({\n",
    "    psi2.4 <- lmtp_tmle(sim_t4, a, \"Y\", time_vary = tv,\n",
    "                        shift = d, k = 0, folds = 2)\n",
    "})\n",
    "psi2.4"
   ]
  },
  {
   "cell_type": "code",
   "execution_count": null,
   "id": "af6b7d91",
   "metadata": {},
   "outputs": [],
   "source": [
    "library(twang)\n",
    "data(iptwExWide)\n",
    "\n",
    "a <- paste0(\"tx\", 1:3)\n",
    "baseline <- c(\"gender\", \"age\")\n",
    "tv <- list(c(\"use0\"), c(\"use1\"), c(\"use2\"))\n",
    "progressr::with_progress({\n",
    "    psi3.1 <- lmtp_tmle(iptwExWide, a, \"outcome\", baseline = baseline, time_vary = tv,\n",
    "        shift = static_binary_on, outcome_type = \"continuous\", folds = 2)\n",
    "})\n",
    "psi3.1"
   ]
  },
  {
   "cell_type": "code",
   "execution_count": null,
   "id": "c1b5f3d0",
   "metadata": {},
   "outputs": [],
   "source": [
    "head(sim_cens)"
   ]
  },
  {
   "cell_type": "code",
   "execution_count": null,
   "id": "0dc735bf",
   "metadata": {},
   "outputs": [],
   "source": [
    "a <- c(\"A1\", \"A2\")\n",
    "tv <- list(c(\"L1\"), c(\"L2\"))\n",
    "cens <- c(\"C1\", \"C2\")\n",
    "y <- \"Y\"\n",
    "psi4.1 <- lmtp_tmle(sim_cens, a, y, time_vary = tv, cens = cens,\n",
    "                    shift = NULL, folds = 2)\n",
    "psi4.1"
   ]
  },
  {
   "cell_type": "code",
   "execution_count": null,
   "id": "d45ddfe8",
   "metadata": {},
   "outputs": [],
   "source": [
    "d <- function(data, x) data[[x]] + 0.5\n",
    "psi4.2 <- lmtp_tmle(sim_cens, a, y, time_vary = tv, cens = cens,\n",
    "                    shift = d, folds = 2)\n",
    "psi4.2"
   ]
  },
  {
   "cell_type": "code",
   "execution_count": null,
   "id": "9bcf3f68",
   "metadata": {},
   "outputs": [],
   "source": [
    "a <- \"trt\"\n",
    "y <- paste0(\"Y.\", 1:6)\n",
    "cens <- paste0(\"C.\", 0:5)\n",
    "baseline <- c(\"W1\", \"W2\")\n",
    "progressr::with_progress({\n",
    "    psi5.1 <- lmtp_tmle(sim_point_surv, a, y, baseline, cens = cens,\n",
    "                        shift = static_binary_on, folds = 2,\n",
    "                        outcome_type = \"survival\")\n",
    "})\n",
    "psi5.1"
   ]
  },
  {
   "cell_type": "code",
   "execution_count": null,
   "id": "70485102",
   "metadata": {},
   "outputs": [],
   "source": []
  },
  {
   "cell_type": "code",
   "execution_count": null,
   "id": "25defe73",
   "metadata": {},
   "outputs": [],
   "source": [
    "baseline <- c(\"W_1\", \"W_2\")\n",
    "trt <- c(\"A_1\", \"A_2\")\n",
    "time_vary <- list(c(\"L_11\", \"L_12\"), \n",
    "                  c(\"L_21\", \"L_22\"))\n",
    "create_node_list(trt = trt, baseline = baseline, time_vary = time_vary, tau = 2)"
   ]
  },
  {
   "cell_type": "code",
   "execution_count": null,
   "id": "a9f55654",
   "metadata": {},
   "outputs": [],
   "source": [
    "shift <- function(data, trt) {\n",
    "  (data[[trt]] - 1) * (data[[trt]] - 1 >= 1) + data[[trt]] * (data[[trt]] - 1 < 1)\n",
    "}"
   ]
  },
  {
   "cell_type": "code",
   "execution_count": null,
   "id": "f55ca514",
   "metadata": {},
   "outputs": [],
   "source": [
    "A <- c(\"A_1\", \"A_2\", \"A_3\", \"A_4\")\n",
    "L <- list(c(\"L_1\"), c(\"L_2\"), c(\"L_3\"), c(\"L_4\"))\n",
    "lmtp_sdr(sim_t4, A, \"Y\", time_vary = L, k = 0, shift = shift, folds = 5)"
   ]
  },
  {
   "cell_type": "code",
   "execution_count": null,
   "id": "f5431afb",
   "metadata": {},
   "outputs": [],
   "source": []
  }
 ],
 "metadata": {
  "kernelspec": {
   "display_name": "R",
   "language": "R",
   "name": "ir"
  },
  "language_info": {
   "codemirror_mode": "r",
   "file_extension": ".r",
   "mimetype": "text/x-r-source",
   "name": "R",
   "pygments_lexer": "r",
   "version": "4.1.1"
  },
  "toc": {
   "base_numbering": 1,
   "nav_menu": {},
   "number_sections": true,
   "sideBar": true,
   "skip_h1_title": false,
   "title_cell": "Table of Contents",
   "title_sidebar": "Contents",
   "toc_cell": false,
   "toc_position": {},
   "toc_section_display": true,
   "toc_window_display": false
  },
  "varInspector": {
   "cols": {
    "lenName": 16,
    "lenType": 16,
    "lenVar": 40
   },
   "kernels_config": {
    "python": {
     "delete_cmd_postfix": "",
     "delete_cmd_prefix": "del ",
     "library": "var_list.py",
     "varRefreshCmd": "print(var_dic_list())"
    },
    "r": {
     "delete_cmd_postfix": ") ",
     "delete_cmd_prefix": "rm(",
     "library": "var_list.r",
     "varRefreshCmd": "cat(var_dic_list()) "
    }
   },
   "types_to_exclude": [
    "module",
    "function",
    "builtin_function_or_method",
    "instance",
    "_Feature"
   ],
   "window_display": false
  }
 },
 "nbformat": 4,
 "nbformat_minor": 5
}
