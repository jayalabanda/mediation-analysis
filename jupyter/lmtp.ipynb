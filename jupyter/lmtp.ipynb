{
 "cells": [
  {
   "cell_type": "code",
   "execution_count": 1,
   "id": "6cff5bd7",
   "metadata": {},
   "outputs": [
    {
     "name": "stderr",
     "output_type": "stream",
     "text": [
      "Major changes in lmtp 0.9.0. Consult NEWS.md for more information.\n",
      "\n"
     ]
    }
   ],
   "source": [
    "library(lmtp)"
   ]
  },
  {
   "cell_type": "code",
   "execution_count": 2,
   "id": "f8fc48dd",
   "metadata": {},
   "outputs": [],
   "source": [
    "set.seed(56)\n",
    "\n",
    "n <- 1000\n",
    "W <- rnorm(n, 10, 5)\n",
    "A <- 23 + 5 * W + rnorm(n)\n",
    "Y <- 7.2 * A + 3 * W + rnorm(n)"
   ]
  },
  {
   "cell_type": "code",
   "execution_count": 3,
   "id": "ac2b04c8",
   "metadata": {},
   "outputs": [
    {
     "name": "stderr",
     "output_type": "stream",
     "text": [
      "Loading required package: nnls\n",
      "\n",
      "Warning message:\n",
      "\"glm.fit: fitted probabilities numerically 0 or 1 occurred\"\n",
      "Warning message:\n",
      "\"glm.fit: fitted probabilities numerically 0 or 1 occurred\"\n",
      "Warning message:\n",
      "\"glm.fit: fitted probabilities numerically 0 or 1 occurred\"\n",
      "Warning message:\n",
      "\"glm.fit: fitted probabilities numerically 0 or 1 occurred\"\n",
      "Warning message:\n",
      "\"glm.fit: fitted probabilities numerically 0 or 1 occurred\"\n",
      "Warning message:\n",
      "\"glm.fit: algorithm did not converge\"\n",
      "Warning message:\n",
      "\"glm.fit: fitted probabilities numerically 0 or 1 occurred\"\n",
      "Warning message:\n",
      "\"glm.fit: fitted probabilities numerically 0 or 1 occurred\"\n",
      "Warning message:\n",
      "\"glm.fit: fitted probabilities numerically 0 or 1 occurred\"\n",
      "Warning message:\n",
      "\"glm.fit: fitted probabilities numerically 0 or 1 occurred\"\n",
      "Warning message:\n",
      "\"glm.fit: fitted probabilities numerically 0 or 1 occurred\"\n",
      "Warning message:\n",
      "\"glm.fit: fitted probabilities numerically 0 or 1 occurred\"\n",
      "Warning message:\n",
      "\"glm.fit: fitted probabilities numerically 0 or 1 occurred\"\n",
      "Warning message:\n",
      "\"glm.fit: fitted probabilities numerically 0 or 1 occurred\"\n",
      "\u001b[1m\u001b[1mLMTP Estimator\u001b[1m\u001b[22m: TMLE\n",
      "\n",
      "\u001b[1m\u001b[1mTrt. Policy\u001b[1m\u001b[22m: \u001b[34m\u001b[3m(d)\u001b[23m\u001b[39m\n",
      "\n",
      "\u001b[1m\u001b[1mPopulation intervention effect\u001b[1m\u001b[22m\n",
      "\n",
      "\u001b[1m\u001b[1mEstimate\u001b[1m\u001b[22m: 514.2609\n",
      "\n",
      "\u001b[1m\u001b[1mStd. error\u001b[1m\u001b[22m: 2221.4205\n",
      "\n",
      "\u001b[1m\u001b[1m95% CI\u001b[1m\u001b[22m: (-3839.6434, 4868.1652)\n",
      "\n"
     ]
    },
    {
     "data": {
      "text/plain": [
       "\n",
       "   \n",
       "                  "
      ]
     },
     "metadata": {},
     "output_type": "display_data"
    }
   ],
   "source": [
    "ex1_dat <- data.frame(W, A, Y)\n",
    "d <- function(data, x) data[[x]] - 5\n",
    "psi1.1 <- lmtp_tmle(ex1_dat, \"A\", \"Y\", \"W\", shift = d,\n",
    "                    outcome_type = \"continuous\", folds = 2)\n",
    "psi1.1"
   ]
  },
  {
   "cell_type": "code",
   "execution_count": 4,
   "id": "62343c49",
   "metadata": {},
   "outputs": [
    {
     "name": "stderr",
     "output_type": "stream",
     "text": [
      "\u001b[1m\u001b[1mLMTP Estimator\u001b[1m\u001b[22m: TMLE\n",
      "\n",
      "\u001b[1m\u001b[1mTrt. Policy\u001b[1m\u001b[22m: \u001b[34m\u001b[3m(d)\u001b[23m\u001b[39m\n",
      "\n",
      "\u001b[1m\u001b[1mPopulation intervention effect\u001b[1m\u001b[22m\n",
      "\n",
      "\u001b[1m\u001b[1mEstimate\u001b[1m\u001b[22m: 507.7651\n",
      "\n",
      "\u001b[1m\u001b[1mStd. error\u001b[1m\u001b[22m: 4.8914\n",
      "\n",
      "\u001b[1m\u001b[1m95% CI\u001b[1m\u001b[22m: (498.1782, 517.352)\n",
      "\n"
     ]
    },
    {
     "data": {
      "text/plain": [
       "\n",
       "   \n",
       "                  "
      ]
     },
     "metadata": {},
     "output_type": "display_data"
    }
   ],
   "source": [
    "d <- function(data, x) (data[[x]] > 80) * (data[[x]] - 15) + (data[[x]] <= 80) * data[[x]]\n",
    "psi1.2 <- lmtp_tmle(ex1_dat, \"A\", \"Y\", \"W\", shift = d,\n",
    "                   outcome_type = \"continuous\", folds = 2)\n",
    "psi1.2"
   ]
  },
  {
   "cell_type": "code",
   "execution_count": 5,
   "id": "44c66aeb",
   "metadata": {},
   "outputs": [
    {
     "data": {
      "text/html": [
       "<table class=\"dataframe\">\n",
       "<caption>A data.frame: 6 × 10</caption>\n",
       "<thead>\n",
       "\t<tr><th></th><th scope=col>ID</th><th scope=col>L_1</th><th scope=col>A_1</th><th scope=col>L_2</th><th scope=col>A_2</th><th scope=col>L_3</th><th scope=col>A_3</th><th scope=col>L_4</th><th scope=col>A_4</th><th scope=col>Y</th></tr>\n",
       "\t<tr><th></th><th scope=col>&lt;int&gt;</th><th scope=col>&lt;int&gt;</th><th scope=col>&lt;int&gt;</th><th scope=col>&lt;int&gt;</th><th scope=col>&lt;int&gt;</th><th scope=col>&lt;int&gt;</th><th scope=col>&lt;int&gt;</th><th scope=col>&lt;int&gt;</th><th scope=col>&lt;int&gt;</th><th scope=col>&lt;int&gt;</th></tr>\n",
       "</thead>\n",
       "<tbody>\n",
       "\t<tr><th scope=row>1</th><td>1</td><td>2</td><td>3</td><td>0</td><td>1</td><td>1</td><td>1</td><td>1</td><td>3</td><td>0</td></tr>\n",
       "\t<tr><th scope=row>2</th><td>2</td><td>2</td><td>1</td><td>1</td><td>4</td><td>0</td><td>3</td><td>1</td><td>2</td><td>0</td></tr>\n",
       "\t<tr><th scope=row>3</th><td>3</td><td>1</td><td>0</td><td>1</td><td>3</td><td>1</td><td>2</td><td>1</td><td>1</td><td>1</td></tr>\n",
       "\t<tr><th scope=row>4</th><td>4</td><td>1</td><td>0</td><td>0</td><td>3</td><td>1</td><td>3</td><td>1</td><td>2</td><td>0</td></tr>\n",
       "\t<tr><th scope=row>5</th><td>5</td><td>3</td><td>3</td><td>1</td><td>1</td><td>0</td><td>1</td><td>1</td><td>2</td><td>0</td></tr>\n",
       "\t<tr><th scope=row>6</th><td>6</td><td>1</td><td>0</td><td>0</td><td>2</td><td>0</td><td>3</td><td>1</td><td>4</td><td>0</td></tr>\n",
       "</tbody>\n",
       "</table>\n"
      ],
      "text/latex": [
       "A data.frame: 6 × 10\n",
       "\\begin{tabular}{r|llllllllll}\n",
       "  & ID & L\\_1 & A\\_1 & L\\_2 & A\\_2 & L\\_3 & A\\_3 & L\\_4 & A\\_4 & Y\\\\\n",
       "  & <int> & <int> & <int> & <int> & <int> & <int> & <int> & <int> & <int> & <int>\\\\\n",
       "\\hline\n",
       "\t1 & 1 & 2 & 3 & 0 & 1 & 1 & 1 & 1 & 3 & 0\\\\\n",
       "\t2 & 2 & 2 & 1 & 1 & 4 & 0 & 3 & 1 & 2 & 0\\\\\n",
       "\t3 & 3 & 1 & 0 & 1 & 3 & 1 & 2 & 1 & 1 & 1\\\\\n",
       "\t4 & 4 & 1 & 0 & 0 & 3 & 1 & 3 & 1 & 2 & 0\\\\\n",
       "\t5 & 5 & 3 & 3 & 1 & 1 & 0 & 1 & 1 & 2 & 0\\\\\n",
       "\t6 & 6 & 1 & 0 & 0 & 2 & 0 & 3 & 1 & 4 & 0\\\\\n",
       "\\end{tabular}\n"
      ],
      "text/markdown": [
       "\n",
       "A data.frame: 6 × 10\n",
       "\n",
       "| <!--/--> | ID &lt;int&gt; | L_1 &lt;int&gt; | A_1 &lt;int&gt; | L_2 &lt;int&gt; | A_2 &lt;int&gt; | L_3 &lt;int&gt; | A_3 &lt;int&gt; | L_4 &lt;int&gt; | A_4 &lt;int&gt; | Y &lt;int&gt; |\n",
       "|---|---|---|---|---|---|---|---|---|---|---|\n",
       "| 1 | 1 | 2 | 3 | 0 | 1 | 1 | 1 | 1 | 3 | 0 |\n",
       "| 2 | 2 | 2 | 1 | 1 | 4 | 0 | 3 | 1 | 2 | 0 |\n",
       "| 3 | 3 | 1 | 0 | 1 | 3 | 1 | 2 | 1 | 1 | 1 |\n",
       "| 4 | 4 | 1 | 0 | 0 | 3 | 1 | 3 | 1 | 2 | 0 |\n",
       "| 5 | 5 | 3 | 3 | 1 | 1 | 0 | 1 | 1 | 2 | 0 |\n",
       "| 6 | 6 | 1 | 0 | 0 | 2 | 0 | 3 | 1 | 4 | 0 |\n",
       "\n"
      ],
      "text/plain": [
       "  ID L_1 A_1 L_2 A_2 L_3 A_3 L_4 A_4 Y\n",
       "1 1  2   3   0   1   1   1   1   3   0\n",
       "2 2  2   1   1   4   0   3   1   2   0\n",
       "3 3  1   0   1   3   1   2   1   1   1\n",
       "4 4  1   0   0   3   1   3   1   2   0\n",
       "5 5  3   3   1   1   0   1   1   2   0\n",
       "6 6  1   0   0   2   0   3   1   4   0"
      ]
     },
     "metadata": {},
     "output_type": "display_data"
    }
   ],
   "source": [
    "head(sim_t4)"
   ]
  },
  {
   "cell_type": "code",
   "execution_count": 6,
   "id": "7b0b5deb",
   "metadata": {},
   "outputs": [
    {
     "name": "stderr",
     "output_type": "stream",
     "text": [
      "\u001b[1m\u001b[1mLMTP Estimator\u001b[1m\u001b[22m: TMLE\n",
      "\n",
      "\u001b[1m\u001b[1mTrt. Policy\u001b[1m\u001b[22m: \u001b[34m\u001b[3m(d)\u001b[23m\u001b[39m\n",
      "\n",
      "\u001b[1m\u001b[1mPopulation intervention effect\u001b[1m\u001b[22m\n",
      "\n",
      "\u001b[1m\u001b[1mEstimate\u001b[1m\u001b[22m: 0.2646\n",
      "\n",
      "\u001b[1m\u001b[1mStd. error\u001b[1m\u001b[22m: 0.0173\n",
      "\n",
      "\u001b[1m\u001b[1m95% CI\u001b[1m\u001b[22m: (0.2308, 0.2984)\n",
      "\n"
     ]
    },
    {
     "data": {
      "text/plain": [
       "\n",
       "   \n",
       "                  "
      ]
     },
     "metadata": {},
     "output_type": "display_data"
    }
   ],
   "source": [
    "a <- c(\"A_1\", \"A_2\", \"A_3\", \"A_4\")\n",
    "tv <- list(c(\"L_1\"), c(\"L_2\"), c(\"L_3\"), c(\"L_4\"))\n",
    "d <- function(data, trt) {\n",
    "    a <- data[[trt]]\n",
    "    (a - 1) * (a - 1 >= 1) + a * (a - 1 < 1)\n",
    "}\n",
    "\n",
    "progressr::with_progress({\n",
    "    psi2.1 <- lmtp_tmle(sim_t4, a, \"Y\", time_vary = tv,\n",
    "                        shift = d, folds = 2)\n",
    "})\n",
    "psi2.1"
   ]
  },
  {
   "cell_type": "code",
   "execution_count": 7,
   "id": "0b787a7c",
   "metadata": {},
   "outputs": [
    {
     "name": "stderr",
     "output_type": "stream",
     "text": [
      "\u001b[1m\u001b[1mLMTP Estimator\u001b[1m\u001b[22m: TMLE\n",
      "\n",
      "\u001b[1m\u001b[1mTrt. Policy\u001b[1m\u001b[22m: \u001b[34m\u001b[3m(d)\u001b[23m\u001b[39m\n",
      "\n",
      "\u001b[1m\u001b[1mPopulation intervention effect\u001b[1m\u001b[22m\n",
      "\n",
      "\u001b[1m\u001b[1mEstimate\u001b[1m\u001b[22m: 0.2626\n",
      "\n",
      "\u001b[1m\u001b[1mStd. error\u001b[1m\u001b[22m: 0.0179\n",
      "\n",
      "\u001b[1m\u001b[1m95% CI\u001b[1m\u001b[22m: (0.2275, 0.2977)\n",
      "\n"
     ]
    },
    {
     "data": {
      "text/plain": [
       "\n",
       "   \n",
       "                  "
      ]
     },
     "metadata": {},
     "output_type": "display_data"
    }
   ],
   "source": [
    "progressr::with_progress({\n",
    "    psi2.2 <- lmtp_tmle(sim_t4, a, \"Y\", time_vary = tv,\n",
    "                       shift = d, folds = 2, k = 0)\n",
    "})\n",
    "psi2.2"
   ]
  },
  {
   "cell_type": "code",
   "execution_count": 8,
   "id": "2d106a49",
   "metadata": {},
   "outputs": [
    {
     "name": "stderr",
     "output_type": "stream",
     "text": [
      "\u001b[1m\u001b[1mLMTP Estimator\u001b[1m\u001b[22m: TMLE\n",
      "\n",
      "\u001b[1m\u001b[1mTrt. Policy\u001b[1m\u001b[22m: \u001b[34m\u001b[3m(dynamic_mtp)\u001b[23m\u001b[39m\n",
      "\n",
      "\u001b[1m\u001b[1mPopulation intervention effect\u001b[1m\u001b[22m\n",
      "\n",
      "\u001b[1m\u001b[1mEstimate\u001b[1m\u001b[22m: 0.2367\n",
      "\n",
      "\u001b[1m\u001b[1mStd. error\u001b[1m\u001b[22m: 0.0114\n",
      "\n",
      "\u001b[1m\u001b[1m95% CI\u001b[1m\u001b[22m: (0.2144, 0.259)\n",
      "\n"
     ]
    },
    {
     "data": {
      "text/plain": [
       "\n",
       "   \n",
       "                  "
      ]
     },
     "metadata": {},
     "output_type": "display_data"
    }
   ],
   "source": [
    "a <- c(\"A_1\", \"A_2\", \"A_3\", \"A_4\")\n",
    "time_varying <- list(c(\"L_1\"), c(\"L_2\"), c(\"L_3\"), c(\"L_4\"))\n",
    "shift <- function(data, trt) {\n",
    "    (data[[trt]] - 1) * (data[[trt]] - 1 >= 1) + data[[trt]] * (data[[trt]] - 1 < 1)\n",
    "}\n",
    "dynamic_mtp <- function(data, trt) {\n",
    "    if (trt == \"A_1\") {\n",
    "        shift(data, trt)\n",
    "    } else {\n",
    "        ifelse(data[[sub(\"A\", \"L\", trt)]] == 1,\n",
    "               shift(data, trt),\n",
    "               data[[trt]])\n",
    "    }\n",
    "}\n",
    "psi2.3 <- lmtp_tmle(sim_t4, a, \"Y\", time_vary = time_varying,\n",
    "                    k = 0, shift = dynamic_mtp, folds = 2)\n",
    "psi2.3"
   ]
  },
  {
   "cell_type": "code",
   "execution_count": 9,
   "id": "49fddab4",
   "metadata": {},
   "outputs": [
    {
     "name": "stderr",
     "output_type": "stream",
     "text": [
      "Warning message:\n",
      "\"Some of your variables appear to be factors. Make sure your SuperLearner library is capable of handling factors!\"\n",
      "\u001b[1m\u001b[1mLMTP Estimator\u001b[1m\u001b[22m: TMLE\n",
      "\n",
      "\u001b[1m\u001b[1mTrt. Policy\u001b[1m\u001b[22m: \u001b[34m\u001b[3m(d)\u001b[23m\u001b[39m\n",
      "\n",
      "\u001b[1m\u001b[1mPopulation intervention effect\u001b[1m\u001b[22m\n",
      "\n",
      "\u001b[1m\u001b[1mEstimate\u001b[1m\u001b[22m: 0.3026\n",
      "\n",
      "\u001b[1m\u001b[1mStd. error\u001b[1m\u001b[22m: 0.0183\n",
      "\n",
      "\u001b[1m\u001b[1m95% CI\u001b[1m\u001b[22m: (0.2667, 0.3384)\n",
      "\n"
     ]
    },
    {
     "data": {
      "text/plain": [
       "\n",
       "   \n",
       "                  "
      ]
     },
     "metadata": {},
     "output_type": "display_data"
    }
   ],
   "source": [
    "for (i in a) {\n",
    "    sim_t4[[i]] <- factor(sim_t4[[i]], levels = 0:5, ordered = TRUE)\n",
    "}\n",
    "\n",
    "d <- function(data, trt) {\n",
    "    out <- list()\n",
    "    a <- data[[trt]]\n",
    "    for (i in 1:length(a)) {\n",
    "        if (as.character(a[i]) %in% c(\"0\", \"1\")) {\n",
    "            out[[i]] <- as.character(a[i])\n",
    "        } else {\n",
    "            out[[i]] <- as.numeric(as.character(a[i])) - 1\n",
    "        }\n",
    "    }\n",
    "    factor(unlist(out), levels = 0:5, ordered = TRUE)\n",
    "}\n",
    "\n",
    "progressr::with_progress({\n",
    "    psi2.4 <- lmtp_tmle(sim_t4, a, \"Y\", time_vary = tv,\n",
    "                        shift = d, k = 0, folds = 2)\n",
    "})\n",
    "psi2.4"
   ]
  },
  {
   "cell_type": "code",
   "execution_count": 10,
   "id": "af6b7d91",
   "metadata": {},
   "outputs": [
    {
     "name": "stderr",
     "output_type": "stream",
     "text": [
      "To reproduce results from prior versions of the twang package, please see the version=\"legacy\" option described in the documentation.\n",
      "\n",
      "Warning message in predict.lm(object, newdata, se.fit, scale = 1, type = if (type == :\n",
      "\"prediction from a rank-deficient fit may be misleading\"\n",
      "Warning message in predict.lm(object, newdata, se.fit, scale = 1, type = if (type == :\n",
      "\"prediction from a rank-deficient fit may be misleading\"\n",
      "Warning message in predict.lm(object, newdata, se.fit, scale = 1, type = if (type == :\n",
      "\"prediction from a rank-deficient fit may be misleading\"\n",
      "Warning message in predict.lm(object, newdata, se.fit, scale = 1, type = if (type == :\n",
      "\"prediction from a rank-deficient fit may be misleading\"\n",
      "Warning message in predict.lm(object, newdata, se.fit, scale = 1, type = if (type == :\n",
      "\"prediction from a rank-deficient fit may be misleading\"\n",
      "Warning message in predict.lm(object, newdata, se.fit, scale = 1, type = if (type == :\n",
      "\"prediction from a rank-deficient fit may be misleading\"\n",
      "Warning message in predict.lm(object, newdata, se.fit, scale = 1, type = if (type == :\n",
      "\"prediction from a rank-deficient fit may be misleading\"\n",
      "Warning message in predict.lm(object, newdata, se.fit, scale = 1, type = if (type == :\n",
      "\"prediction from a rank-deficient fit may be misleading\"\n",
      "Warning message in predict.lm(object, newdata, se.fit, scale = 1, type = if (type == :\n",
      "\"prediction from a rank-deficient fit may be misleading\"\n",
      "Warning message in predict.lm(object, newdata, se.fit, scale = 1, type = if (type == :\n",
      "\"prediction from a rank-deficient fit may be misleading\"\n",
      "Warning message in predict.lm(object, newdata, se.fit, scale = 1, type = if (type == :\n",
      "\"prediction from a rank-deficient fit may be misleading\"\n",
      "Warning message in predict.lm(object, newdata, se.fit, scale = 1, type = if (type == :\n",
      "\"prediction from a rank-deficient fit may be misleading\"\n",
      "Warning message in predict.lm(object, newdata, se.fit, scale = 1, type = if (type == :\n",
      "\"prediction from a rank-deficient fit may be misleading\"\n",
      "Warning message in predict.lm(object, newdata, se.fit, scale = 1, type = if (type == :\n",
      "\"prediction from a rank-deficient fit may be misleading\"\n",
      "Warning message in predict.lm(object, newdata, se.fit, scale = 1, type = if (type == :\n",
      "\"prediction from a rank-deficient fit may be misleading\"\n",
      "Warning message in predict.lm(object, newdata, se.fit, scale = 1, type = if (type == :\n",
      "\"prediction from a rank-deficient fit may be misleading\"\n",
      "Warning message in predict.lm(object, newdata, se.fit, scale = 1, type = if (type == :\n",
      "\"prediction from a rank-deficient fit may be misleading\"\n",
      "Warning message in predict.lm(object, newdata, se.fit, scale = 1, type = if (type == :\n",
      "\"prediction from a rank-deficient fit may be misleading\"\n",
      "Warning message in predict.lm(object, newdata, se.fit, scale = 1, type = if (type == :\n",
      "\"prediction from a rank-deficient fit may be misleading\"\n",
      "Warning message in predict.lm(object, newdata, se.fit, scale = 1, type = if (type == :\n",
      "\"prediction from a rank-deficient fit may be misleading\"\n",
      "Warning message in predict.lm(object, newdata, se.fit, scale = 1, type = if (type == :\n",
      "\"prediction from a rank-deficient fit may be misleading\"\n",
      "Warning message in predict.lm(object, newdata, se.fit, scale = 1, type = if (type == :\n",
      "\"prediction from a rank-deficient fit may be misleading\"\n",
      "Warning message in predict.lm(object, newdata, se.fit, scale = 1, type = if (type == :\n",
      "\"prediction from a rank-deficient fit may be misleading\"\n",
      "Warning message in predict.lm(object, newdata, se.fit, scale = 1, type = if (type == :\n",
      "\"prediction from a rank-deficient fit may be misleading\"\n",
      "Warning message in predict.lm(object, newdata, se.fit, scale = 1, type = if (type == :\n",
      "\"prediction from a rank-deficient fit may be misleading\"\n",
      "Warning message in predict.lm(object, newdata, se.fit, scale = 1, type = if (type == :\n",
      "\"prediction from a rank-deficient fit may be misleading\"\n",
      "Warning message in predict.lm(object, newdata, se.fit, scale = 1, type = if (type == :\n",
      "\"prediction from a rank-deficient fit may be misleading\"\n",
      "Warning message in predict.lm(object, newdata, se.fit, scale = 1, type = if (type == :\n",
      "\"prediction from a rank-deficient fit may be misleading\"\n",
      "Warning message in predict.lm(object, newdata, se.fit, scale = 1, type = if (type == :\n",
      "\"prediction from a rank-deficient fit may be misleading\"\n",
      "Warning message in predict.lm(object, newdata, se.fit, scale = 1, type = if (type == :\n",
      "\"prediction from a rank-deficient fit may be misleading\"\n",
      "Warning message in predict.lm(object, newdata, se.fit, scale = 1, type = if (type == :\n",
      "\"prediction from a rank-deficient fit may be misleading\"\n",
      "Warning message in predict.lm(object, newdata, se.fit, scale = 1, type = if (type == :\n",
      "\"prediction from a rank-deficient fit may be misleading\"\n",
      "Warning message in predict.lm(object, newdata, se.fit, scale = 1, type = if (type == :\n",
      "\"prediction from a rank-deficient fit may be misleading\"\n",
      "Warning message in predict.lm(object, newdata, se.fit, scale = 1, type = if (type == :\n",
      "\"prediction from a rank-deficient fit may be misleading\"\n",
      "Warning message in predict.lm(object, newdata, se.fit, scale = 1, type = if (type == :\n",
      "\"prediction from a rank-deficient fit may be misleading\"\n",
      "Warning message in predict.lm(object, newdata, se.fit, scale = 1, type = if (type == :\n",
      "\"prediction from a rank-deficient fit may be misleading\"\n",
      "Warning message in predict.lm(object, newdata, se.fit, scale = 1, type = if (type == :\n",
      "\"prediction from a rank-deficient fit may be misleading\"\n",
      "Warning message in predict.lm(object, newdata, se.fit, scale = 1, type = if (type == :\n",
      "\"prediction from a rank-deficient fit may be misleading\"\n",
      "Warning message in predict.lm(object, newdata, se.fit, scale = 1, type = if (type == :\n",
      "\"prediction from a rank-deficient fit may be misleading\"\n",
      "Warning message in predict.lm(object, newdata, se.fit, scale = 1, type = if (type == :\n",
      "\"prediction from a rank-deficient fit may be misleading\"\n",
      "Warning message in predict.lm(object, newdata, se.fit, scale = 1, type = if (type == :\n",
      "\"prediction from a rank-deficient fit may be misleading\"\n",
      "Warning message in predict.lm(object, newdata, se.fit, scale = 1, type = if (type == :\n",
      "\"prediction from a rank-deficient fit may be misleading\"\n",
      "Warning message in predict.lm(object, newdata, se.fit, scale = 1, type = if (type == :\n",
      "\"prediction from a rank-deficient fit may be misleading\"\n",
      "Warning message in predict.lm(object, newdata, se.fit, scale = 1, type = if (type == :\n",
      "\"prediction from a rank-deficient fit may be misleading\"\n",
      "Warning message in predict.lm(object, newdata, se.fit, scale = 1, type = if (type == :\n",
      "\"prediction from a rank-deficient fit may be misleading\"\n",
      "Warning message in predict.lm(object, newdata, se.fit, scale = 1, type = if (type == :\n",
      "\"prediction from a rank-deficient fit may be misleading\"\n",
      "Warning message in predict.lm(object, newdata, se.fit, scale = 1, type = if (type == :\n",
      "\"prediction from a rank-deficient fit may be misleading\"\n",
      "Warning message in predict.lm(object, newdata, se.fit, scale = 1, type = if (type == :\n",
      "\"prediction from a rank-deficient fit may be misleading\"\n",
      "Warning message in predict.lm(object, newdata, se.fit, scale = 1, type = if (type == :\n",
      "\"prediction from a rank-deficient fit may be misleading\"\n",
      "Warning message in predict.lm(object, newdata, se.fit, scale = 1, type = if (type == :\n",
      "\"prediction from a rank-deficient fit may be misleading\"\n",
      "Warning message in predict.lm(object, newdata, se.fit, scale = 1, type = if (type == :\n",
      "\"prediction from a rank-deficient fit may be misleading\"\n",
      "Warning message in predict.lm(object, newdata, se.fit, scale = 1, type = if (type == :\n",
      "\"prediction from a rank-deficient fit may be misleading\"\n",
      "Warning message in predict.lm(object, newdata, se.fit, scale = 1, type = if (type == :\n",
      "\"prediction from a rank-deficient fit may be misleading\"\n",
      "Warning message in predict.lm(object, newdata, se.fit, scale = 1, type = if (type == :\n",
      "\"prediction from a rank-deficient fit may be misleading\"\n",
      "Warning message in predict.lm(object, newdata, se.fit, scale = 1, type = if (type == :\n",
      "\"prediction from a rank-deficient fit may be misleading\"\n",
      "Warning message in predict.lm(object, newdata, se.fit, scale = 1, type = if (type == :\n",
      "\"prediction from a rank-deficient fit may be misleading\"\n"
     ]
    },
    {
     "name": "stderr",
     "output_type": "stream",
     "text": [
      "Warning message in predict.lm(object, newdata, se.fit, scale = 1, type = if (type == :\n",
      "\"prediction from a rank-deficient fit may be misleading\"\n",
      "Warning message in predict.lm(object, newdata, se.fit, scale = 1, type = if (type == :\n",
      "\"prediction from a rank-deficient fit may be misleading\"\n",
      "Warning message in predict.lm(object, newdata, se.fit, scale = 1, type = if (type == :\n",
      "\"prediction from a rank-deficient fit may be misleading\"\n",
      "Warning message in predict.lm(object, newdata, se.fit, scale = 1, type = if (type == :\n",
      "\"prediction from a rank-deficient fit may be misleading\"\n",
      "Warning message in predict.lm(object, newdata, se.fit, scale = 1, type = if (type == :\n",
      "\"prediction from a rank-deficient fit may be misleading\"\n",
      "Warning message in predict.lm(object, newdata, se.fit, scale = 1, type = if (type == :\n",
      "\"prediction from a rank-deficient fit may be misleading\"\n",
      "Warning message in predict.lm(object, newdata, se.fit, scale = 1, type = if (type == :\n",
      "\"prediction from a rank-deficient fit may be misleading\"\n",
      "Warning message in predict.lm(object, newdata, se.fit, scale = 1, type = if (type == :\n",
      "\"prediction from a rank-deficient fit may be misleading\"\n",
      "Warning message in predict.lm(object, newdata, se.fit, scale = 1, type = if (type == :\n",
      "\"prediction from a rank-deficient fit may be misleading\"\n",
      "Warning message in predict.lm(object, newdata, se.fit, scale = 1, type = if (type == :\n",
      "\"prediction from a rank-deficient fit may be misleading\"\n",
      "Warning message in predict.lm(object, newdata, se.fit, scale = 1, type = if (type == :\n",
      "\"prediction from a rank-deficient fit may be misleading\"\n",
      "Warning message in predict.lm(object, newdata, se.fit, scale = 1, type = if (type == :\n",
      "\"prediction from a rank-deficient fit may be misleading\"\n",
      "Warning message in predict.lm(object, newdata, se.fit, scale = 1, type = if (type == :\n",
      "\"prediction from a rank-deficient fit may be misleading\"\n",
      "Warning message in predict.lm(object, newdata, se.fit, scale = 1, type = if (type == :\n",
      "\"prediction from a rank-deficient fit may be misleading\"\n",
      "Warning message in predict.lm(object, newdata, se.fit, scale = 1, type = if (type == :\n",
      "\"prediction from a rank-deficient fit may be misleading\"\n",
      "Warning message in predict.lm(object, newdata, se.fit, scale = 1, type = if (type == :\n",
      "\"prediction from a rank-deficient fit may be misleading\"\n",
      "Warning message in predict.lm(object, newdata, se.fit, scale = 1, type = if (type == :\n",
      "\"prediction from a rank-deficient fit may be misleading\"\n",
      "Warning message in predict.lm(object, newdata, se.fit, scale = 1, type = if (type == :\n",
      "\"prediction from a rank-deficient fit may be misleading\"\n",
      "Warning message in predict.lm(object, newdata, se.fit, scale = 1, type = if (type == :\n",
      "\"prediction from a rank-deficient fit may be misleading\"\n",
      "Warning message in predict.lm(object, newdata, se.fit, scale = 1, type = if (type == :\n",
      "\"prediction from a rank-deficient fit may be misleading\"\n",
      "Warning message in predict.lm(object, newdata, se.fit, scale = 1, type = if (type == :\n",
      "\"prediction from a rank-deficient fit may be misleading\"\n",
      "Warning message in predict.lm(object, newdata, se.fit, scale = 1, type = if (type == :\n",
      "\"prediction from a rank-deficient fit may be misleading\"\n",
      "Warning message in predict.lm(object, newdata, se.fit, scale = 1, type = if (type == :\n",
      "\"prediction from a rank-deficient fit may be misleading\"\n",
      "Warning message in predict.lm(object, newdata, se.fit, scale = 1, type = if (type == :\n",
      "\"prediction from a rank-deficient fit may be misleading\"\n",
      "Warning message in predict.lm(object, newdata, se.fit, scale = 1, type = if (type == :\n",
      "\"prediction from a rank-deficient fit may be misleading\"\n",
      "Warning message in predict.lm(object, newdata, se.fit, scale = 1, type = if (type == :\n",
      "\"prediction from a rank-deficient fit may be misleading\"\n",
      "Warning message in predict.lm(object, newdata, se.fit, scale = 1, type = if (type == :\n",
      "\"prediction from a rank-deficient fit may be misleading\"\n",
      "Warning message in predict.lm(object, newdata, se.fit, scale = 1, type = if (type == :\n",
      "\"prediction from a rank-deficient fit may be misleading\"\n",
      "Warning message in predict.lm(object, newdata, se.fit, scale = 1, type = if (type == :\n",
      "\"prediction from a rank-deficient fit may be misleading\"\n",
      "Warning message in predict.lm(object, newdata, se.fit, scale = 1, type = if (type == :\n",
      "\"prediction from a rank-deficient fit may be misleading\"\n",
      "Warning message in predict.lm(object, newdata, se.fit, scale = 1, type = if (type == :\n",
      "\"prediction from a rank-deficient fit may be misleading\"\n",
      "Warning message in predict.lm(object, newdata, se.fit, scale = 1, type = if (type == :\n",
      "\"prediction from a rank-deficient fit may be misleading\"\n",
      "Warning message in predict.lm(object, newdata, se.fit, scale = 1, type = if (type == :\n",
      "\"prediction from a rank-deficient fit may be misleading\"\n",
      "Warning message in predict.lm(object, newdata, se.fit, scale = 1, type = if (type == :\n",
      "\"prediction from a rank-deficient fit may be misleading\"\n",
      "Warning message in predict.lm(object, newdata, se.fit, scale = 1, type = if (type == :\n",
      "\"prediction from a rank-deficient fit may be misleading\"\n",
      "Warning message in predict.lm(object, newdata, se.fit, scale = 1, type = if (type == :\n",
      "\"prediction from a rank-deficient fit may be misleading\"\n",
      "Warning message in predict.lm(object, newdata, se.fit, scale = 1, type = if (type == :\n",
      "\"prediction from a rank-deficient fit may be misleading\"\n",
      "Warning message in predict.lm(object, newdata, se.fit, scale = 1, type = if (type == :\n",
      "\"prediction from a rank-deficient fit may be misleading\"\n",
      "Warning message in predict.lm(object, newdata, se.fit, scale = 1, type = if (type == :\n",
      "\"prediction from a rank-deficient fit may be misleading\"\n",
      "Warning message in predict.lm(object, newdata, se.fit, scale = 1, type = if (type == :\n",
      "\"prediction from a rank-deficient fit may be misleading\"\n",
      "Warning message in predict.lm(object, newdata, se.fit, scale = 1, type = if (type == :\n",
      "\"prediction from a rank-deficient fit may be misleading\"\n",
      "Warning message in predict.lm(object, newdata, se.fit, scale = 1, type = if (type == :\n",
      "\"prediction from a rank-deficient fit may be misleading\"\n",
      "Warning message in predict.lm(object, newdata, se.fit, scale = 1, type = if (type == :\n",
      "\"prediction from a rank-deficient fit may be misleading\"\n",
      "Warning message in predict.lm(object, newdata, se.fit, scale = 1, type = if (type == :\n",
      "\"prediction from a rank-deficient fit may be misleading\"\n",
      "Warning message in predict.lm(object, newdata, se.fit, scale = 1, type = if (type == :\n",
      "\"prediction from a rank-deficient fit may be misleading\"\n",
      "Warning message in predict.lm(object, newdata, se.fit, scale = 1, type = if (type == :\n",
      "\"prediction from a rank-deficient fit may be misleading\"\n",
      "Warning message in predict.lm(object, newdata, se.fit, scale = 1, type = if (type == :\n",
      "\"prediction from a rank-deficient fit may be misleading\"\n",
      "Warning message in predict.lm(object, newdata, se.fit, scale = 1, type = if (type == :\n",
      "\"prediction from a rank-deficient fit may be misleading\"\n",
      "Warning message in predict.lm(object, newdata, se.fit, scale = 1, type = if (type == :\n",
      "\"prediction from a rank-deficient fit may be misleading\"\n",
      "Warning message in predict.lm(object, newdata, se.fit, scale = 1, type = if (type == :\n",
      "\"prediction from a rank-deficient fit may be misleading\"\n",
      "Warning message in predict.lm(object, newdata, se.fit, scale = 1, type = if (type == :\n",
      "\"prediction from a rank-deficient fit may be misleading\"\n",
      "Warning message in predict.lm(object, newdata, se.fit, scale = 1, type = if (type == :\n",
      "\"prediction from a rank-deficient fit may be misleading\"\n",
      "Warning message in predict.lm(object, newdata, se.fit, scale = 1, type = if (type == :\n",
      "\"prediction from a rank-deficient fit may be misleading\"\n",
      "Warning message in predict.lm(object, newdata, se.fit, scale = 1, type = if (type == :\n",
      "\"prediction from a rank-deficient fit may be misleading\"\n",
      "Warning message in predict.lm(object, newdata, se.fit, scale = 1, type = if (type == :\n",
      "\"prediction from a rank-deficient fit may be misleading\"\n",
      "Warning message in predict.lm(object, newdata, se.fit, scale = 1, type = if (type == :\n",
      "\"prediction from a rank-deficient fit may be misleading\"\n",
      "\u001b[1m\u001b[1mLMTP Estimator\u001b[1m\u001b[22m: TMLE\n",
      "\n",
      "\u001b[1m\u001b[1mTrt. Policy\u001b[1m\u001b[22m: \u001b[34m\u001b[3m(static_binary_on)\u001b[23m\u001b[39m\n",
      "\n",
      "\u001b[1m\u001b[1mPopulation intervention effect\u001b[1m\u001b[22m\n",
      "\n"
     ]
    },
    {
     "name": "stderr",
     "output_type": "stream",
     "text": [
      "\u001b[1m\u001b[1mEstimate\u001b[1m\u001b[22m: -0.2889\n",
      "\n",
      "\u001b[1m\u001b[1mStd. error\u001b[1m\u001b[22m: 0.0431\n",
      "\n",
      "\u001b[1m\u001b[1m95% CI\u001b[1m\u001b[22m: (-0.3733, -0.2045)\n",
      "\n"
     ]
    },
    {
     "data": {
      "text/plain": [
       "\n",
       "   \n",
       "                  "
      ]
     },
     "metadata": {},
     "output_type": "display_data"
    }
   ],
   "source": [
    "library(twang)\n",
    "data(iptwExWide)\n",
    "\n",
    "a <- paste0(\"tx\", 1:3)\n",
    "baseline <- c(\"gender\", \"age\")\n",
    "tv <- list(c(\"use0\"), c(\"use1\"), c(\"use2\"))\n",
    "progressr::with_progress({\n",
    "    psi3.1 <- lmtp_tmle(iptwExWide, a, \"outcome\", baseline = baseline, time_vary = tv,\n",
    "        shift = static_binary_on, outcome_type = \"continuous\", folds = 2)\n",
    "})\n",
    "psi3.1"
   ]
  },
  {
   "cell_type": "code",
   "execution_count": 11,
   "id": "c1b5f3d0",
   "metadata": {},
   "outputs": [
    {
     "data": {
      "text/html": [
       "<table class=\"dataframe\">\n",
       "<caption>A data.frame: 6 × 7</caption>\n",
       "<thead>\n",
       "\t<tr><th></th><th scope=col>L1</th><th scope=col>A1</th><th scope=col>C1</th><th scope=col>L2</th><th scope=col>A2</th><th scope=col>C2</th><th scope=col>Y</th></tr>\n",
       "\t<tr><th></th><th scope=col>&lt;int&gt;</th><th scope=col>&lt;dbl&gt;</th><th scope=col>&lt;int&gt;</th><th scope=col>&lt;int&gt;</th><th scope=col>&lt;dbl&gt;</th><th scope=col>&lt;dbl&gt;</th><th scope=col>&lt;int&gt;</th></tr>\n",
       "</thead>\n",
       "<tbody>\n",
       "\t<tr><th scope=row>1</th><td>0</td><td> 0.7930531</td><td>1</td><td>0</td><td> 0.4098544</td><td>1</td><td>0</td></tr>\n",
       "\t<tr><th scope=row>2</th><td>1</td><td> 3.9568969</td><td>1</td><td>1</td><td> 7.1306144</td><td>1</td><td>1</td></tr>\n",
       "\t<tr><th scope=row>3</th><td>0</td><td>-0.9803504</td><td>1</td><td>0</td><td>-2.7858973</td><td>1</td><td>0</td></tr>\n",
       "\t<tr><th scope=row>4</th><td>1</td><td> 0.8833268</td><td>1</td><td>1</td><td> 1.1372421</td><td>1</td><td>1</td></tr>\n",
       "\t<tr><th scope=row>5</th><td>1</td><td> 3.1666751</td><td>1</td><td>1</td><td> 7.4640462</td><td>1</td><td>1</td></tr>\n",
       "\t<tr><th scope=row>6</th><td>1</td><td> 3.5393771</td><td>1</td><td>1</td><td> 9.5161813</td><td>1</td><td>1</td></tr>\n",
       "</tbody>\n",
       "</table>\n"
      ],
      "text/latex": [
       "A data.frame: 6 × 7\n",
       "\\begin{tabular}{r|lllllll}\n",
       "  & L1 & A1 & C1 & L2 & A2 & C2 & Y\\\\\n",
       "  & <int> & <dbl> & <int> & <int> & <dbl> & <dbl> & <int>\\\\\n",
       "\\hline\n",
       "\t1 & 0 &  0.7930531 & 1 & 0 &  0.4098544 & 1 & 0\\\\\n",
       "\t2 & 1 &  3.9568969 & 1 & 1 &  7.1306144 & 1 & 1\\\\\n",
       "\t3 & 0 & -0.9803504 & 1 & 0 & -2.7858973 & 1 & 0\\\\\n",
       "\t4 & 1 &  0.8833268 & 1 & 1 &  1.1372421 & 1 & 1\\\\\n",
       "\t5 & 1 &  3.1666751 & 1 & 1 &  7.4640462 & 1 & 1\\\\\n",
       "\t6 & 1 &  3.5393771 & 1 & 1 &  9.5161813 & 1 & 1\\\\\n",
       "\\end{tabular}\n"
      ],
      "text/markdown": [
       "\n",
       "A data.frame: 6 × 7\n",
       "\n",
       "| <!--/--> | L1 &lt;int&gt; | A1 &lt;dbl&gt; | C1 &lt;int&gt; | L2 &lt;int&gt; | A2 &lt;dbl&gt; | C2 &lt;dbl&gt; | Y &lt;int&gt; |\n",
       "|---|---|---|---|---|---|---|---|\n",
       "| 1 | 0 |  0.7930531 | 1 | 0 |  0.4098544 | 1 | 0 |\n",
       "| 2 | 1 |  3.9568969 | 1 | 1 |  7.1306144 | 1 | 1 |\n",
       "| 3 | 0 | -0.9803504 | 1 | 0 | -2.7858973 | 1 | 0 |\n",
       "| 4 | 1 |  0.8833268 | 1 | 1 |  1.1372421 | 1 | 1 |\n",
       "| 5 | 1 |  3.1666751 | 1 | 1 |  7.4640462 | 1 | 1 |\n",
       "| 6 | 1 |  3.5393771 | 1 | 1 |  9.5161813 | 1 | 1 |\n",
       "\n"
      ],
      "text/plain": [
       "  L1 A1         C1 L2 A2         C2 Y\n",
       "1 0   0.7930531 1  0   0.4098544 1  0\n",
       "2 1   3.9568969 1  1   7.1306144 1  1\n",
       "3 0  -0.9803504 1  0  -2.7858973 1  0\n",
       "4 1   0.8833268 1  1   1.1372421 1  1\n",
       "5 1   3.1666751 1  1   7.4640462 1  1\n",
       "6 1   3.5393771 1  1   9.5161813 1  1"
      ]
     },
     "metadata": {},
     "output_type": "display_data"
    }
   ],
   "source": [
    "head(sim_cens)"
   ]
  },
  {
   "cell_type": "code",
   "execution_count": 12,
   "id": "0dc735bf",
   "metadata": {},
   "outputs": [
    {
     "name": "stderr",
     "output_type": "stream",
     "text": [
      "\u001b[1m\u001b[1mLMTP Estimator\u001b[1m\u001b[22m: TMLE\n",
      "\n",
      "\u001b[1m\u001b[1mTrt. Policy\u001b[1m\u001b[22m: \u001b[34m\u001b[3m(NULL)\u001b[23m\u001b[39m\n",
      "\n",
      "\u001b[1m\u001b[1mPopulation intervention effect\u001b[1m\u001b[22m\n",
      "\n",
      "\u001b[1m\u001b[1mEstimate\u001b[1m\u001b[22m: 0.7973\n",
      "\n",
      "\u001b[1m\u001b[1mStd. error\u001b[1m\u001b[22m: 0.0129\n",
      "\n",
      "\u001b[1m\u001b[1m95% CI\u001b[1m\u001b[22m: (0.772, 0.8227)\n",
      "\n"
     ]
    },
    {
     "data": {
      "text/plain": [
       "\n",
       "   \n",
       "                  "
      ]
     },
     "metadata": {},
     "output_type": "display_data"
    }
   ],
   "source": [
    "a <- c(\"A1\", \"A2\")\n",
    "tv <- list(c(\"L1\"), c(\"L2\"))\n",
    "cens <- c(\"C1\", \"C2\")\n",
    "y <- \"Y\"\n",
    "psi4.1 <- lmtp_tmle(sim_cens, a, y, time_vary = tv, cens = cens,\n",
    "                    shift = NULL, folds = 2)\n",
    "psi4.1"
   ]
  },
  {
   "cell_type": "code",
   "execution_count": 13,
   "id": "d45ddfe8",
   "metadata": {},
   "outputs": [
    {
     "name": "stderr",
     "output_type": "stream",
     "text": [
      "\u001b[1m\u001b[1mLMTP Estimator\u001b[1m\u001b[22m: TMLE\n",
      "\n",
      "\u001b[1m\u001b[1mTrt. Policy\u001b[1m\u001b[22m: \u001b[34m\u001b[3m(d)\u001b[23m\u001b[39m\n",
      "\n",
      "\u001b[1m\u001b[1mPopulation intervention effect\u001b[1m\u001b[22m\n",
      "\n",
      "\u001b[1m\u001b[1mEstimate\u001b[1m\u001b[22m: 0.8986\n",
      "\n",
      "\u001b[1m\u001b[1mStd. error\u001b[1m\u001b[22m: 0.0094\n",
      "\n",
      "\u001b[1m\u001b[1m95% CI\u001b[1m\u001b[22m: (0.8801, 0.917)\n",
      "\n"
     ]
    },
    {
     "data": {
      "text/plain": [
       "\n",
       "   \n",
       "                  "
      ]
     },
     "metadata": {},
     "output_type": "display_data"
    }
   ],
   "source": [
    "d <- function(data, x) data[[x]] + 0.5\n",
    "psi4.2 <- lmtp_tmle(sim_cens, a, y, time_vary = tv, cens = cens,\n",
    "                    shift = d, folds = 2)\n",
    "psi4.2"
   ]
  },
  {
   "cell_type": "code",
   "execution_count": 14,
   "id": "9bcf3f68",
   "metadata": {},
   "outputs": [
    {
     "name": "stderr",
     "output_type": "stream",
     "text": [
      "Warning message in predict.lm(object, newdata, se.fit, scale = 1, type = if (type == :\n",
      "\"prediction from a rank-deficient fit may be misleading\"\n",
      "Warning message in predict.lm(object, newdata, se.fit, scale = 1, type = if (type == :\n",
      "\"prediction from a rank-deficient fit may be misleading\"\n",
      "Warning message in predict.lm(object, newdata, se.fit, scale = 1, type = if (type == :\n",
      "\"prediction from a rank-deficient fit may be misleading\"\n",
      "Warning message in predict.lm(object, newdata, se.fit, scale = 1, type = if (type == :\n",
      "\"prediction from a rank-deficient fit may be misleading\"\n",
      "Warning message in predict.lm(object, newdata, se.fit, scale = 1, type = if (type == :\n",
      "\"prediction from a rank-deficient fit may be misleading\"\n",
      "Warning message in predict.lm(object, newdata, se.fit, scale = 1, type = if (type == :\n",
      "\"prediction from a rank-deficient fit may be misleading\"\n",
      "Warning message in predict.lm(object, newdata, se.fit, scale = 1, type = if (type == :\n",
      "\"prediction from a rank-deficient fit may be misleading\"\n",
      "Warning message in predict.lm(object, newdata, se.fit, scale = 1, type = if (type == :\n",
      "\"prediction from a rank-deficient fit may be misleading\"\n",
      "Warning message in predict.lm(object, newdata, se.fit, scale = 1, type = if (type == :\n",
      "\"prediction from a rank-deficient fit may be misleading\"\n",
      "Warning message in predict.lm(object, newdata, se.fit, scale = 1, type = if (type == :\n",
      "\"prediction from a rank-deficient fit may be misleading\"\n",
      "Warning message in predict.lm(object, newdata, se.fit, scale = 1, type = if (type == :\n",
      "\"prediction from a rank-deficient fit may be misleading\"\n",
      "Warning message in predict.lm(object, newdata, se.fit, scale = 1, type = if (type == :\n",
      "\"prediction from a rank-deficient fit may be misleading\"\n",
      "Warning message in predict.lm(object, newdata, se.fit, scale = 1, type = if (type == :\n",
      "\"prediction from a rank-deficient fit may be misleading\"\n",
      "Warning message in predict.lm(object, newdata, se.fit, scale = 1, type = if (type == :\n",
      "\"prediction from a rank-deficient fit may be misleading\"\n",
      "Warning message in predict.lm(object, newdata, se.fit, scale = 1, type = if (type == :\n",
      "\"prediction from a rank-deficient fit may be misleading\"\n",
      "Warning message in predict.lm(object, newdata, se.fit, scale = 1, type = if (type == :\n",
      "\"prediction from a rank-deficient fit may be misleading\"\n",
      "Warning message in predict.lm(object, newdata, se.fit, scale = 1, type = if (type == :\n",
      "\"prediction from a rank-deficient fit may be misleading\"\n",
      "Warning message in predict.lm(object, newdata, se.fit, scale = 1, type = if (type == :\n",
      "\"prediction from a rank-deficient fit may be misleading\"\n",
      "Warning message in predict.lm(object, newdata, se.fit, scale = 1, type = if (type == :\n",
      "\"prediction from a rank-deficient fit may be misleading\"\n",
      "Warning message in predict.lm(object, newdata, se.fit, scale = 1, type = if (type == :\n",
      "\"prediction from a rank-deficient fit may be misleading\"\n",
      "Warning message in predict.lm(object, newdata, se.fit, scale = 1, type = if (type == :\n",
      "\"prediction from a rank-deficient fit may be misleading\"\n",
      "Warning message in predict.lm(object, newdata, se.fit, scale = 1, type = if (type == :\n",
      "\"prediction from a rank-deficient fit may be misleading\"\n",
      "Warning message in predict.lm(object, newdata, se.fit, scale = 1, type = if (type == :\n",
      "\"prediction from a rank-deficient fit may be misleading\"\n",
      "Warning message in predict.lm(object, newdata, se.fit, scale = 1, type = if (type == :\n",
      "\"prediction from a rank-deficient fit may be misleading\"\n",
      "Warning message in predict.lm(object, newdata, se.fit, scale = 1, type = if (type == :\n",
      "\"prediction from a rank-deficient fit may be misleading\"\n",
      "Warning message in predict.lm(object, newdata, se.fit, scale = 1, type = if (type == :\n",
      "\"prediction from a rank-deficient fit may be misleading\"\n",
      "\u001b[1m\u001b[1mLMTP Estimator\u001b[1m\u001b[22m: TMLE\n",
      "\n",
      "\u001b[1m\u001b[1mTrt. Policy\u001b[1m\u001b[22m: \u001b[34m\u001b[3m(static_binary_on)\u001b[23m\u001b[39m\n",
      "\n",
      "\u001b[1m\u001b[1mPopulation intervention effect\u001b[1m\u001b[22m\n",
      "\n",
      "\u001b[1m\u001b[1mEstimate\u001b[1m\u001b[22m: 0.1843\n",
      "\n",
      "\u001b[1m\u001b[1mStd. error\u001b[1m\u001b[22m: 0.0198\n",
      "\n",
      "\u001b[1m\u001b[1m95% CI\u001b[1m\u001b[22m: (0.1456, 0.2231)\n",
      "\n"
     ]
    },
    {
     "data": {
      "text/plain": [
       "\n",
       "   \n",
       "                  "
      ]
     },
     "metadata": {},
     "output_type": "display_data"
    }
   ],
   "source": [
    "a <- \"trt\"\n",
    "y <- paste0(\"Y.\", 1:6)\n",
    "cens <- paste0(\"C.\", 0:5)\n",
    "baseline <- c(\"W1\", \"W2\")\n",
    "progressr::with_progress({\n",
    "    psi5.1 <- lmtp_tmle(sim_point_surv, a, y, baseline, cens = cens,\n",
    "                        shift = static_binary_on, folds = 2,\n",
    "                        outcome_type = \"survival\")\n",
    "})\n",
    "psi5.1"
   ]
  },
  {
   "cell_type": "code",
   "execution_count": null,
   "id": "70485102",
   "metadata": {},
   "outputs": [],
   "source": []
  },
  {
   "cell_type": "code",
   "execution_count": 15,
   "id": "25defe73",
   "metadata": {},
   "outputs": [
    {
     "data": {
      "text/html": [
       "<dl>\n",
       "\t<dt>$trt</dt>\n",
       "\t\t<dd><ol>\n",
       "\t<li><style>\n",
       ".list-inline {list-style: none; margin:0; padding: 0}\n",
       ".list-inline>li {display: inline-block}\n",
       ".list-inline>li:not(:last-child)::after {content: \"\\00b7\"; padding: 0 .5ex}\n",
       "</style>\n",
       "<ol class=list-inline><li>'W_1'</li><li>'W_2'</li><li>'L_11'</li><li>'L_12'</li><li>'A_1'</li></ol>\n",
       "</li>\n",
       "\t<li><style>\n",
       ".list-inline {list-style: none; margin:0; padding: 0}\n",
       ".list-inline>li {display: inline-block}\n",
       ".list-inline>li:not(:last-child)::after {content: \"\\00b7\"; padding: 0 .5ex}\n",
       "</style>\n",
       "<ol class=list-inline><li>'W_1'</li><li>'W_2'</li><li>'L_11'</li><li>'L_12'</li><li>'L_21'</li><li>'L_22'</li><li>'A_1'</li><li>'A_2'</li></ol>\n",
       "</li>\n",
       "</ol>\n",
       "</dd>\n",
       "\t<dt>$outcome</dt>\n",
       "\t\t<dd><ol>\n",
       "\t<li><style>\n",
       ".list-inline {list-style: none; margin:0; padding: 0}\n",
       ".list-inline>li {display: inline-block}\n",
       ".list-inline>li:not(:last-child)::after {content: \"\\00b7\"; padding: 0 .5ex}\n",
       "</style>\n",
       "<ol class=list-inline><li>'W_1'</li><li>'W_2'</li><li>'L_11'</li><li>'L_12'</li><li>'A_1'</li></ol>\n",
       "</li>\n",
       "\t<li><style>\n",
       ".list-inline {list-style: none; margin:0; padding: 0}\n",
       ".list-inline>li {display: inline-block}\n",
       ".list-inline>li:not(:last-child)::after {content: \"\\00b7\"; padding: 0 .5ex}\n",
       "</style>\n",
       "<ol class=list-inline><li>'W_1'</li><li>'W_2'</li><li>'L_11'</li><li>'L_12'</li><li>'A_1'</li><li>'L_21'</li><li>'L_22'</li><li>'A_2'</li></ol>\n",
       "</li>\n",
       "</ol>\n",
       "</dd>\n",
       "</dl>\n"
      ],
      "text/latex": [
       "\\begin{description}\n",
       "\\item[\\$trt] \\begin{enumerate}\n",
       "\\item \\begin{enumerate*}\n",
       "\\item 'W\\_1'\n",
       "\\item 'W\\_2'\n",
       "\\item 'L\\_11'\n",
       "\\item 'L\\_12'\n",
       "\\item 'A\\_1'\n",
       "\\end{enumerate*}\n",
       "\n",
       "\\item \\begin{enumerate*}\n",
       "\\item 'W\\_1'\n",
       "\\item 'W\\_2'\n",
       "\\item 'L\\_11'\n",
       "\\item 'L\\_12'\n",
       "\\item 'L\\_21'\n",
       "\\item 'L\\_22'\n",
       "\\item 'A\\_1'\n",
       "\\item 'A\\_2'\n",
       "\\end{enumerate*}\n",
       "\n",
       "\\end{enumerate}\n",
       "\n",
       "\\item[\\$outcome] \\begin{enumerate}\n",
       "\\item \\begin{enumerate*}\n",
       "\\item 'W\\_1'\n",
       "\\item 'W\\_2'\n",
       "\\item 'L\\_11'\n",
       "\\item 'L\\_12'\n",
       "\\item 'A\\_1'\n",
       "\\end{enumerate*}\n",
       "\n",
       "\\item \\begin{enumerate*}\n",
       "\\item 'W\\_1'\n",
       "\\item 'W\\_2'\n",
       "\\item 'L\\_11'\n",
       "\\item 'L\\_12'\n",
       "\\item 'A\\_1'\n",
       "\\item 'L\\_21'\n",
       "\\item 'L\\_22'\n",
       "\\item 'A\\_2'\n",
       "\\end{enumerate*}\n",
       "\n",
       "\\end{enumerate}\n",
       "\n",
       "\\end{description}\n"
      ],
      "text/markdown": [
       "$trt\n",
       ":   1. 1. 'W_1'\n",
       "2. 'W_2'\n",
       "3. 'L_11'\n",
       "4. 'L_12'\n",
       "5. 'A_1'\n",
       "\n",
       "\n",
       "\n",
       "2. 1. 'W_1'\n",
       "2. 'W_2'\n",
       "3. 'L_11'\n",
       "4. 'L_12'\n",
       "5. 'L_21'\n",
       "6. 'L_22'\n",
       "7. 'A_1'\n",
       "8. 'A_2'\n",
       "\n",
       "\n",
       "\n",
       "\n",
       "\n",
       "\n",
       "$outcome\n",
       ":   1. 1. 'W_1'\n",
       "2. 'W_2'\n",
       "3. 'L_11'\n",
       "4. 'L_12'\n",
       "5. 'A_1'\n",
       "\n",
       "\n",
       "\n",
       "2. 1. 'W_1'\n",
       "2. 'W_2'\n",
       "3. 'L_11'\n",
       "4. 'L_12'\n",
       "5. 'A_1'\n",
       "6. 'L_21'\n",
       "7. 'L_22'\n",
       "8. 'A_2'\n",
       "\n",
       "\n",
       "\n",
       "\n",
       "\n",
       "\n",
       "\n",
       "\n"
      ],
      "text/plain": [
       "$trt\n",
       "$trt[[1]]\n",
       "[1] \"W_1\"  \"W_2\"  \"L_11\" \"L_12\" \"A_1\" \n",
       "\n",
       "$trt[[2]]\n",
       "[1] \"W_1\"  \"W_2\"  \"L_11\" \"L_12\" \"L_21\" \"L_22\" \"A_1\"  \"A_2\" \n",
       "\n",
       "\n",
       "$outcome\n",
       "$outcome[[1]]\n",
       "[1] \"W_1\"  \"W_2\"  \"L_11\" \"L_12\" \"A_1\" \n",
       "\n",
       "$outcome[[2]]\n",
       "[1] \"W_1\"  \"W_2\"  \"L_11\" \"L_12\" \"A_1\"  \"L_21\" \"L_22\" \"A_2\" \n",
       "\n"
      ]
     },
     "metadata": {},
     "output_type": "display_data"
    }
   ],
   "source": [
    "baseline <- c(\"W_1\", \"W_2\")\n",
    "trt <- c(\"A_1\", \"A_2\")\n",
    "time_vary <- list(c(\"L_11\", \"L_12\"), \n",
    "                  c(\"L_21\", \"L_22\"))\n",
    "create_node_list(trt = trt, baseline = baseline, time_vary = time_vary, tau = 2)"
   ]
  },
  {
   "cell_type": "code",
   "execution_count": 16,
   "id": "a9f55654",
   "metadata": {},
   "outputs": [],
   "source": [
    "shift <- function(data, trt) {\n",
    "  (data[[trt]] - 1) * (data[[trt]] - 1 >= 1) + data[[trt]] * (data[[trt]] - 1 < 1)\n",
    "}"
   ]
  },
  {
   "cell_type": "code",
   "execution_count": 17,
   "id": "f55ca514",
   "metadata": {},
   "outputs": [
    {
     "name": "stderr",
     "output_type": "stream",
     "text": [
      "Warning message:\n",
      "\"Some of your variables appear to be factors. Make sure your SuperLearner library is capable of handling factors!\"\n",
      "Warning message in Ops.ordered(data[[trt]], 1):\n",
      "\"'-' is not meaningful for ordered factors\"\n",
      "Warning message in Ops.ordered(data[[trt]], 1):\n",
      "\"'-' is not meaningful for ordered factors\"\n",
      "Warning message in Ops.ordered(data[[trt]], 1):\n",
      "\"'-' is not meaningful for ordered factors\"\n",
      "Warning message in Ops.ordered(data[[trt]], (data[[trt]] - 1 < 1)):\n",
      "\"'*' is not meaningful for ordered factors\"\n",
      "Warning message in Ops.ordered(data[[trt]], 1):\n",
      "\"'-' is not meaningful for ordered factors\"\n",
      "Warning message in Ops.ordered(data[[trt]], 1):\n",
      "\"'-' is not meaningful for ordered factors\"\n",
      "Warning message in Ops.ordered(data[[trt]], 1):\n",
      "\"'-' is not meaningful for ordered factors\"\n",
      "Warning message in Ops.ordered(data[[trt]], (data[[trt]] - 1 < 1)):\n",
      "\"'*' is not meaningful for ordered factors\"\n",
      "Warning message in Ops.ordered(data[[trt]], 1):\n",
      "\"'-' is not meaningful for ordered factors\"\n",
      "Warning message in Ops.ordered(data[[trt]], 1):\n",
      "\"'-' is not meaningful for ordered factors\"\n",
      "Warning message in Ops.ordered(data[[trt]], 1):\n",
      "\"'-' is not meaningful for ordered factors\"\n",
      "Warning message in Ops.ordered(data[[trt]], (data[[trt]] - 1 < 1)):\n",
      "\"'*' is not meaningful for ordered factors\"\n",
      "Warning message in Ops.ordered(data[[trt]], 1):\n",
      "\"'-' is not meaningful for ordered factors\"\n",
      "Warning message in Ops.ordered(data[[trt]], 1):\n",
      "\"'-' is not meaningful for ordered factors\"\n",
      "Warning message in Ops.ordered(data[[trt]], 1):\n",
      "\"'-' is not meaningful for ordered factors\"\n",
      "Warning message in Ops.ordered(data[[trt]], (data[[trt]] - 1 < 1)):\n",
      "\"'*' is not meaningful for ordered factors\"\n",
      "Warning message in Ops.ordered(data[[trt]], 1):\n",
      "\"'-' is not meaningful for ordered factors\"\n",
      "Warning message in Ops.ordered(data[[trt]], 1):\n",
      "\"'-' is not meaningful for ordered factors\"\n",
      "Warning message in Ops.ordered(data[[trt]], 1):\n",
      "\"'-' is not meaningful for ordered factors\"\n",
      "Warning message in Ops.ordered(data[[trt]], (data[[trt]] - 1 < 1)):\n",
      "\"'*' is not meaningful for ordered factors\"\n",
      "Warning message in Ops.ordered(data[[trt]], 1):\n",
      "\"'-' is not meaningful for ordered factors\"\n",
      "Warning message in Ops.ordered(data[[trt]], 1):\n",
      "\"'-' is not meaningful for ordered factors\"\n",
      "Warning message in Ops.ordered(data[[trt]], 1):\n",
      "\"'-' is not meaningful for ordered factors\"\n",
      "Warning message in Ops.ordered(data[[trt]], (data[[trt]] - 1 < 1)):\n",
      "\"'*' is not meaningful for ordered factors\"\n"
     ]
    },
    {
     "ename": "ERROR",
     "evalue": "Error in SuperLearner::SuperLearner(Y, X, family = family[[1]], SL.library = learners, : missing data is currently not supported. Check Y, X, and newX for missing values\n",
     "output_type": "error",
     "traceback": [
      "Error in SuperLearner::SuperLearner(Y, X, family = family[[1]], SL.library = learners, : missing data is currently not supported. Check Y, X, and newX for missing values\nTraceback:\n",
      "1. lmtp_sdr(sim_t4, A, \"Y\", time_vary = L, k = 0, shift = shift, \n .     folds = 5)",
      "2. cf_r(meta$data, shift, folds, meta$trt, cens, meta$risk, meta$tau, \n .     meta$node_list$trt, learners_trt, pb, meta$weights_r, .SL_folds)",
      "3. future::value(out)",
      "4. value.list(out)",
      "5. resolve(y, result = TRUE, stdout = stdout, signal = signal, force = TRUE)",
      "6. resolve.list(y, result = TRUE, stdout = stdout, signal = signal, \n .     force = TRUE)",
      "7. signalConditionsASAP(obj, resignal = FALSE, pos = ii)",
      "8. signalConditions(obj, exclude = getOption(\"future.relay.immediate\", \n .     \"immediateCondition\"), resignal = resignal, ...)"
     ]
    }
   ],
   "source": [
    "A <- c(\"A_1\", \"A_2\", \"A_3\", \"A_4\")\n",
    "L <- list(c(\"L_1\"), c(\"L_2\"), c(\"L_3\"), c(\"L_4\"))\n",
    "lmtp_sdr(sim_t4, A, \"Y\", time_vary = L, k = 0, shift = shift, folds = 5)"
   ]
  },
  {
   "cell_type": "code",
   "execution_count": null,
   "id": "f5431afb",
   "metadata": {},
   "outputs": [],
   "source": []
  }
 ],
 "metadata": {
  "kernelspec": {
   "display_name": "R",
   "language": "R",
   "name": "ir"
  },
  "language_info": {
   "codemirror_mode": "r",
   "file_extension": ".r",
   "mimetype": "text/x-r-source",
   "name": "R",
   "pygments_lexer": "r",
   "version": "4.1.0"
  },
  "toc": {
   "base_numbering": 1,
   "nav_menu": {},
   "number_sections": true,
   "sideBar": true,
   "skip_h1_title": false,
   "title_cell": "Table of Contents",
   "title_sidebar": "Contents",
   "toc_cell": false,
   "toc_position": {},
   "toc_section_display": true,
   "toc_window_display": false
  },
  "varInspector": {
   "cols": {
    "lenName": 16,
    "lenType": 16,
    "lenVar": 40
   },
   "kernels_config": {
    "python": {
     "delete_cmd_postfix": "",
     "delete_cmd_prefix": "del ",
     "library": "var_list.py",
     "varRefreshCmd": "print(var_dic_list())"
    },
    "r": {
     "delete_cmd_postfix": ") ",
     "delete_cmd_prefix": "rm(",
     "library": "var_list.r",
     "varRefreshCmd": "cat(var_dic_list()) "
    }
   },
   "types_to_exclude": [
    "module",
    "function",
    "builtin_function_or_method",
    "instance",
    "_Feature"
   ],
   "window_display": false
  }
 },
 "nbformat": 4,
 "nbformat_minor": 5
}
